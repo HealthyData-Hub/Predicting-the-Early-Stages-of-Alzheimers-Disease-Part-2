{
 "cells": [
  {
   "cell_type": "markdown",
   "metadata": {},
   "source": [
    "# Predicting the Early Stages of Alzheimer's Disease to Potentially\n",
    "# Prevent or Delay the Development of Dementia - Part 2\n",
    "\n",
    "## Utilising the Multi-Class, Single Label, CNN (Convolutional Neural Networks) Versus  DCGAN (Generative Model) Architecture \n",
    "\n"
   ]
  },
  {
   "cell_type": "markdown",
   "metadata": {
    "id": "jcdUTkKvSNUM"
   },
   "source": [
    "## 1. Introduction\n",
    "Alzheimer’s disease (AD) is the most common cause of dementia. Dementia is the name for a set of symptoms that includes memory loss and difficulties with thinking, problem-solving or language. Dementia develops when the brain is damaged by diseases, including AD. It's a physical disease that affects the brain. It is named after Alois Alzheimer, the doctor who first described it.\n",
    "\n",
    "The brain is made up of billions of nerve cells that connect to each other. In AD, connections between these cells are lost. This is because proteins build up and form abnormal structures called ‘plaques’ and ‘tangles’. Eventually nerve cells die and brain tissue is lost.\n",
    "\n",
    "The brain also contains important chemicals that help to send signals between cells. People with Alzheimer’s have less of some of these ‘chemical messengers’ in their brain, so the signals are not passed on as well. There are some drug treatments for Alzheimer’s disease that can help boost the levels of some chemical messengers in the brain. This can help with some of the symptoms.\n",
    "\n",
    "Alzheimer’s is a progressive disease. This means that gradually, over time, more parts of the brain are damaged. As this happens, more symptoms develop, and they also get worse. More than 520,000 people in the UK have dementia caused by AD and this figure is set to rise [1].\n",
    "\n",
    "Currently, there is no effective cure for AD, but its progression can be delayed with some treatments, like the drug treatments mentioned above or clinical diagnosis mentioned in Section 2 below. Accurate and early diagnosis of AD is vital for the patient care and development of future treatment.\n",
    "\n",
    "Thus, there is a need for automatic diagnosis of certain diseases from medical images that could help medical practitioners for further assessment towards treating the illness. AD is a good example of a disease that is often misdiagnosed. And AD is caused by atrophy of certain brain regions and by brain cell death. Magnetic Resonance Imaging (MRI) scans reveal this information but atrophied regions are different for different individuals which makes the diagnosis a bit more trickier and often gets misdiagnosed [2].\n",
    "\n"
   ]
  },
  {
   "cell_type": "markdown",
   "metadata": {
    "id": "PSDmnO8vxPuM"
   },
   "source": [
    "## 2. Objectives\n",
    "\n",
    "**Clinical Diagnosis of Alzheimers Disease**\n",
    "\n",
    "As stated previously, although no disease-modifying agents are capable of reversing the initial pathological changes are currently available, it may be possible to prevent or delay the development of dementia in a proportion of the population by modifying exposure to common risk factors. In other individuals, diagnosing the disease or risk of disease early is still valuable so that the individual and their carers have time to make choices and plan for the future, and to allow access to treatments that can help manage symptoms.\n",
    "\n",
    "The positive benefits of receiving an early Alzheimer’s disease diagnosis to the patient are that it provides an explanation for the symptoms and signs they are experiencing and puts an end to their suspicions. An early diagnosis and subsequent access to the right services and support can help people take control of their condition, live independently in their own home for longer, and maintain a good quality of life for themselves, their family and carers [3].\n",
    "\n",
    "**Magnetic Resonance Imaging (MRI) in the Diagnosis and Prognosis of Alzheimers Disease**\n",
    "\n",
    "The uncertainty inherent in a clinical diagnosis of AD has driven a search for diagnostic imaging markers.  An obvious strength of MRI is its availability. A testament to its value in diagnosis in dementia is the fact that European and U.S. guidelines recommend that all subjects with cognitive decline undergo structural imaging (MRI or CT) and that it is part of proposed diagnostic criteria for AD and for other dementias. In most centers, MRI is regarded as an essential investigation in dementia — a marker of its utility.\n",
    "\n",
    "MRI is safe and as it does not involve ionizing radiation individuals can be imaged serially without concerns about carcinogenicity. MRI offers a range of different sequences that can probe different tissue characteristics providing multiple clinical and research measures in the same session. Atrophy as an outcome measure has strengths over clinical measures because it is not subject to practice effects or (realistically) to floor or ceiling effects, and it theoretically has a greater ability to detect disease slowing [4].\n",
    "\n",
    "Among several deep-learning techniques that have been applied to assessing structural brain changes on MRI is the convolutional neural network (CNN). This has gained popularity due to its superb efficiency in automated feature learning with the use of a variety of multilayer perceptrons [5].\n",
    "\n",
    "An Alzheimer's MRI produces 3D imaging of the hippocampus, clearly showing how many cells are present and how big it is. The Alzheimer's Disease Brain Comparison is illustrated below [6]:\n",
    "\n",
    "![title](alzheimers_disease_brain_comparison.png)\n",
    "\n",
    "Therefore, having a deep learning model that detects AD in the early stages can allow longer life expactancy from the patient as well as higher life quality overall from the slowdown of dementia.\n",
    "\n",
    "Thus, our objective is to:\n",
    "\n",
    "To provide a complete pipeline to develop a deep learning model. More specifically, deep learning for computer vision (2D).  Using a multiclass image classification (single label) deep learning model that can predict what stage (refer below) of Alzheimer's a patient is, from their MRI image:\n",
    "\n",
    "- Mild Demented \n",
    "\n",
    "- Moderate Demented\n",
    "\n",
    "- Non Demented\n",
    "\n",
    "- Very Mild Demented\n",
    "\n",
    "This study will focus on CNN (Convolutional Neural Networks), as the preferred deep learning method and architecture. We'll also trial a DCGAN network.\n"
   ]
  },
  {
   "cell_type": "raw",
   "metadata": {},
   "source": []
  },
  {
   "cell_type": "markdown",
   "metadata": {
    "id": "jfNyN0Z0xPuN"
   },
   "source": [
    "## 3. Dataset\n",
    "\n",
    "The dataset was retrieved from Kaggle [7]. A platform which allows users to source their data sets and explore/ build upon them (license or rules permitting). The Alzheimers Dataset contains 4 classes of MRI images:\n",
    "\n",
    "- Class 1: Mild Demented (896 Images)\n",
    "- Class 2: Moderate Demented (64 Images)\n",
    "- Class 3: Non Demented (3200 Images)\n",
    "- Class 4: Very Mild Demented (2240 Images)\n",
    "\n",
    "The original source of the data is not known, it was hand collected from various websites with each and every label verified. It provides 6400 MRI images, in .jpeg format.  This is considered a small dataset i.e. few hundreds to a few tens of thousands of images.\n",
    "\n",
    "The data has been released under the Apache 2.0 open source license, the total size of the files are 29MB and all the images are resized to 128 x 128 pixels. \n",
    "\n",
    "To summarize, this dataset has a usuability score of 8.75. Hence, it's easy enough to intepret and well documented. After some research, it is evident this is a good quality data set for the topic of implementing a neural network model (incorporating CNN and dropout layers), to predict one of the four stages of alzheimers disease, using MRI scans of the brain.\n",
    "\n",
    "Although we'll use this dataset from Kaggle, we'll use the pre-processed/ balanced (SMOTE) output from Part 1.  There are 12,800 images in the SMOTE dataset. SMOTE adds data which helps the model to learn better, however, more data requires more RAM. And since CNN architecture is more computationally expensive (compared to dense layers), it may prove more challenging to execute on the free cloud infrastructure i.e. Google Colab or Kaggle.\n",
    "\n",
    "Techniques, insights, rational and caveats behind the code are presented with Python comments and individual summaries below.\n"
   ]
  },
  {
   "cell_type": "markdown",
   "metadata": {
    "id": "EyHK3v59xPuN"
   },
   "source": [
    "## 4. Evaluation Methodology (Choosing a Measure of Success)\n",
    "\n",
    "In Deep Learning, our goal is to achieve a deep learning model that generalizes well on new unseen data or unknown data.\n",
    "\n",
    "While evaluating a model we always split our data into three sets: training, validation and test set. \n",
    "\n",
    "1. Training Data: Train with this set\n",
    "2. Validation Data: Perform evaluation with this set, to reduce overfitting\n",
    "3. Test Data: Perform the final test with this set\n",
    "\n",
    "We tune the parameters of the model according to the validation loss and validation accuracy. And we repeat this process until we get the model that best fits on the validation set. And after choosing the best model, we test or confirm our results on the testing set to get the correct accuracy, or how well our model is generalised.\n",
    "\n",
    "While developing a model, we tune the parameters of the model, whether they're hyperparameters or network’s weights. We perform this tuning, receiving the feedback signal on the performance of the model, on validation data. Tuning is a form of learning. When we, repeatedly, tune the model on the basis of the validation set, it starts leaking the information. Finally, we’ll end up with a model that performs artificially well on the validation data, which we optimized for. Now we measure the performance of our model on completely new data called test data, which tells us how well our model is generalised [11].\n",
    "   \n",
    "\n",
    "![title](model_evaluation.png)\n"
   ]
  },
  {
   "cell_type": "markdown",
   "metadata": {
    "id": "IGrDQsNLxPuO"
   },
   "source": [
    "## 5. Deciding on an Evaluation Protocol\n",
    "\n",
    "We must establish how we'll measure current progress. We can choose from one of the three options below:\n",
    "\n",
    "1. Maintaining a hold-out validation set: The way to go when we have plenty of data\n",
    "\n",
    "2. Performing K-fold cross-validation: The correct choice when we have too few samples for hold-out validation to be reliable\n",
    "\n",
    "3. Performing iterated K-fold validation: For performing highly accurate model evaluation when little data is available\n",
    "\n",
    "Hold-out validation appears to be the best evaluation protocol, as we have 12,800 images to work with and we'll evaluate on the unseen data/ hold out set."
   ]
  },
  {
   "cell_type": "markdown",
   "metadata": {
    "id": "ESXKcW9GxPuO"
   },
   "source": [
    "## 6. Data Preprocessing\n",
    "\n",
    "As we're using a 3rd party dataset, the import procedure (and code) is slighlty different from the procedure used by the default tf.keras.datasets module, for toy datasets. Hence, we require to mount the Gdrive and unzip our folders. \n",
    "\n",
    "We also need to split the four folders of files (e.g. images) into train, validation and test (dataset) folders.\n",
    "\n",
    "Please note, the concepts from Topic 5, 'Deep Learning with Python' from F. Chollet have been summarised. And the code has been slightly modified to function with our 3rd party dataset.\n"
   ]
  },
  {
   "cell_type": "code",
   "execution_count": 4,
   "metadata": {
    "id": "IqTm3iV-xPuO",
    "tags": []
   },
   "outputs": [],
   "source": [
    "#*************************************************************#\n",
    "                         #Import Libraries#\n",
    "#*************************************************************#\n",
    "\n",
    "import tensorflow as tf\n",
    "from tensorflow import keras\n",
    "import numpy as np\n",
    "import pandas as pd\n",
    "\n",
    "# for visualization\n",
    "import matplotlib.pyplot as plt, seaborn as sb\n",
    "import plotly.express as px\n",
    "import plotly.io as pio\n",
    "\n",
    "import matplotlib.pyplot as plt\n",
    "\n",
    "#for deep learning\n",
    "\n",
    "#the ImageDataGenerator class in keras provides a suite of techniques for scaling pixel values\n",
    "#in our image dataset prior to modeling. Imports data with labels easily into model\n",
    "from tensorflow.keras.preprocessing.image import ImageDataGenerator\n",
    "\n",
    "from tensorflow.keras import Sequential, Input\n",
    "from tensorflow.keras.layers import Dense, Dropout,BatchNormalization\n",
    "from tensorflow.keras import layers\n",
    "from tensorflow import keras\n",
    "from tensorflow.keras import models #required to run CNN\n",
    "from tensorflow.keras import optimizers\n",
    "import os\n",
    "from PIL import Image\n",
    "from tensorflow.keras.utils import to_categorical\n",
    "from imblearn.over_sampling import SMOTE\n",
    "from sklearn.model_selection import train_test_split\n",
    "from sklearn.metrics import confusion_matrix, ConfusionMatrixDisplay\n",
    "from sklearn.metrics import classification_report\n",
    "from keras.callbacks import EarlyStopping\n",
    "\n",
    "#for evaluation\n",
    "from sklearn.metrics import f1_score"
   ]
  },
  {
   "cell_type": "code",
   "execution_count": 5,
   "metadata": {
    "colab": {
     "base_uri": "https://localhost:8080/"
    },
    "id": "AI1Rm0jjxPuP",
    "outputId": "5fece941-2dfc-47f2-92d5-b91d5eb1cf0f",
    "tags": []
   },
   "outputs": [
    {
     "name": "stdout",
     "output_type": "stream",
     "text": [
      "Found 10240 images belonging to 4 classes.\n",
      "Found 1280 images belonging to 4 classes.\n"
     ]
    }
   ],
   "source": [
    "#Refer to reference 10, for code and background\n",
    "#The ImageDataGenerator class allows the model to receive new variations of the images at\n",
    "#each epoch\n",
    "\n",
    "#The dataset is now split between a training, test and validation set  \n",
    "\n",
    "train_datagen = ImageDataGenerator(\n",
    "      rescale=1./255)\n",
    "\n",
    "# Note that the validation data should not be augmented! Refer to Section 3 above for background\n",
    "test_datagen = ImageDataGenerator(rescale=1./255)\n",
    "\n",
    "train_generator = train_datagen.flow_from_directory(\n",
    "        # This is the target directory, pre-processed MRI images from coursework 1 stored in this location \n",
    "        \"/kaggle/input/smote-ds/new_output/train/\",\n",
    "        # All images will be resized to 128x128\n",
    "        target_size=(128, 128),\n",
    "        batch_size=20,\n",
    "        # Since we have four output labels, we use categorical_crossentropy loss\n",
    "        class_mode='categorical',color_mode='grayscale'\n",
    ")\n",
    "\n",
    "validation_generator = test_datagen.flow_from_directory(\n",
    "        \"/kaggle/input/smote-ds/new_output/val/\",\n",
    "        target_size=(128, 128),\n",
    "        batch_size=20,\n",
    "        class_mode='categorical',color_mode='grayscale')"
   ]
  },
  {
   "cell_type": "markdown",
   "metadata": {
    "id": "trn-TVo_U1os"
   },
   "source": [
    "**Pre-Processing Summary**\n",
    "\n",
    "To reiterate, we're using the pre-processed dataset from Part 1.  Hence, data is already represented as tensors, labels are already encoded to categorical, data is rescaled from above, already rebalanced using SMOTE, and no feature engineering is required."
   ]
  },
  {
   "cell_type": "markdown",
   "metadata": {
    "id": "u4MlS9pzxPuR"
   },
   "source": [
    "## 7. Baseline Performance\n",
    "\n",
    "A baseline is a model that should be both simple to set up and has a reasonable chance of providing decent results. Experimenting with them is usually quick and low cost, since implementation is widely available in popular packages.\n",
    "\n",
    "Our goal is to achieve statistical power, to develop a small model that is capable of beating a dumb baseline i.e for image classification (such as the MNIST digit dataset), anything that achieves an accuracy greater than 0.1 can be said to have statistical power.\n",
    "\n",
    "We could benchmark against the performance of our sequential dense network in Part 1. However, the architecture is different. So, we'll build a new network below, albeit a smaller, less complex one.\n",
    "\n",
    "The three key choices to build the first working model are [12]:\n",
    "\n",
    "- Last layer activation: This establishes useful constraints on the networks output.  It depends on the problem type. Softmax function returns the probabilty of each class, and is frequently used as an activation function for the last layer of a neural network dealing with a multi-class model\n",
    "\n",
    "- Loss function: This should match the type of problem we're trying to resolve. We have used categorical cross entropy due to utilising one hot encoded labels .This has no effect on model performance. Model performance will be the same in both cases if data is represented as integers or one hot encoded.\n",
    "\n",
    "- Optimization configuration: What optimizer shall we use and what is it's learning rate? For baseline models, it's safe to go with rmsprop and it's default learning rate. \n"
   ]
  },
  {
   "cell_type": "code",
   "execution_count": 12,
   "metadata": {
    "id": "wBjjvalkWeHk",
    "tags": []
   },
   "outputs": [],
   "source": [
    "#baseline - building the network\n",
    "#Convnets also contain pooling layers. They are usually used immediately after convolutional \n",
    "#layers and simplify the information from the preceding convolutional layer \n",
    "#a pooling layer also prepares a condensed feature map\n",
    "\n",
    "model = models.Sequential()#create empty network object. sequential means the network is a \n",
    "#series of transformational layers \n",
    "model.add(layers.Conv2D(32, (3,3), activation='relu', input_shape=(128, 128, 1)))#re shape of \n",
    "#1st layer, we know the MRI images are resized to 128 x 128 pixels. They're also grayscale, \n",
    "#hence one channel \n",
    "model.add(layers.MaxPooling2D((2,2)))\n",
    "model.add(layers.Conv2D(64, (3,3), activation='relu'))\n",
    "model.add(layers.MaxPooling2D((2,2)))\n",
    "model.add(layers.Conv2D(64, (3,3), activation='relu'))\n"
   ]
  },
  {
   "cell_type": "code",
   "execution_count": 13,
   "metadata": {
    "colab": {
     "base_uri": "https://localhost:8080/"
    },
    "id": "wNTCLx_OG3MT",
    "outputId": "5ad2c5f1-a484-4264-de7a-19758b1c07be",
    "tags": []
   },
   "outputs": [
    {
     "name": "stdout",
     "output_type": "stream",
     "text": [
      "Model: \"sequential_1\"\n",
      "_________________________________________________________________\n",
      " Layer (type)                Output Shape              Param #   \n",
      "=================================================================\n",
      " conv2d_3 (Conv2D)           (None, 126, 126, 32)      320       \n",
      "                                                                 \n",
      " max_pooling2d_2 (MaxPooling  (None, 63, 63, 32)       0         \n",
      " 2D)                                                             \n",
      "                                                                 \n",
      " conv2d_4 (Conv2D)           (None, 61, 61, 64)        18496     \n",
      "                                                                 \n",
      " max_pooling2d_3 (MaxPooling  (None, 30, 30, 64)       0         \n",
      " 2D)                                                             \n",
      "                                                                 \n",
      " conv2d_5 (Conv2D)           (None, 28, 28, 64)        36928     \n",
      "                                                                 \n",
      "=================================================================\n",
      "Total params: 55,744\n",
      "Trainable params: 55,744\n",
      "Non-trainable params: 0\n",
      "_________________________________________________________________\n"
     ]
    }
   ],
   "source": [
    "#A stack of 'Conv2D' and 'MaxPooling2D' layers - explanation to follow. A convnet accepts \n",
    "#input tensors of shape (excluding the batch dimension).(image_height, image_width, \n",
    "#image_channels)\n",
    "\n",
    "#Output of every Conv2D and MaxPooling2D layer is a 3D tensor of shape (height, width, channels).\n",
    "#The width and height dimensions reduce along the processing pipeline\n",
    "#Conv layer parameters: model.add(layers.Conv2D(64, (3, 3), activation='relu')). 64 channels, \n",
    "#a 3 x 3 patch (local receptive field),relu activation\n",
    "\n",
    "#The output tensor (of shape (28, 28, 64)) must be fed into a densely-connected classifier. \n",
    "#Dense layer classifiers process 1D vectors - convnet output is a 3D tensor\n",
    "\n",
    "#The activation of the layer is ready. The output tensor of shape (28, 28, 64) must be fed \n",
    "#eventually into a densely connected classifier. We know that the dense layer classifiers \n",
    "#process 1D vectors, however, the convnet output is a 3D tensor so we have a mismatch. \n",
    "\n",
    "#The solution is very simple. We require to flatten our 3d output to a one-dimensional vector,\n",
    "#and then add a few dense layers on top: Model.add( layers.flatten), will flatten our tensor \n",
    "#into 1D. Then we add a 64 unit dense layer and then finally a 4 unit dense layer, because \n",
    "#there are 4 output classes.\n",
    "\n",
    "model.summary()"
   ]
  },
  {
   "cell_type": "code",
   "execution_count": 14,
   "metadata": {
    "id": "b6nW6K19O-HU",
    "tags": []
   },
   "outputs": [],
   "source": [
    "#We require to flatten our 3D output to 1D, and then add a few Dense layers on top:\n",
    "\n",
    "model.add(layers.Flatten())\n",
    "model.add(layers.Dense(64, activation='relu'))\n",
    "model.add(layers.Dense(4, activation='softmax'))"
   ]
  },
  {
   "cell_type": "code",
   "execution_count": 15,
   "metadata": {
    "colab": {
     "base_uri": "https://localhost:8080/"
    },
    "id": "WB91lWh-PBxv",
    "outputId": "3ef9ada7-fd4f-496c-9c70-88eb899910b6",
    "tags": []
   },
   "outputs": [
    {
     "name": "stdout",
     "output_type": "stream",
     "text": [
      "Model: \"sequential_1\"\n",
      "_________________________________________________________________\n",
      " Layer (type)                Output Shape              Param #   \n",
      "=================================================================\n",
      " conv2d_3 (Conv2D)           (None, 126, 126, 32)      320       \n",
      "                                                                 \n",
      " max_pooling2d_2 (MaxPooling  (None, 63, 63, 32)       0         \n",
      " 2D)                                                             \n",
      "                                                                 \n",
      " conv2d_4 (Conv2D)           (None, 61, 61, 64)        18496     \n",
      "                                                                 \n",
      " max_pooling2d_3 (MaxPooling  (None, 30, 30, 64)       0         \n",
      " 2D)                                                             \n",
      "                                                                 \n",
      " conv2d_5 (Conv2D)           (None, 28, 28, 64)        36928     \n",
      "                                                                 \n",
      " flatten_1 (Flatten)         (None, 50176)             0         \n",
      "                                                                 \n",
      " dense_2 (Dense)             (None, 64)                3211328   \n",
      "                                                                 \n",
      " dense_3 (Dense)             (None, 4)                 260       \n",
      "                                                                 \n",
      "=================================================================\n",
      "Total params: 3,267,332\n",
      "Trainable params: 3,267,332\n",
      "Non-trainable params: 0\n",
      "_________________________________________________________________\n"
     ]
    }
   ],
   "source": [
    "#Revised model summary - can review how the dimensions of the feature maps change with every \n",
    "#successive layer\n",
    "\n",
    "#Below is the summary of the model and we end up with just over 3.2 Million trainable parameters.\n",
    "#The (28, 28, 64) convnet output is flattened into a 50176 length vector. That 50176, is 28 \n",
    "#times 28 for the patch size, and there are 64 channels, hence 28 times 28 times 64 is 50176. \n",
    "#Then it's  passed into two Dense layers\n",
    "\n",
    "model.summary()"
   ]
  },
  {
   "cell_type": "code",
   "execution_count": 16,
   "metadata": {
    "id": "Q54LrZ2GWeHk",
    "tags": []
   },
   "outputs": [],
   "source": [
    "#baseline - compiling the model\n",
    "\n",
    "model.compile(optimizer='rmsprop', #the optimizer (all sgd variants) makes parameter adjustments (layers, weights and biases) in the training loop and metrics reports on progress\n",
    "              loss='categorical_crossentropy',#how far off the network prediction is from the target/ quantifies performance\n",
    "              metrics=['accuracy'])#is the fraction of correctly classified samples\n",
    "\n",
    "#'sparse' categorical crossentropy is used when classes are represented as integers 1,2,3,4 etc\n",
    "#only categorical crossentropy is used when classes are one hot encoded i.e. 0100, 0001 and \n",
    "#so forth, such as our dataset\n"
   ]
  },
  {
   "cell_type": "code",
   "execution_count": 17,
   "metadata": {
    "colab": {
     "base_uri": "https://localhost:8080/"
    },
    "id": "PnBSGWb8WeHk",
    "outputId": "f41441a2-bafe-4090-e8c9-c990daf6cadd",
    "tags": []
   },
   "outputs": [
    {
     "name": "stdout",
     "output_type": "stream",
     "text": [
      "Epoch 1/2\n"
     ]
    },
    {
     "name": "stderr",
     "output_type": "stream",
     "text": [
      "/opt/conda/lib/python3.7/site-packages/ipykernel_launcher.py:8: UserWarning: `Model.fit_generator` is deprecated and will be removed in a future version. Please use `Model.fit`, which supports generators.\n",
      "  \n"
     ]
    },
    {
     "name": "stdout",
     "output_type": "stream",
     "text": [
      "512/512 [==============================] - 90s 175ms/step - loss: 0.7307 - accuracy: 0.6745 - val_loss: 0.4035 - val_accuracy: 0.8172\n",
      "Epoch 2/2\n",
      "512/512 [==============================] - 89s 174ms/step - loss: 0.1883 - accuracy: 0.9280 - val_loss: 0.1609 - val_accuracy: 0.9336\n"
     ]
    }
   ],
   "source": [
    "#baseline - training the network\n",
    "\n",
    "#history = model.fit(X_train,y_train,validation_data=(X_val,y_val),epochs=80, verbose=1)#callbacks=callback\n",
    "\n",
    "history = model.fit_generator(train_generator,\n",
    "                              validation_data=validation_generator,\n",
    "                              epochs=2, \n",
    "                              verbose=1)"
   ]
  },
  {
   "cell_type": "markdown",
   "metadata": {
    "id": "vOkteaThVIca"
   },
   "source": [
    "**Baseline Model Summary**\n",
    "\n",
    "From the output/execution of the above, our network is producing a training accuracy of 0.9280 and a validation accuracy of 0.9336.  This is way above the expected default of 0.1 for image classification, which is positive.  It also outperforms our dense layer model from Part 1, which had a training accuracy of 0.6514 and a validation accuracy of 0.6301. \n",
    "\n",
    "This is because CNN's are very different from the default feedforward NN's.  CNN's use kernals that seek for features on a different part of an image. Applying this kernal to different parts of an image lets us discover the same patterns on different parts of an image. Hence, they provide a better evaluation.\n",
    "\n",
    "We're also using a smaller model here i.e. less layers, which deems it less complex.\n",
    "\n",
    "Finally, this baseline helps us decide on a modelling strategy for a CNN network. However, as it's performance is slightly weaker, we have built a more complex, robust model in section 8 below.\n"
   ]
  },
  {
   "cell_type": "markdown",
   "metadata": {
    "id": "_P1hQ-VZxPuR"
   },
   "source": [
    "## 8. Scaling Up - Developing a Model that Overfits\n",
    "\n",
    "To improve our model's accuracy (for faster training), for predicting the stage of Alzheimers, we can now build a more complex network and train it on our data set. There are three scaling dimensions of a CNN:\n",
    "\n",
    "- Depth. How deep the network is, which is equivalent to the number of layers in it\n",
    "- Width. How wide the network is i.e. number of channels in a Conv layer\n",
    "- Resolution. The image resolution being passed on to a CNN. \n",
    "\n",
    "\n",
    "#### Building the Network\n",
    "\n",
    "The first line in our code below, creates a Sequential model and this is the simplest type of data structure in Keras and is basically a sequence of connected layers in a network.\n",
    "\n",
    "Our network has a depth of 11 layers.\n",
    "\n",
    "#### Compiling the Model\n",
    "\n",
    "The loss function: In our case we are using categorical cross entropy — use this loss function when our classes are mutually exclusive (e.g. when each sample belongs exactly to one class) and categorical crossentropy when one sample can have multiple classes or labels are soft probabilities (like [0.5, 0.3, 0.2]).\n",
    "\n",
    "The optimizer: we are going to use to optimise the model against the loss function is stochastic gradient descent and this will ensure the model converges on an optimum solution i.e. Keras will use the backpropagation method described above.\n",
    "\n",
    "Finally, we specify a metric that we are going to use in addition to loss to give us an idea of how well our model is working. In this case, we are using accuracy which gives an idea of how well our model is doing by giving a percentage of how many predictions match the actual class for the model we are training.\n",
    "\n",
    "#### Training the Network\n",
    "\n",
    "We initially pass in the images that we want to train the network on. We also specify the number of epochs we want to train the model with (an epoch being defined as how many times we want to pass the training data through the network for training purposes).\n",
    "\n",
    "Keras also lets us specify an optional argument, where we pass in a validation data set. If we do this, then at the end of each epoch Keras will test the performance of the network on the validation data set. This is a good way of ensuring the model isn’t overfitting, however, it doesn’t feed into the training itself [8]\n"
   ]
  },
  {
   "cell_type": "code",
   "execution_count": 18,
   "metadata": {
    "id": "Rn8ncY9-xPuR",
    "tags": []
   },
   "outputs": [],
   "source": [
    "#*************************************************************#\n",
    "                         #Building the Network#\n",
    "#*************************************************************#\n",
    "\n",
    "#Our convnet will be a stack of alternating Conv2D (with relu activation) and MaxPooling2D \n",
    "#layers. One more Conv2D + MaxPooling2D stage; augments the capacity of the network and \n",
    "#reduces the size of the feature maps so that they too large when we reach the Flatten layer\n",
    "\n",
    "#We have more layers in our bigger model i.e. 11 layers\n",
    "\n",
    "#Hence, this model is more than capable of overfitting\n",
    "\n",
    "model = models.Sequential()\n",
    "model.add(layers.Conv2D(32, (3, 3), activation='relu',\n",
    "                        input_shape=(128, 128, 1)))\n",
    "model.add(layers.MaxPooling2D((2, 2)))\n",
    "model.add(layers.Conv2D(64, (3, 3), activation='relu'))\n",
    "model.add(layers.MaxPooling2D((2, 2)))\n",
    "model.add(layers.Conv2D(128, (3, 3), activation='relu'))\n",
    "model.add(layers.MaxPooling2D((2, 2)))\n",
    "model.add(layers.Conv2D(128, (3, 3), activation='relu'))\n",
    "model.add(layers.MaxPooling2D((2, 2)))\n",
    "model.add(layers.Flatten()) \n",
    "model.add(layers.Dense(512, activation='relu'))\n",
    "model.add(layers.Dense(4, activation='softmax'))\n",
    "\n"
   ]
  },
  {
   "cell_type": "code",
   "execution_count": 19,
   "metadata": {
    "colab": {
     "base_uri": "https://localhost:8080/"
    },
    "id": "bnljEPub5mcq",
    "outputId": "583fb510-31d0-49ba-892e-f64ad70c9dd6",
    "tags": []
   },
   "outputs": [
    {
     "name": "stdout",
     "output_type": "stream",
     "text": [
      "Model: \"sequential_2\"\n",
      "_________________________________________________________________\n",
      " Layer (type)                Output Shape              Param #   \n",
      "=================================================================\n",
      " conv2d_6 (Conv2D)           (None, 126, 126, 32)      320       \n",
      "                                                                 \n",
      " max_pooling2d_4 (MaxPooling  (None, 63, 63, 32)       0         \n",
      " 2D)                                                             \n",
      "                                                                 \n",
      " conv2d_7 (Conv2D)           (None, 61, 61, 64)        18496     \n",
      "                                                                 \n",
      " max_pooling2d_5 (MaxPooling  (None, 30, 30, 64)       0         \n",
      " 2D)                                                             \n",
      "                                                                 \n",
      " conv2d_8 (Conv2D)           (None, 28, 28, 128)       73856     \n",
      "                                                                 \n",
      " max_pooling2d_6 (MaxPooling  (None, 14, 14, 128)      0         \n",
      " 2D)                                                             \n",
      "                                                                 \n",
      " conv2d_9 (Conv2D)           (None, 12, 12, 128)       147584    \n",
      "                                                                 \n",
      " max_pooling2d_7 (MaxPooling  (None, 6, 6, 128)        0         \n",
      " 2D)                                                             \n",
      "                                                                 \n",
      " flatten_2 (Flatten)         (None, 4608)              0         \n",
      "                                                                 \n",
      " dense_4 (Dense)             (None, 512)               2359808   \n",
      "                                                                 \n",
      " dense_5 (Dense)             (None, 4)                 2052      \n",
      "                                                                 \n",
      "=================================================================\n",
      "Total params: 2,602,116\n",
      "Trainable params: 2,602,116\n",
      "Non-trainable params: 0\n",
      "_________________________________________________________________\n"
     ]
    }
   ],
   "source": [
    "#128 x 128 MRI image input size is reduced to 6 x 6\n",
    "\n",
    "#The depth of the feature maps (number of channels/filters per layer) progressively increases \n",
    "#(from 32 to 128) the size of the feature maps decreases (from 126 x 126 to 6 x 6)\n",
    "\n",
    "#Increasing depth and decreasing feature size is a common convnet architectural pattern\n",
    "\n",
    "#Multi classification problem - the network ends in a single softmax unit and assigns decimal \n",
    "#probabilities to each class in a multi-class problem \n",
    "\n",
    "model.summary()"
   ]
  },
  {
   "cell_type": "code",
   "execution_count": 20,
   "metadata": {
    "colab": {
     "base_uri": "https://localhost:8080/"
    },
    "id": "z1l2tYNGxPuR",
    "outputId": "0a238302-1038-445a-d8fe-2b8b7832cabe",
    "tags": []
   },
   "outputs": [],
   "source": [
    "#*************************************************************#\n",
    "                         #Compiling the Model#\n",
    "#*************************************************************#\n",
    "\n",
    "#The training specification is made at compilation\n",
    "#The optimizer, loss function, and a monitoring metric are specified when the network is \n",
    "#compiled.\n",
    "\n",
    "model.compile(optimizer='rmsprop',\n",
    "              loss='categorical_crossentropy',\n",
    "              metrics=['accuracy'])\n",
    "\n",
    "#categorical crossentropy is the preferred loss for problems in which each sample belongs to \n",
    "#one of several classes many optimizers attempt to avoid the local optimum problem by employing\n",
    "#momentum. \n",
    "\n"
   ]
  },
  {
   "cell_type": "code",
   "execution_count": 21,
   "metadata": {
    "colab": {
     "base_uri": "https://localhost:8080/"
    },
    "id": "5XpJrmkBxPuS",
    "outputId": "84891f27-e2ef-44ed-8c5d-ab0f32944e38",
    "tags": []
   },
   "outputs": [
    {
     "name": "stdout",
     "output_type": "stream",
     "text": [
      "Epoch 1/20\n"
     ]
    },
    {
     "name": "stderr",
     "output_type": "stream",
     "text": [
      "/opt/conda/lib/python3.7/site-packages/ipykernel_launcher.py:25: UserWarning: `Model.fit_generator` is deprecated and will be removed in a future version. Please use `Model.fit`, which supports generators.\n"
     ]
    },
    {
     "name": "stdout",
     "output_type": "stream",
     "text": [
      "512/512 [==============================] - 102s 197ms/step - loss: 0.8790 - accuracy: 0.5754 - val_loss: 0.4927 - val_accuracy: 0.7852\n",
      "Epoch 2/20\n",
      "512/512 [==============================] - 101s 197ms/step - loss: 0.3493 - accuracy: 0.8548 - val_loss: 0.2359 - val_accuracy: 0.8906\n",
      "Epoch 3/20\n",
      "512/512 [==============================] - 101s 197ms/step - loss: 0.1618 - accuracy: 0.9403 - val_loss: 0.2135 - val_accuracy: 0.9062\n",
      "Epoch 4/20\n",
      "512/512 [==============================] - 101s 197ms/step - loss: 0.0836 - accuracy: 0.9718 - val_loss: 0.0999 - val_accuracy: 0.9633\n",
      "Epoch 5/20\n",
      "512/512 [==============================] - 102s 198ms/step - loss: 0.0604 - accuracy: 0.9798 - val_loss: 0.1813 - val_accuracy: 0.9422\n",
      "Epoch 6/20\n",
      "512/512 [==============================] - 100s 196ms/step - loss: 0.0495 - accuracy: 0.9857 - val_loss: 0.0557 - val_accuracy: 0.9805\n",
      "Epoch 7/20\n",
      "512/512 [==============================] - 100s 196ms/step - loss: 0.0446 - accuracy: 0.9869 - val_loss: 0.1902 - val_accuracy: 0.9594\n",
      "Epoch 8/20\n",
      "512/512 [==============================] - 100s 195ms/step - loss: 0.0319 - accuracy: 0.9899 - val_loss: 0.0343 - val_accuracy: 0.9906\n",
      "Epoch 9/20\n",
      "512/512 [==============================] - 100s 194ms/step - loss: 0.0281 - accuracy: 0.9920 - val_loss: 0.0539 - val_accuracy: 0.9883\n",
      "Epoch 10/20\n",
      "512/512 [==============================] - 100s 195ms/step - loss: 0.0287 - accuracy: 0.9924 - val_loss: 0.0303 - val_accuracy: 0.9945\n",
      "Epoch 11/20\n",
      "512/512 [==============================] - 100s 195ms/step - loss: 0.0198 - accuracy: 0.9934 - val_loss: 0.0403 - val_accuracy: 0.9898\n",
      "Epoch 12/20\n",
      "512/512 [==============================] - 99s 194ms/step - loss: 0.0174 - accuracy: 0.9948 - val_loss: 0.0498 - val_accuracy: 0.9906\n",
      "Epoch 13/20\n",
      "512/512 [==============================] - 99s 194ms/step - loss: 0.0282 - accuracy: 0.9926 - val_loss: 0.0583 - val_accuracy: 0.9883\n",
      "Epoch 14/20\n",
      "512/512 [==============================] - 99s 194ms/step - loss: 0.0269 - accuracy: 0.9944 - val_loss: 0.0995 - val_accuracy: 0.9812\n",
      "Epoch 15/20\n",
      "512/512 [==============================] - 99s 194ms/step - loss: 0.0236 - accuracy: 0.9945 - val_loss: 0.0941 - val_accuracy: 0.9836\n",
      "Epoch 16/20\n",
      "512/512 [==============================] - 99s 194ms/step - loss: 0.0201 - accuracy: 0.9943 - val_loss: 0.0282 - val_accuracy: 0.9953\n",
      "Epoch 17/20\n",
      "512/512 [==============================] - 99s 194ms/step - loss: 0.0221 - accuracy: 0.9948 - val_loss: 0.0484 - val_accuracy: 0.9859\n",
      "Epoch 18/20\n",
      "512/512 [==============================] - 99s 194ms/step - loss: 0.0182 - accuracy: 0.9954 - val_loss: 0.0143 - val_accuracy: 0.9937\n",
      "Epoch 19/20\n",
      "512/512 [==============================] - 99s 194ms/step - loss: 0.0131 - accuracy: 0.9969 - val_loss: 0.0789 - val_accuracy: 0.9898\n",
      "Epoch 20/20\n",
      "512/512 [==============================] - 99s 194ms/step - loss: 0.0202 - accuracy: 0.9947 - val_loss: 0.1635 - val_accuracy: 0.9742\n"
     ]
    }
   ],
   "source": [
    "#*************************************************************#\n",
    "                         #Training the Network#\n",
    "#*************************************************************#\n",
    "\n",
    "#Train the model for 20 epochs with the Keras Model.fit method:\n",
    "\n",
    "#there are accuracy and loss metrics for both the training and validation data sets. the value\n",
    "#of the accuracy is a simple percentage measure of how many items the network got right. the \n",
    "#value of loss is the cross entropy loss.\n",
    "\n",
    "#an epoch is a complete iteration over the entire training set. the loss is minimized by \n",
    "#mini-batch stochastic gradient descent, also known as SGD. weights and biases are adjusted \n",
    "#after each mini-batch has been processed\n",
    "\n",
    "#The generators yield batches of 128 x 128 grayscale images (shape (20, 128, 128, 1)) and \n",
    "#multi-class labels (shape (20,))\n",
    "\n",
    "#model.fit() will accept training and validation generators\n",
    "#fit needs to know how many samples to draw before declaring an epoch over (because the data \n",
    "#is being generated endlessly). The epochs are controlled by the steps_per_epoch parameter\n",
    "\n",
    "history = model.fit_generator(train_generator,\n",
    "                              validation_data=validation_generator,\n",
    "                              epochs=20, \n",
    "                              verbose=1)\n"
   ]
  },
  {
   "cell_type": "code",
   "execution_count": 22,
   "metadata": {
    "id": "s7S56PJAH41w",
    "tags": []
   },
   "outputs": [],
   "source": [
    "#let's save the model\n",
    "\n",
    "model.save('predict_alzheimers_disease_using_CNN.h5')"
   ]
  },
  {
   "cell_type": "code",
   "execution_count": 23,
   "metadata": {
    "id": "qlIqWCxUD5TL",
    "tags": []
   },
   "outputs": [],
   "source": [
    "#load the model\n",
    "\n",
    "model=keras.models.load_model('predict_alzheimers_disease_using_CNN.h5')"
   ]
  },
  {
   "cell_type": "code",
   "execution_count": 24,
   "metadata": {
    "colab": {
     "base_uri": "https://localhost:8080/",
     "height": 499
    },
    "id": "vVIvloGhxPuS",
    "outputId": "a02ef614-f91d-48af-d116-5b2eeb2ecbb2",
    "tags": []
   },
   "outputs": [
    {
     "data": {
      "image/png": "[encoded data removed]",
      "text/plain": [
       "<Figure size 800x800 with 2 Axes>"
      ]
     },
     "metadata": {},
     "output_type": "display_data"
    }
   ],
   "source": [
    "#******************************************************************#\n",
    "#Visualise Results with Training and Validation Accuracy/Loss Plots#\n",
    "#******************************************************************#\n",
    "\n",
    "#once the model is trained, it is possible to call its history method to get a dictionary of \n",
    "#the loss and any other metrics needed at every stage of the training\n",
    "\n",
    "#as we see from the \"Training and Validation Accuracy\" plots below, training accuracy is \n",
    "#only lightly greater than validation accuracy, with exception of the first 10 epochs, \n",
    "#(which are stabilizing) hence the result of these initial 10 epochs do not express the network \n",
    "#state very well \n",
    "\n",
    "\n",
    "\n",
    "acc = history.history['accuracy']\n",
    "val_acc = history.history['val_accuracy']\n",
    "\n",
    "loss = history.history['loss']\n",
    "val_loss = history.history['val_loss']\n",
    "\n",
    "epochs_range = range(20)\n",
    "\n",
    "plt.figure(figsize=(8, 8))\n",
    "plt.subplot(1, 2, 1)\n",
    "plt.plot(epochs_range, acc, label='Training Accuracy')\n",
    "plt.plot(epochs_range, val_acc, label='Validation Accuracy')\n",
    "plt.legend(loc='lower right')\n",
    "plt.title('Training and Validation Accuracy')\n",
    "\n",
    "plt.subplot(1, 2, 2)\n",
    "plt.plot(epochs_range, loss, label='Training Loss')\n",
    "plt.plot(epochs_range, val_loss, label='Validation Loss')\n",
    "plt.legend(loc='upper right')\n",
    "plt.title('Training and Validation Loss')\n",
    "plt.show()\n"
   ]
  },
  {
   "cell_type": "code",
   "execution_count": 25,
   "metadata": {
    "colab": {
     "base_uri": "https://localhost:8080/"
    },
    "id": "Ohn7ZrQGxPuS",
    "outputId": "cfdf5706-df30-42c6-b8d8-e9cc437c2814",
    "tags": []
   },
   "outputs": [
    {
     "name": "stdout",
     "output_type": "stream",
     "text": [
      "Model: \"sequential_2\"\n",
      "_________________________________________________________________\n",
      " Layer (type)                Output Shape              Param #   \n",
      "=================================================================\n",
      " conv2d_6 (Conv2D)           (None, 126, 126, 32)      320       \n",
      "                                                                 \n",
      " max_pooling2d_4 (MaxPooling  (None, 63, 63, 32)       0         \n",
      " 2D)                                                             \n",
      "                                                                 \n",
      " conv2d_7 (Conv2D)           (None, 61, 61, 64)        18496     \n",
      "                                                                 \n",
      " max_pooling2d_5 (MaxPooling  (None, 30, 30, 64)       0         \n",
      " 2D)                                                             \n",
      "                                                                 \n",
      " conv2d_8 (Conv2D)           (None, 28, 28, 128)       73856     \n",
      "                                                                 \n",
      " max_pooling2d_6 (MaxPooling  (None, 14, 14, 128)      0         \n",
      " 2D)                                                             \n",
      "                                                                 \n",
      " conv2d_9 (Conv2D)           (None, 12, 12, 128)       147584    \n",
      "                                                                 \n",
      " max_pooling2d_7 (MaxPooling  (None, 6, 6, 128)        0         \n",
      " 2D)                                                             \n",
      "                                                                 \n",
      " flatten_2 (Flatten)         (None, 4608)              0         \n",
      "                                                                 \n",
      " dense_4 (Dense)             (None, 512)               2359808   \n",
      "                                                                 \n",
      " dense_5 (Dense)             (None, 4)                 2052      \n",
      "                                                                 \n",
      "=================================================================\n",
      "Total params: 2,602,116\n",
      "Trainable params: 2,602,116\n",
      "Non-trainable params: 0\n",
      "_________________________________________________________________\n"
     ]
    }
   ],
   "source": [
    "#*************************************************************#\n",
    "                 #Overfitted Model Summary#\n",
    "#*************************************************************#\n",
    "\n",
    "model.summary()"
   ]
  },
  {
   "cell_type": "markdown",
   "metadata": {
    "id": "ySFkt1jwVyfc"
   },
   "source": [
    "**Overfitted Model Summary**\n",
    "\n",
    "As we see from the \"Training and Validation Accuracy\" plots above, training accuracy is greater than validation accuracy, from around 6 epochs onwards. \n",
    "\n",
    "We could possibly train this model longer as it doesn’t look like the loss has reached an absolute minimum.\n",
    "\n",
    "This is the outcome, as the model can't generalize well. Such models could mitigate overfitting with addition of dropout, which we'll demonstrate below.\n",
    "\n",
    "This means that the model will have a difficult time generalizing on a new dataset, hence we can't evaluate on the test set, just yet. Hence, we now require to increase the overall performance of the model.\n",
    "\n",
    "Finally, it can be seen from the plots and the output from training the network, that the overfitted model accuracy is better than our baseline i.e. 0.9742 verus 0.9336. However, as stated above, we now require to deal with the overfitting issue in section 9 below."
   ]
  },
  {
   "cell_type": "markdown",
   "metadata": {
    "id": "1GMRTI33xPuS"
   },
   "source": [
    "## 9. Tuning and Regularization\n",
    "\n",
    "#### Tuning\n",
    "We can use a pre-trained convnet, known as transfer learning. Our model uses the knowledge learned from a previous assignment (VGG16) to increase prediction about our task. There are two ways to deploy this pre-trained network; fine tuning and feature extraction.\n",
    "\n",
    "a) Fine-tune upper pretrained layers for better performance.\n",
    "\n",
    "Steps for fine-tuning a network:\n",
    "\n",
    "- Add the custom network on top of the pretrained base\n",
    "- Freeze the base\n",
    "- Train the custom network\n",
    "- Unfreeze some base layers\n",
    "- Jointly train these layers and the custom network\n",
    "\n",
    "b) Feature extraction means using the learned representations of trained networks to find relevant features in new datasets. We're going to extract the features from this pre-trained convnet for image retrieval [10]\n",
    "\n",
    "### Dropout (Regularization Techniques)\n",
    "This is considered a small dataset (refer to Section 3 - Dataset). And overfitting is caused by having few too training samples. Overfitting means the model fits ever more closely to the specific patterns of the training set, but the model fails to generalize. The best solution is to find more training data (infinite data to be precise), but data is often limited, especially in the medical field. Hence, we have to regularize.\n",
    "\n",
    "Techniques to reduce overfitting are; network size reduction, dropout, weight decay (L2 regularization) and data augmentation. We'll focus on dropout for Coursework 2.\n",
    "\n",
    "Data augmentation (often used in computer vision) is suited in our case, where we artificially generate more training data from the existing data. However, in our case, we've already applied SMOTE from the previous coursework, so it's too computationally expensive to apply here.\n",
    "\n",
    "When you apply dropout to a layer, it randomly drops out (by setting the activation to zero) a number of output units from the layer during the training process. Dropout takes a fractional number as its input value, in the form such as 0.1, 0.2, 0.4, etc. This means dropping out 10%, 20% or 40% of the output units randomly from the applied layer\n",
    "\n",
    "Dropout is removed while evaluating the final network. The output layers of the final network need to be scaled downby the dropout rate because one-half of the layer outputwas effectively removed during training. Desired outputs will be twice as large when the network is restored to its full size and applies the test set. [9]"
   ]
  },
  {
   "cell_type": "code",
   "execution_count": 26,
   "metadata": {
    "colab": {
     "base_uri": "https://localhost:8080/"
    },
    "id": "DhByoQ8QavaT",
    "outputId": "fa7ebcd2-76d7-4071-8fd7-9e829b0ecd40",
    "tags": []
   },
   "outputs": [],
   "source": [
    "#••••Add Dropout***\n",
    "\n",
    "model = models.Sequential()\n",
    "model.add(layers.Conv2D(32, (3, 3), activation='relu',\n",
    "                        input_shape=(128, 128, 1)))\n",
    "model.add(layers.MaxPooling2D((2, 2)))\n",
    "model.add(layers.Conv2D(64, (3, 3), activation='relu'))\n",
    "model.add(layers.MaxPooling2D((2, 2)))\n",
    "model.add(layers.Conv2D(128, (3, 3), activation='relu'))\n",
    "model.add(layers.MaxPooling2D((2, 2)))\n",
    "model.add(layers.Conv2D(128, (3, 3), activation='relu'))\n",
    "model.add(layers.MaxPooling2D((2, 2)))\n",
    "model.add(layers.Flatten())\n",
    "model.add(layers.Dropout(0.5)) #additional dropout layer\n",
    "model.add(layers.Dense(512, activation='relu'))\n",
    "model.add(layers.Dense(4, activation='softmax'))\n",
    "\n",
    "#We also adjust learning rate this time. Tweak layer parameters, as the \n",
    "#smaller learning rate may allow our model to learn a globally optimal set of weights. \n",
    "#Caveat is, model will be longer to train\n",
    "\n",
    "model.compile(optimizer=optimizers.RMSprop(lr=1e-4),#better learning rate \n",
    "              loss='categorical_crossentropy',\n",
    "              metrics=['accuracy'])"
   ]
  },
  {
   "cell_type": "code",
   "execution_count": 27,
   "metadata": {
    "colab": {
     "base_uri": "https://localhost:8080/"
    },
    "id": "E23lm6hIIqu5",
    "outputId": "fe43f798-28ee-4647-9085-5f9e642d84a4",
    "tags": []
   },
   "outputs": [
    {
     "name": "stdout",
     "output_type": "stream",
     "text": [
      "Model: \"sequential_3\"\n",
      "_________________________________________________________________\n",
      " Layer (type)                Output Shape              Param #   \n",
      "=================================================================\n",
      " conv2d_10 (Conv2D)          (None, 126, 126, 32)      320       \n",
      "                                                                 \n",
      " max_pooling2d_8 (MaxPooling  (None, 63, 63, 32)       0         \n",
      " 2D)                                                             \n",
      "                                                                 \n",
      " conv2d_11 (Conv2D)          (None, 61, 61, 64)        18496     \n",
      "                                                                 \n",
      " max_pooling2d_9 (MaxPooling  (None, 30, 30, 64)       0         \n",
      " 2D)                                                             \n",
      "                                                                 \n",
      " conv2d_12 (Conv2D)          (None, 28, 28, 128)       73856     \n",
      "                                                                 \n",
      " max_pooling2d_10 (MaxPoolin  (None, 14, 14, 128)      0         \n",
      " g2D)                                                            \n",
      "                                                                 \n",
      " conv2d_13 (Conv2D)          (None, 12, 12, 128)       147584    \n",
      "                                                                 \n",
      " max_pooling2d_11 (MaxPoolin  (None, 6, 6, 128)        0         \n",
      " g2D)                                                            \n",
      "                                                                 \n",
      " flatten_3 (Flatten)         (None, 4608)              0         \n",
      "                                                                 \n",
      " dropout (Dropout)           (None, 4608)              0         \n",
      "                                                                 \n",
      " dense_6 (Dense)             (None, 512)               2359808   \n",
      "                                                                 \n",
      " dense_7 (Dense)             (None, 4)                 2052      \n",
      "                                                                 \n",
      "=================================================================\n",
      "Total params: 2,602,116\n",
      "Trainable params: 2,602,116\n",
      "Non-trainable params: 0\n",
      "_________________________________________________________________\n"
     ]
    }
   ],
   "source": [
    "model.summary()"
   ]
  },
  {
   "cell_type": "code",
   "execution_count": 28,
   "metadata": {
    "colab": {
     "base_uri": "https://localhost:8080/"
    },
    "id": "5mZ69Z_cJDXB",
    "outputId": "d1082866-5761-434c-e609-4fb4012113c6",
    "tags": []
   },
   "outputs": [
    {
     "name": "stdout",
     "output_type": "stream",
     "text": [
      "Epoch 1/20\n"
     ]
    },
    {
     "name": "stderr",
     "output_type": "stream",
     "text": [
      "/opt/conda/lib/python3.7/site-packages/ipykernel_launcher.py:4: UserWarning: `Model.fit_generator` is deprecated and will be removed in a future version. Please use `Model.fit`, which supports generators.\n",
      "  after removing the cwd from sys.path.\n"
     ]
    },
    {
     "name": "stdout",
     "output_type": "stream",
     "text": [
      "512/512 [==============================] - 102s 197ms/step - loss: 0.9855 - accuracy: 0.5243 - val_loss: 0.6016 - val_accuracy: 0.7023\n",
      "Epoch 2/20\n",
      "512/512 [==============================] - 100s 195ms/step - loss: 0.5590 - accuracy: 0.7482 - val_loss: 0.4625 - val_accuracy: 0.7867\n",
      "Epoch 3/20\n",
      "512/512 [==============================] - 100s 195ms/step - loss: 0.3667 - accuracy: 0.8416 - val_loss: 0.2164 - val_accuracy: 0.9242\n",
      "Epoch 4/20\n",
      "512/512 [==============================] - 100s 195ms/step - loss: 0.2552 - accuracy: 0.8970 - val_loss: 0.1751 - val_accuracy: 0.9211\n",
      "Epoch 5/20\n",
      "512/512 [==============================] - 100s 196ms/step - loss: 0.1822 - accuracy: 0.9277 - val_loss: 0.0917 - val_accuracy: 0.9656\n",
      "Epoch 6/20\n",
      "512/512 [==============================] - 100s 195ms/step - loss: 0.1530 - accuracy: 0.9429 - val_loss: 0.1067 - val_accuracy: 0.9547\n",
      "Epoch 7/20\n",
      "512/512 [==============================] - 100s 195ms/step - loss: 0.1190 - accuracy: 0.9578 - val_loss: 0.0479 - val_accuracy: 0.9852\n",
      "Epoch 8/20\n",
      "512/512 [==============================] - 100s 195ms/step - loss: 0.1049 - accuracy: 0.9642 - val_loss: 0.0834 - val_accuracy: 0.9750\n",
      "Epoch 9/20\n",
      "512/512 [==============================] - 100s 196ms/step - loss: 0.0886 - accuracy: 0.9676 - val_loss: 0.0504 - val_accuracy: 0.9797\n",
      "Epoch 10/20\n",
      "512/512 [==============================] - 100s 195ms/step - loss: 0.0760 - accuracy: 0.9733 - val_loss: 0.0308 - val_accuracy: 0.9914\n",
      "Epoch 11/20\n",
      "512/512 [==============================] - 100s 195ms/step - loss: 0.0771 - accuracy: 0.9745 - val_loss: 0.0239 - val_accuracy: 0.9922\n",
      "Epoch 12/20\n",
      "512/512 [==============================] - 100s 195ms/step - loss: 0.0667 - accuracy: 0.9760 - val_loss: 0.0177 - val_accuracy: 0.9937\n",
      "Epoch 13/20\n",
      "512/512 [==============================] - 100s 195ms/step - loss: 0.0683 - accuracy: 0.9770 - val_loss: 0.0382 - val_accuracy: 0.9844\n",
      "Epoch 14/20\n",
      "512/512 [==============================] - 100s 195ms/step - loss: 0.0551 - accuracy: 0.9816 - val_loss: 0.0290 - val_accuracy: 0.9914\n",
      "Epoch 15/20\n",
      "512/512 [==============================] - 101s 197ms/step - loss: 0.0514 - accuracy: 0.9828 - val_loss: 0.0136 - val_accuracy: 0.9945\n",
      "Epoch 16/20\n",
      "512/512 [==============================] - 100s 194ms/step - loss: 0.0555 - accuracy: 0.9830 - val_loss: 0.0164 - val_accuracy: 0.9945\n",
      "Epoch 17/20\n",
      "512/512 [==============================] - 99s 194ms/step - loss: 0.0533 - accuracy: 0.9850 - val_loss: 0.0262 - val_accuracy: 0.9891\n",
      "Epoch 18/20\n",
      "512/512 [==============================] - 100s 195ms/step - loss: 0.0487 - accuracy: 0.9861 - val_loss: 0.0619 - val_accuracy: 0.9844\n",
      "Epoch 19/20\n",
      "512/512 [==============================] - 100s 195ms/step - loss: 0.0531 - accuracy: 0.9846 - val_loss: 0.0437 - val_accuracy: 0.9859\n",
      "Epoch 20/20\n",
      "512/512 [==============================] - 99s 194ms/step - loss: 0.0545 - accuracy: 0.9838 - val_loss: 0.0153 - val_accuracy: 0.9945\n"
     ]
    }
   ],
   "source": [
    "history = model.fit_generator(train_generator,\n",
    "                              validation_data=validation_generator,\n",
    "                              epochs=20, \n",
    "                              verbose=1)"
   ]
  },
  {
   "cell_type": "code",
   "execution_count": 60,
   "metadata": {
    "execution": {
     "iopub.execute_input": "2023-02-25T12:43:14.143111Z",
     "iopub.status.busy": "2023-02-25T12:43:14.142743Z",
     "iopub.status.idle": "2023-02-25T12:43:14.20306Z",
     "shell.execute_reply": "2023-02-25T12:43:14.202121Z",
     "shell.execute_reply.started": "2023-02-25T12:43:14.143079Z"
    },
    "id": "aULTZpddcCGF"
   },
   "outputs": [],
   "source": [
    "#Let's save our model -- we'll be using it later for convnet visualization\n",
    "\n",
    "model.save('predict_alzheimers_disease_using_CNN2.h5')\n"
   ]
  },
  {
   "cell_type": "code",
   "execution_count": 29,
   "metadata": {
    "colab": {
     "base_uri": "https://localhost:8080/",
     "height": 499
    },
    "id": "Qaxxa0tCcRb0",
    "outputId": "68523e97-5d78-48b3-f4a7-1d97a39b7482",
    "tags": []
   },
   "outputs": [
    {
     "data": {
      "image/png": "[encoded data removed]",
      "text/plain": [
       "<Figure size 800x800 with 2 Axes>"
      ]
     },
     "metadata": {},
     "output_type": "display_data"
    }
   ],
   "source": [
    "#*******************************************************************************************************#\n",
    "#Visualise Results with Training and Validation Accuracy/Loss Plots - Post Dropout#\n",
    "#*******************************************************************************************************#\n",
    "\n",
    "#This time, the validation curve is outperforming the training curve. \n",
    "#Dropout seems to have made an immediate impact and prevented overfitting in this case\n",
    "#The better learning rate has potentially attributed to the enhanced validation accuracy\n",
    "\n",
    "#Other regularisation techniques and hyper-parameter tuning can push the accuracy higher by a \n",
    "#few per cent. However, the ultimate potential in training our own model from scratch is \n",
    "#limited because of the insuffient training data\n",
    "#Pretrained Convnets shows how models that have been trained on different, larger, datasets, \n",
    "#can be applied to the small-data problem - see next code cell below\n",
    "\n",
    "acc = history.history['accuracy']\n",
    "val_acc = history.history['val_accuracy']\n",
    "\n",
    "loss = history.history['loss']\n",
    "val_loss = history.history['val_loss']\n",
    "\n",
    "epochs_range = range(20)\n",
    "\n",
    "plt.figure(figsize=(8, 8))\n",
    "plt.subplot(1, 2, 1)\n",
    "plt.plot(epochs_range, acc, label='Training Accuracy')\n",
    "plt.plot(epochs_range, val_acc, label='Validaton Accuracy')\n",
    "\n",
    "plt.legend(loc='lower right')\n",
    "plt.title('Training Accuracy')\n",
    "\n",
    "\n",
    "plt.subplot(1, 2, 2)\n",
    "plt.plot(epochs_range, loss, label='Training Loss')\n",
    "plt.plot(epochs_range, val_loss, label='Validation Loss')\n",
    "\n",
    "plt.legend(loc='upper right')\n",
    "plt.title('Training Loss')\n",
    "plt.show()"
   ]
  },
  {
   "cell_type": "code",
   "execution_count": 25,
   "metadata": {
    "execution": {
     "iopub.execute_input": "2023-02-17T22:34:30.099505Z",
     "iopub.status.busy": "2023-02-17T22:34:30.099141Z",
     "iopub.status.idle": "2023-02-17T22:34:30.10543Z",
     "shell.execute_reply": "2023-02-17T22:34:30.104012Z",
     "shell.execute_reply.started": "2023-02-17T22:34:30.099476Z"
    },
    "id": "qF8x4NFzd9KD"
   },
   "outputs": [],
   "source": [
    "#****Using a pretrained convnet****\n",
    "\n",
    "#A pretrained network is simply a network that has been trained on a large dataset - typically,\n",
    "#a large-scale image classification task - and saved for public use\n",
    "\n",
    "#Philosophy: the pre-trained model, if it has been trained on a large and sufficiently general \n",
    "#dataset, will have learned the spatial feature hierarchy of real-world objects\n",
    "#(edges and corners, simple shapes, compound shapes)\n",
    "\n",
    "#Such a pretrained model would prove useful for many different computer vision problems - \n",
    "#even for completely different classes from those of the original task\n",
    "#For example, train a network on a dataset where the classes are mostly animals and everyday \n",
    "#objects and apply this trained network to identifying furniture\n",
    "\n",
    "#The ability of DL models to solve new, unseen problems distinguishes DL from older, shallow \n",
    "#learning techniques and it makes DL very effective for small-data problems\n",
    "\n",
    "#tensorflow.keras has several pretrained models - they have all been trained on ImageNet :\n",
    "\n",
    "# - Xception\n",
    "# - InceptionV3\n",
    "# - ResNet50\n",
    "# - VGG16\n",
    "# - VGG19\n",
    "# - MobileNet\n",
    "\n",
    "#We'll use the VGG16 architecture. It is a simple and widely used convnet architecture for \n",
    "#ImageNet. VGG16 is not necessarily the lightest and best pretrained model, \n",
    "#but the architecture is similar to our previous convnets\n"
   ]
  },
  {
   "cell_type": "code",
   "execution_count": 30,
   "metadata": {
    "id": "2L0gOj-Hd9xZ",
    "tags": []
   },
   "outputs": [
    {
     "name": "stdout",
     "output_type": "stream",
     "text": [
      "Downloading data from https://storage.googleapis.com/tensorflow/keras-applications/vgg16/vgg16_weights_tf_dim_ordering_tf_kernels_notop.h5\n",
      "58889256/58889256 [==============================] - 3s 0us/step\n"
     ]
    }
   ],
   "source": [
    "#*************************************************************#\n",
    "                         #Feature Extraction#\n",
    "#*************************************************************#\n",
    "\n",
    "#There are two ways to deploy a pre-trained network: feature extraction and fine-tuning\n",
    "\n",
    "#We start with feature extraction. Feature extraction means using the learned representations \n",
    "#of trained networks to find relevant features in new datasets\n",
    "\n",
    "#Convnets are built in two parts: a convolutional base of pooling and conv layers \n",
    "#densely-connected classifier\n",
    "\n",
    "#The base weights and biases are 'frozen' - held fixed - and the original classifier is \n",
    "#replaced with a new classifier that is more appropriate to the task in hand\n",
    "#The trained conv base extracts features;  the new classifier is trained to interpret these \n",
    "#features in terms of the new classes\n",
    "\n",
    "#Why only reuse the convolutional base? Why not use the densely-connected classifier as well?\n",
    "#Because representations learned by the convolutional base are likely to be generic; \n",
    "#those learned by the classifier are specific and non-spatial\n",
    "\n",
    "#Convnet feature maps represent generic concepts (edges, corners, objects etc) - concepts that \n",
    "#will apply to many real-world images\n",
    "\n",
    "#But representations learned by the pretrained classifier will be very specific to the classes \n",
    "#of the original training set\n",
    "\n",
    "#Convolutional layers preserve object location; densely-connected layers lose spatial \n",
    "#information. The loss of spatial information might be problematic for some tasks\n",
    "#=> disconnect pretrained classifier\n",
    "\n",
    "#The generality (and thereforereusability ) of the representations extracted by specific \n",
    "#convolution layers depends on the depth of the layer in the model\n",
    "\n",
    "#early, lower, layers extract local, highly generic feature (such as visual edges, colors, and \n",
    "#textures) higher layers extract more abstract concepts \n",
    "#use the lower layers only, and not the entire base, for datasets that differ markedly from \n",
    "#the original dataset of the trained model\n",
    "\n",
    "#The constructor takes three arguments:\n",
    "#weights, either none, imagenet or a path to a weights file\n",
    "#include_top for possible retention of the three layer densely-connected 1000 class classifier\n",
    "#input_shape, shape of input image tensor\n",
    "\n",
    "from tensorflow.keras.applications import VGG16\n",
    "\n",
    "conv_base = VGG16(weights='imagenet',\n",
    "                  include_top=False,\n",
    "                  input_shape=(128, 128, 3))\n"
   ]
  },
  {
   "cell_type": "code",
   "execution_count": 31,
   "metadata": {
    "colab": {
     "base_uri": "https://localhost:8080/"
    },
    "id": "LCCaJ-slMlJb",
    "outputId": "2242f184-603a-43fa-c7e5-00e33e052580",
    "tags": []
   },
   "outputs": [
    {
     "name": "stdout",
     "output_type": "stream",
     "text": [
      "Model: \"vgg16\"\n",
      "_________________________________________________________________\n",
      " Layer (type)                Output Shape              Param #   \n",
      "=================================================================\n",
      " input_1 (InputLayer)        [(None, 128, 128, 3)]     0         \n",
      "                                                                 \n",
      " block1_conv1 (Conv2D)       (None, 128, 128, 64)      1792      \n",
      "                                                                 \n",
      " block1_conv2 (Conv2D)       (None, 128, 128, 64)      36928     \n",
      "                                                                 \n",
      " block1_pool (MaxPooling2D)  (None, 64, 64, 64)        0         \n",
      "                                                                 \n",
      " block2_conv1 (Conv2D)       (None, 64, 64, 128)       73856     \n",
      "                                                                 \n",
      " block2_conv2 (Conv2D)       (None, 64, 64, 128)       147584    \n",
      "                                                                 \n",
      " block2_pool (MaxPooling2D)  (None, 32, 32, 128)       0         \n",
      "                                                                 \n",
      " block3_conv1 (Conv2D)       (None, 32, 32, 256)       295168    \n",
      "                                                                 \n",
      " block3_conv2 (Conv2D)       (None, 32, 32, 256)       590080    \n",
      "                                                                 \n",
      " block3_conv3 (Conv2D)       (None, 32, 32, 256)       590080    \n",
      "                                                                 \n",
      " block3_pool (MaxPooling2D)  (None, 16, 16, 256)       0         \n",
      "                                                                 \n",
      " block4_conv1 (Conv2D)       (None, 16, 16, 512)       1180160   \n",
      "                                                                 \n",
      " block4_conv2 (Conv2D)       (None, 16, 16, 512)       2359808   \n",
      "                                                                 \n",
      " block4_conv3 (Conv2D)       (None, 16, 16, 512)       2359808   \n",
      "                                                                 \n",
      " block4_pool (MaxPooling2D)  (None, 8, 8, 512)         0         \n",
      "                                                                 \n",
      " block5_conv1 (Conv2D)       (None, 8, 8, 512)         2359808   \n",
      "                                                                 \n",
      " block5_conv2 (Conv2D)       (None, 8, 8, 512)         2359808   \n",
      "                                                                 \n",
      " block5_conv3 (Conv2D)       (None, 8, 8, 512)         2359808   \n",
      "                                                                 \n",
      " block5_pool (MaxPooling2D)  (None, 4, 4, 512)         0         \n",
      "                                                                 \n",
      "=================================================================\n",
      "Total params: 14,714,688\n",
      "Trainable params: 14,714,688\n",
      "Non-trainable params: 0\n",
      "_________________________________________________________________\n"
     ]
    }
   ],
   "source": [
    "#detail of the architecture of the VGG16 convolutional base: very similar to simple convnets\n",
    "\n",
    "conv_base.summary()"
   ]
  },
  {
   "cell_type": "code",
   "execution_count": 32,
   "metadata": {
    "id": "VAqLQTeSM9QO",
    "tags": []
   },
   "outputs": [],
   "source": [
    "#The densely-connected classifier must accept the (4, 4, 512) output of the final feature map \n",
    "#(seen in the above output)\n",
    "\n",
    "# 1. Extract then train \n",
    "#run the convolutional base over MRI dataset and save output as a Numpy array\n",
    "#use the processed features as input to a standalone densely-connected classifier\n",
    "#Similar to training a classifier on a set of 4 x 4 'images' of 512 channels \n",
    "\n",
    "#Extract-then-train is very fast because it only requires running the convolutional base once \n",
    "#for every input image (the convolutional base is by far the most expensive part of the \n",
    "#pipeline). But this technique would prohibit data augmentation\n",
    "\n",
    "# 2. Extract and train\n",
    "#add Dense layers on top of conv_base\n",
    "#running the whole thing end-to-end on the input data\n",
    "#Every input image is going through the convolutional base every time it is seen by the model \n",
    "#- so we can use data augmentation\n",
    "#But this technique is computationally intense\n",
    "\n",
    "#Let's look at option 1 (recording the outputs of conv_base on our data and using these outputs \n",
    "#as inputs to a new model)\n",
    "#extract features by calling the predict method of conv_base\n",
    "#define a dense classifier and train on the extracted features\n",
    "\n",
    "import os\n",
    "import numpy as np\n",
    "from tensorflow.keras.preprocessing.image import ImageDataGenerator\n",
    "\n",
    "base_dir =\"/kaggle/input/smote-ds/new_output/\" #  dataset_path \n",
    "\n",
    "train_dir = os.path.join(base_dir, 'train')\n",
    "validation_dir = os.path.join(base_dir, 'val')\n",
    "test_dir = os.path.join(base_dir, 'test')\n",
    "\n",
    "datagen = ImageDataGenerator(rescale=1./255)\n",
    "batch_size = 20\n",
    "\n",
    "def extract_features(directory, sample_count):\n",
    "    features = np.zeros(shape=(sample_count, 4, 4, 512))\n",
    "    labels = np.zeros(shape=(sample_count,4))\n",
    "    generator = datagen.flow_from_directory(\n",
    "        directory,\n",
    "        target_size=(128, 128),\n",
    "        batch_size=batch_size,\n",
    "        class_mode='categorical')\n",
    "    i = 0\n",
    "    for inputs_batch, labels_batch in generator:\n",
    "        features_batch = conv_base.predict(inputs_batch)\n",
    "        features[i * batch_size : (i + 1) * batch_size] = features_batch\n",
    "        labels[i * batch_size : (i + 1) * batch_size] = labels_batch\n",
    "        i += 1\n",
    "        if i * batch_size >= sample_count:\n",
    "            # Note that since generators yield data indefinitely in a loop,\n",
    "            # we must `break` after every image has been seen once.\n",
    "            break\n",
    "    return features, labels"
   ]
  },
  {
   "cell_type": "code",
   "execution_count": 33,
   "metadata": {
    "colab": {
     "base_uri": "https://localhost:8080/"
    },
    "id": "ft1gdjwnM9tu",
    "outputId": "aa089cc7-8a56-419a-842f-f970b7a99bf5",
    "tags": []
   },
   "outputs": [
    {
     "name": "stdout",
     "output_type": "stream",
     "text": [
      "Found 10240 images belonging to 4 classes.\n",
      "1/1 [==============================] - 1s 746ms/step\n",
      "1/1 [==============================] - 1s 575ms/step\n",
      "1/1 [==============================] - 1s 565ms/step\n",
      "1/1 [==============================] - 1s 565ms/step\n",
      "1/1 [==============================] - 1s 563ms/step\n",
      "1/1 [==============================] - 1s 562ms/step\n",
      "1/1 [==============================] - 1s 561ms/step\n",
      "1/1 [==============================] - 1s 566ms/step\n",
      "1/1 [==============================] - 1s 567ms/step\n",
      "1/1 [==============================] - 1s 569ms/step\n",
      "1/1 [==============================] - 1s 564ms/step\n",
      "1/1 [==============================] - 1s 571ms/step\n",
      "1/1 [==============================] - 1s 571ms/step\n",
      "1/1 [==============================] - 1s 587ms/step\n",
      "1/1 [==============================] - 1s 650ms/step\n",
      "1/1 [==============================] - 1s 655ms/step\n",
      "1/1 [==============================] - 1s 647ms/step\n",
      "1/1 [==============================] - 1s 642ms/step\n",
      "1/1 [==============================] - 1s 630ms/step\n",
      "1/1 [==============================] - 1s 569ms/step\n",
      "1/1 [==============================] - 1s 566ms/step\n",
      "1/1 [==============================] - 1s 568ms/step\n",
      "1/1 [==============================] - 1s 566ms/step\n",
      "1/1 [==============================] - 1s 560ms/step\n",
      "1/1 [==============================] - 1s 570ms/step\n",
      "1/1 [==============================] - 1s 563ms/step\n",
      "1/1 [==============================] - 1s 568ms/step\n",
      "1/1 [==============================] - 1s 563ms/step\n",
      "1/1 [==============================] - 1s 582ms/step\n",
      "1/1 [==============================] - 1s 570ms/step\n",
      "1/1 [==============================] - 1s 565ms/step\n",
      "1/1 [==============================] - 1s 568ms/step\n",
      "1/1 [==============================] - 1s 562ms/step\n",
      "1/1 [==============================] - 1s 562ms/step\n",
      "1/1 [==============================] - 1s 568ms/step\n",
      "1/1 [==============================] - 1s 565ms/step\n",
      "1/1 [==============================] - 1s 565ms/step\n",
      "1/1 [==============================] - 1s 569ms/step\n",
      "1/1 [==============================] - 1s 564ms/step\n",
      "1/1 [==============================] - 1s 564ms/step\n",
      "1/1 [==============================] - 1s 570ms/step\n",
      "1/1 [==============================] - 1s 566ms/step\n",
      "1/1 [==============================] - 1s 564ms/step\n",
      "1/1 [==============================] - 1s 572ms/step\n",
      "1/1 [==============================] - 1s 564ms/step\n",
      "1/1 [==============================] - 1s 571ms/step\n",
      "1/1 [==============================] - 1s 568ms/step\n",
      "1/1 [==============================] - 1s 569ms/step\n",
      "1/1 [==============================] - 1s 565ms/step\n",
      "1/1 [==============================] - 1s 564ms/step\n",
      "1/1 [==============================] - 1s 565ms/step\n",
      "1/1 [==============================] - 1s 565ms/step\n",
      "1/1 [==============================] - 1s 564ms/step\n",
      "1/1 [==============================] - 1s 568ms/step\n",
      "1/1 [==============================] - 1s 570ms/step\n",
      "1/1 [==============================] - 1s 563ms/step\n",
      "1/1 [==============================] - 1s 567ms/step\n",
      "1/1 [==============================] - 1s 569ms/step\n",
      "1/1 [==============================] - 1s 563ms/step\n",
      "1/1 [==============================] - 1s 566ms/step\n",
      "1/1 [==============================] - 1s 568ms/step\n",
      "1/1 [==============================] - 1s 569ms/step\n",
      "1/1 [==============================] - 1s 567ms/step\n",
      "1/1 [==============================] - 1s 569ms/step\n",
      "1/1 [==============================] - 1s 567ms/step\n",
      "1/1 [==============================] - 1s 563ms/step\n",
      "1/1 [==============================] - 1s 571ms/step\n",
      "1/1 [==============================] - 1s 570ms/step\n",
      "1/1 [==============================] - 1s 567ms/step\n",
      "1/1 [==============================] - 1s 562ms/step\n",
      "1/1 [==============================] - 1s 565ms/step\n",
      "1/1 [==============================] - 1s 561ms/step\n",
      "1/1 [==============================] - 1s 568ms/step\n",
      "1/1 [==============================] - 1s 564ms/step\n",
      "1/1 [==============================] - 1s 568ms/step\n",
      "1/1 [==============================] - 1s 566ms/step\n",
      "1/1 [==============================] - 1s 565ms/step\n",
      "1/1 [==============================] - 1s 667ms/step\n",
      "1/1 [==============================] - 1s 604ms/step\n",
      "1/1 [==============================] - 1s 571ms/step\n",
      "1/1 [==============================] - 1s 570ms/step\n",
      "1/1 [==============================] - 1s 567ms/step\n",
      "1/1 [==============================] - 1s 567ms/step\n",
      "1/1 [==============================] - 1s 567ms/step\n",
      "1/1 [==============================] - 1s 583ms/step\n",
      "1/1 [==============================] - 1s 581ms/step\n",
      "1/1 [==============================] - 1s 629ms/step\n",
      "1/1 [==============================] - 1s 571ms/step\n",
      "1/1 [==============================] - 1s 565ms/step\n",
      "1/1 [==============================] - 1s 569ms/step\n",
      "1/1 [==============================] - 1s 569ms/step\n",
      "1/1 [==============================] - 1s 573ms/step\n",
      "1/1 [==============================] - 1s 563ms/step\n",
      "1/1 [==============================] - 1s 564ms/step\n",
      "1/1 [==============================] - 1s 564ms/step\n",
      "1/1 [==============================] - 1s 567ms/step\n",
      "1/1 [==============================] - 1s 571ms/step\n",
      "1/1 [==============================] - 1s 567ms/step\n",
      "1/1 [==============================] - 1s 568ms/step\n",
      "1/1 [==============================] - 1s 571ms/step\n",
      "1/1 [==============================] - 1s 563ms/step\n",
      "1/1 [==============================] - 1s 569ms/step\n",
      "1/1 [==============================] - 1s 569ms/step\n",
      "1/1 [==============================] - 1s 563ms/step\n",
      "1/1 [==============================] - 1s 568ms/step\n",
      "1/1 [==============================] - 1s 558ms/step\n",
      "1/1 [==============================] - 1s 564ms/step\n",
      "1/1 [==============================] - 1s 565ms/step\n",
      "1/1 [==============================] - 1s 635ms/step\n",
      "1/1 [==============================] - 1s 636ms/step\n",
      "1/1 [==============================] - 1s 650ms/step\n",
      "1/1 [==============================] - 1s 631ms/step\n",
      "1/1 [==============================] - 1s 648ms/step\n",
      "1/1 [==============================] - 1s 613ms/step\n",
      "1/1 [==============================] - 1s 571ms/step\n",
      "1/1 [==============================] - 1s 564ms/step\n",
      "1/1 [==============================] - 1s 566ms/step\n",
      "1/1 [==============================] - 1s 570ms/step\n",
      "1/1 [==============================] - 1s 571ms/step\n",
      "1/1 [==============================] - 1s 569ms/step\n",
      "1/1 [==============================] - 1s 561ms/step\n",
      "1/1 [==============================] - 1s 562ms/step\n",
      "1/1 [==============================] - 1s 564ms/step\n",
      "1/1 [==============================] - 1s 573ms/step\n",
      "1/1 [==============================] - 1s 579ms/step\n",
      "1/1 [==============================] - 1s 570ms/step\n",
      "1/1 [==============================] - 1s 568ms/step\n",
      "1/1 [==============================] - 1s 565ms/step\n",
      "1/1 [==============================] - 1s 566ms/step\n",
      "1/1 [==============================] - 1s 567ms/step\n",
      "1/1 [==============================] - 1s 566ms/step\n",
      "1/1 [==============================] - 1s 565ms/step\n",
      "1/1 [==============================] - 1s 572ms/step\n",
      "1/1 [==============================] - 1s 568ms/step\n",
      "1/1 [==============================] - 1s 560ms/step\n",
      "1/1 [==============================] - 1s 562ms/step\n",
      "1/1 [==============================] - 1s 564ms/step\n",
      "1/1 [==============================] - 1s 560ms/step\n",
      "1/1 [==============================] - 1s 563ms/step\n",
      "1/1 [==============================] - 1s 562ms/step\n",
      "1/1 [==============================] - 1s 565ms/step\n",
      "1/1 [==============================] - 1s 568ms/step\n",
      "1/1 [==============================] - 1s 562ms/step\n",
      "1/1 [==============================] - 1s 565ms/step\n",
      "1/1 [==============================] - 1s 565ms/step\n",
      "1/1 [==============================] - 1s 563ms/step\n",
      "1/1 [==============================] - 1s 564ms/step\n",
      "1/1 [==============================] - 1s 565ms/step\n",
      "1/1 [==============================] - 1s 568ms/step\n",
      "1/1 [==============================] - 1s 568ms/step\n",
      "1/1 [==============================] - 1s 569ms/step\n",
      "1/1 [==============================] - 1s 569ms/step\n",
      "1/1 [==============================] - 1s 567ms/step\n",
      "1/1 [==============================] - 1s 570ms/step\n",
      "1/1 [==============================] - 1s 573ms/step\n",
      "1/1 [==============================] - 1s 561ms/step\n",
      "1/1 [==============================] - 1s 571ms/step\n",
      "1/1 [==============================] - 1s 566ms/step\n",
      "1/1 [==============================] - 1s 572ms/step\n",
      "1/1 [==============================] - 1s 572ms/step\n",
      "1/1 [==============================] - 1s 566ms/step\n",
      "1/1 [==============================] - 1s 566ms/step\n",
      "1/1 [==============================] - 1s 563ms/step\n",
      "1/1 [==============================] - 1s 562ms/step\n",
      "1/1 [==============================] - 1s 567ms/step\n",
      "1/1 [==============================] - 1s 560ms/step\n",
      "1/1 [==============================] - 1s 563ms/step\n",
      "1/1 [==============================] - 1s 563ms/step\n",
      "1/1 [==============================] - 1s 569ms/step\n",
      "1/1 [==============================] - 1s 564ms/step\n",
      "1/1 [==============================] - 1s 568ms/step\n",
      "1/1 [==============================] - 1s 562ms/step\n",
      "1/1 [==============================] - 1s 571ms/step\n",
      "1/1 [==============================] - 1s 651ms/step\n",
      "1/1 [==============================] - 1s 613ms/step\n",
      "1/1 [==============================] - 1s 570ms/step\n",
      "1/1 [==============================] - 1s 566ms/step\n",
      "1/1 [==============================] - 1s 566ms/step\n",
      "1/1 [==============================] - 1s 571ms/step\n",
      "1/1 [==============================] - 1s 568ms/step\n",
      "1/1 [==============================] - 1s 569ms/step\n",
      "1/1 [==============================] - 1s 573ms/step\n",
      "1/1 [==============================] - 1s 572ms/step\n",
      "1/1 [==============================] - 1s 565ms/step\n",
      "1/1 [==============================] - 1s 575ms/step\n",
      "1/1 [==============================] - 1s 568ms/step\n",
      "1/1 [==============================] - 1s 569ms/step\n",
      "1/1 [==============================] - 1s 564ms/step\n",
      "1/1 [==============================] - 1s 573ms/step\n",
      "1/1 [==============================] - 1s 570ms/step\n",
      "1/1 [==============================] - 1s 567ms/step\n",
      "1/1 [==============================] - 1s 566ms/step\n",
      "1/1 [==============================] - 1s 562ms/step\n",
      "1/1 [==============================] - 1s 563ms/step\n",
      "1/1 [==============================] - 1s 566ms/step\n",
      "1/1 [==============================] - 1s 570ms/step\n",
      "1/1 [==============================] - 1s 570ms/step\n",
      "1/1 [==============================] - 1s 572ms/step\n",
      "1/1 [==============================] - 1s 564ms/step\n",
      "1/1 [==============================] - 1s 566ms/step\n",
      "1/1 [==============================] - 1s 566ms/step\n",
      "1/1 [==============================] - 1s 571ms/step\n",
      "1/1 [==============================] - 1s 571ms/step\n",
      "1/1 [==============================] - 1s 640ms/step\n",
      "1/1 [==============================] - 1s 637ms/step\n",
      "1/1 [==============================] - 1s 651ms/step\n",
      "1/1 [==============================] - 1s 634ms/step\n",
      "1/1 [==============================] - 1s 645ms/step\n",
      "1/1 [==============================] - 1s 591ms/step\n",
      "1/1 [==============================] - 1s 561ms/step\n",
      "1/1 [==============================] - 1s 566ms/step\n",
      "1/1 [==============================] - 1s 563ms/step\n",
      "1/1 [==============================] - 1s 570ms/step\n",
      "1/1 [==============================] - 1s 571ms/step\n",
      "1/1 [==============================] - 1s 568ms/step\n",
      "1/1 [==============================] - 1s 570ms/step\n",
      "1/1 [==============================] - 1s 573ms/step\n",
      "1/1 [==============================] - 1s 571ms/step\n",
      "1/1 [==============================] - 1s 571ms/step\n",
      "1/1 [==============================] - 1s 565ms/step\n",
      "1/1 [==============================] - 1s 572ms/step\n",
      "1/1 [==============================] - 1s 571ms/step\n",
      "1/1 [==============================] - 1s 570ms/step\n",
      "1/1 [==============================] - 1s 567ms/step\n",
      "1/1 [==============================] - 1s 572ms/step\n",
      "1/1 [==============================] - 1s 570ms/step\n",
      "1/1 [==============================] - 1s 569ms/step\n",
      "1/1 [==============================] - 1s 562ms/step\n",
      "1/1 [==============================] - 1s 560ms/step\n",
      "1/1 [==============================] - 1s 562ms/step\n",
      "1/1 [==============================] - 1s 569ms/step\n",
      "1/1 [==============================] - 1s 567ms/step\n",
      "1/1 [==============================] - 1s 563ms/step\n",
      "1/1 [==============================] - 1s 572ms/step\n",
      "1/1 [==============================] - 1s 569ms/step\n",
      "1/1 [==============================] - 1s 576ms/step\n",
      "1/1 [==============================] - 1s 568ms/step\n",
      "1/1 [==============================] - 1s 572ms/step\n",
      "1/1 [==============================] - 1s 566ms/step\n",
      "1/1 [==============================] - 1s 572ms/step\n",
      "1/1 [==============================] - 1s 567ms/step\n",
      "1/1 [==============================] - 1s 565ms/step\n",
      "1/1 [==============================] - 1s 566ms/step\n",
      "1/1 [==============================] - 1s 567ms/step\n",
      "1/1 [==============================] - 1s 567ms/step\n",
      "1/1 [==============================] - 1s 569ms/step\n",
      "1/1 [==============================] - 1s 565ms/step\n",
      "1/1 [==============================] - 1s 571ms/step\n",
      "1/1 [==============================] - 1s 571ms/step\n",
      "1/1 [==============================] - 1s 568ms/step\n",
      "1/1 [==============================] - 1s 564ms/step\n",
      "1/1 [==============================] - 1s 570ms/step\n",
      "1/1 [==============================] - 1s 570ms/step\n",
      "1/1 [==============================] - 1s 561ms/step\n",
      "1/1 [==============================] - 1s 563ms/step\n",
      "1/1 [==============================] - 1s 573ms/step\n",
      "1/1 [==============================] - 1s 566ms/step\n",
      "1/1 [==============================] - 1s 567ms/step\n",
      "1/1 [==============================] - 1s 564ms/step\n",
      "1/1 [==============================] - 1s 568ms/step\n",
      "1/1 [==============================] - 1s 569ms/step\n",
      "1/1 [==============================] - 1s 569ms/step\n",
      "1/1 [==============================] - 1s 565ms/step\n",
      "1/1 [==============================] - 1s 563ms/step\n",
      "1/1 [==============================] - 1s 563ms/step\n",
      "1/1 [==============================] - 1s 561ms/step\n",
      "1/1 [==============================] - 1s 561ms/step\n",
      "1/1 [==============================] - 1s 566ms/step\n",
      "1/1 [==============================] - 1s 566ms/step\n",
      "1/1 [==============================] - 1s 653ms/step\n",
      "1/1 [==============================] - 1s 610ms/step\n",
      "1/1 [==============================] - 1s 564ms/step\n",
      "1/1 [==============================] - 1s 565ms/step\n",
      "1/1 [==============================] - 1s 568ms/step\n",
      "1/1 [==============================] - 1s 562ms/step\n",
      "1/1 [==============================] - 1s 569ms/step\n",
      "1/1 [==============================] - 1s 569ms/step\n",
      "1/1 [==============================] - 1s 570ms/step\n",
      "1/1 [==============================] - 1s 563ms/step\n",
      "1/1 [==============================] - 1s 560ms/step\n",
      "1/1 [==============================] - 1s 576ms/step\n",
      "1/1 [==============================] - 1s 566ms/step\n",
      "1/1 [==============================] - 1s 570ms/step\n",
      "1/1 [==============================] - 1s 570ms/step\n",
      "1/1 [==============================] - 1s 567ms/step\n",
      "1/1 [==============================] - 1s 580ms/step\n",
      "1/1 [==============================] - 1s 571ms/step\n",
      "1/1 [==============================] - 1s 613ms/step\n",
      "1/1 [==============================] - 1s 591ms/step\n",
      "1/1 [==============================] - 1s 571ms/step\n",
      "1/1 [==============================] - 1s 563ms/step\n",
      "1/1 [==============================] - 1s 570ms/step\n",
      "1/1 [==============================] - 1s 566ms/step\n",
      "1/1 [==============================] - 1s 564ms/step\n",
      "1/1 [==============================] - 1s 567ms/step\n",
      "1/1 [==============================] - 1s 564ms/step\n",
      "1/1 [==============================] - 1s 566ms/step\n",
      "1/1 [==============================] - 1s 560ms/step\n",
      "1/1 [==============================] - 1s 557ms/step\n",
      "1/1 [==============================] - 1s 623ms/step\n",
      "1/1 [==============================] - 1s 639ms/step\n",
      "1/1 [==============================] - 1s 641ms/step\n",
      "1/1 [==============================] - 1s 635ms/step\n",
      "1/1 [==============================] - 1s 647ms/step\n",
      "1/1 [==============================] - 1s 606ms/step\n",
      "1/1 [==============================] - 1s 562ms/step\n",
      "1/1 [==============================] - 1s 563ms/step\n",
      "1/1 [==============================] - 1s 561ms/step\n",
      "1/1 [==============================] - 1s 567ms/step\n",
      "1/1 [==============================] - 1s 561ms/step\n",
      "1/1 [==============================] - 1s 567ms/step\n",
      "1/1 [==============================] - 1s 573ms/step\n",
      "1/1 [==============================] - 1s 570ms/step\n",
      "1/1 [==============================] - 1s 570ms/step\n",
      "1/1 [==============================] - 1s 570ms/step\n",
      "1/1 [==============================] - 1s 569ms/step\n",
      "1/1 [==============================] - 1s 569ms/step\n",
      "1/1 [==============================] - 1s 581ms/step\n",
      "1/1 [==============================] - 1s 572ms/step\n",
      "1/1 [==============================] - 1s 570ms/step\n",
      "1/1 [==============================] - 1s 569ms/step\n",
      "1/1 [==============================] - 1s 565ms/step\n",
      "1/1 [==============================] - 1s 566ms/step\n",
      "1/1 [==============================] - 1s 562ms/step\n",
      "1/1 [==============================] - 1s 568ms/step\n",
      "1/1 [==============================] - 1s 567ms/step\n",
      "1/1 [==============================] - 1s 559ms/step\n",
      "1/1 [==============================] - 1s 563ms/step\n",
      "1/1 [==============================] - 1s 562ms/step\n",
      "1/1 [==============================] - 1s 568ms/step\n",
      "1/1 [==============================] - 1s 569ms/step\n",
      "1/1 [==============================] - 1s 564ms/step\n",
      "1/1 [==============================] - 1s 568ms/step\n",
      "1/1 [==============================] - 1s 560ms/step\n",
      "1/1 [==============================] - 1s 565ms/step\n",
      "1/1 [==============================] - 1s 568ms/step\n",
      "1/1 [==============================] - 1s 571ms/step\n",
      "1/1 [==============================] - 1s 572ms/step\n",
      "1/1 [==============================] - 1s 571ms/step\n",
      "1/1 [==============================] - 1s 571ms/step\n",
      "1/1 [==============================] - 1s 574ms/step\n",
      "1/1 [==============================] - 1s 572ms/step\n",
      "1/1 [==============================] - 1s 570ms/step\n",
      "1/1 [==============================] - 1s 574ms/step\n",
      "1/1 [==============================] - 1s 570ms/step\n",
      "1/1 [==============================] - 1s 570ms/step\n",
      "1/1 [==============================] - 1s 568ms/step\n",
      "1/1 [==============================] - 1s 562ms/step\n",
      "1/1 [==============================] - 1s 565ms/step\n",
      "1/1 [==============================] - 1s 563ms/step\n",
      "1/1 [==============================] - 1s 572ms/step\n",
      "1/1 [==============================] - 1s 575ms/step\n",
      "1/1 [==============================] - 1s 573ms/step\n",
      "1/1 [==============================] - 1s 571ms/step\n",
      "1/1 [==============================] - 1s 565ms/step\n",
      "1/1 [==============================] - 1s 564ms/step\n",
      "1/1 [==============================] - 1s 568ms/step\n",
      "1/1 [==============================] - 1s 560ms/step\n",
      "1/1 [==============================] - 1s 569ms/step\n",
      "1/1 [==============================] - 1s 565ms/step\n",
      "1/1 [==============================] - 1s 562ms/step\n",
      "1/1 [==============================] - 1s 562ms/step\n",
      "1/1 [==============================] - 1s 572ms/step\n",
      "1/1 [==============================] - 1s 563ms/step\n",
      "1/1 [==============================] - 1s 567ms/step\n",
      "1/1 [==============================] - 1s 643ms/step\n",
      "1/1 [==============================] - 1s 622ms/step\n",
      "1/1 [==============================] - 1s 570ms/step\n",
      "1/1 [==============================] - 1s 563ms/step\n",
      "1/1 [==============================] - 1s 574ms/step\n",
      "1/1 [==============================] - 1s 571ms/step\n",
      "1/1 [==============================] - 1s 570ms/step\n",
      "1/1 [==============================] - 1s 566ms/step\n",
      "1/1 [==============================] - 1s 575ms/step\n",
      "1/1 [==============================] - 1s 565ms/step\n",
      "1/1 [==============================] - 1s 561ms/step\n",
      "1/1 [==============================] - 1s 562ms/step\n",
      "1/1 [==============================] - 1s 565ms/step\n",
      "1/1 [==============================] - 1s 564ms/step\n",
      "1/1 [==============================] - 1s 563ms/step\n",
      "1/1 [==============================] - 1s 561ms/step\n",
      "1/1 [==============================] - 1s 564ms/step\n",
      "1/1 [==============================] - 1s 563ms/step\n",
      "1/1 [==============================] - 1s 572ms/step\n",
      "1/1 [==============================] - 1s 569ms/step\n",
      "1/1 [==============================] - 1s 570ms/step\n",
      "1/1 [==============================] - 1s 574ms/step\n",
      "1/1 [==============================] - 1s 571ms/step\n",
      "1/1 [==============================] - 1s 571ms/step\n",
      "1/1 [==============================] - 1s 572ms/step\n",
      "1/1 [==============================] - 1s 565ms/step\n",
      "1/1 [==============================] - 1s 566ms/step\n",
      "1/1 [==============================] - 1s 573ms/step\n",
      "1/1 [==============================] - 1s 566ms/step\n",
      "1/1 [==============================] - 1s 655ms/step\n",
      "1/1 [==============================] - 1s 638ms/step\n",
      "1/1 [==============================] - 1s 648ms/step\n",
      "1/1 [==============================] - 1s 636ms/step\n",
      "1/1 [==============================] - 1s 648ms/step\n",
      "1/1 [==============================] - 1s 574ms/step\n",
      "1/1 [==============================] - 1s 567ms/step\n",
      "1/1 [==============================] - 1s 568ms/step\n",
      "1/1 [==============================] - 1s 565ms/step\n",
      "1/1 [==============================] - 1s 568ms/step\n",
      "1/1 [==============================] - 1s 569ms/step\n",
      "1/1 [==============================] - 1s 568ms/step\n",
      "1/1 [==============================] - 1s 576ms/step\n",
      "1/1 [==============================] - 1s 570ms/step\n",
      "1/1 [==============================] - 1s 568ms/step\n",
      "1/1 [==============================] - 1s 577ms/step\n",
      "1/1 [==============================] - 1s 566ms/step\n",
      "1/1 [==============================] - 1s 563ms/step\n",
      "1/1 [==============================] - 1s 562ms/step\n",
      "1/1 [==============================] - 1s 575ms/step\n",
      "1/1 [==============================] - 1s 566ms/step\n",
      "1/1 [==============================] - 1s 559ms/step\n",
      "1/1 [==============================] - 1s 565ms/step\n",
      "1/1 [==============================] - 1s 565ms/step\n",
      "1/1 [==============================] - 1s 567ms/step\n",
      "1/1 [==============================] - 1s 563ms/step\n",
      "1/1 [==============================] - 1s 567ms/step\n",
      "1/1 [==============================] - 1s 560ms/step\n",
      "1/1 [==============================] - 1s 564ms/step\n",
      "1/1 [==============================] - 1s 563ms/step\n",
      "1/1 [==============================] - 1s 560ms/step\n",
      "1/1 [==============================] - 1s 570ms/step\n",
      "1/1 [==============================] - 1s 566ms/step\n",
      "1/1 [==============================] - 1s 569ms/step\n",
      "1/1 [==============================] - 1s 565ms/step\n",
      "1/1 [==============================] - 1s 566ms/step\n",
      "1/1 [==============================] - 1s 571ms/step\n",
      "1/1 [==============================] - 1s 568ms/step\n",
      "1/1 [==============================] - 1s 563ms/step\n",
      "1/1 [==============================] - 1s 567ms/step\n",
      "1/1 [==============================] - 1s 565ms/step\n",
      "1/1 [==============================] - 1s 564ms/step\n",
      "1/1 [==============================] - 1s 570ms/step\n",
      "1/1 [==============================] - 1s 566ms/step\n",
      "1/1 [==============================] - 1s 568ms/step\n",
      "1/1 [==============================] - 1s 570ms/step\n",
      "1/1 [==============================] - 1s 569ms/step\n",
      "1/1 [==============================] - 1s 570ms/step\n",
      "1/1 [==============================] - 1s 568ms/step\n",
      "1/1 [==============================] - 1s 566ms/step\n",
      "1/1 [==============================] - 1s 567ms/step\n",
      "1/1 [==============================] - 1s 567ms/step\n",
      "1/1 [==============================] - 1s 564ms/step\n",
      "1/1 [==============================] - 1s 564ms/step\n",
      "1/1 [==============================] - 1s 565ms/step\n",
      "1/1 [==============================] - 1s 565ms/step\n",
      "1/1 [==============================] - 1s 565ms/step\n",
      "1/1 [==============================] - 1s 567ms/step\n",
      "1/1 [==============================] - 1s 565ms/step\n",
      "1/1 [==============================] - 1s 567ms/step\n",
      "1/1 [==============================] - 1s 568ms/step\n",
      "1/1 [==============================] - 1s 569ms/step\n",
      "1/1 [==============================] - 1s 571ms/step\n",
      "1/1 [==============================] - 1s 567ms/step\n",
      "1/1 [==============================] - 1s 573ms/step\n",
      "1/1 [==============================] - 1s 566ms/step\n",
      "1/1 [==============================] - 1s 565ms/step\n",
      "1/1 [==============================] - 1s 644ms/step\n",
      "1/1 [==============================] - 1s 616ms/step\n",
      "1/1 [==============================] - 1s 563ms/step\n",
      "1/1 [==============================] - 1s 568ms/step\n",
      "1/1 [==============================] - 1s 566ms/step\n",
      "1/1 [==============================] - 1s 568ms/step\n",
      "1/1 [==============================] - 1s 565ms/step\n",
      "1/1 [==============================] - 1s 570ms/step\n",
      "1/1 [==============================] - 1s 564ms/step\n",
      "1/1 [==============================] - 1s 572ms/step\n",
      "1/1 [==============================] - 1s 567ms/step\n",
      "1/1 [==============================] - 1s 561ms/step\n",
      "1/1 [==============================] - 1s 564ms/step\n",
      "1/1 [==============================] - 1s 576ms/step\n",
      "1/1 [==============================] - 1s 568ms/step\n",
      "1/1 [==============================] - 1s 572ms/step\n",
      "1/1 [==============================] - 1s 566ms/step\n",
      "1/1 [==============================] - 1s 573ms/step\n",
      "1/1 [==============================] - 1s 572ms/step\n",
      "1/1 [==============================] - 1s 571ms/step\n",
      "1/1 [==============================] - 1s 570ms/step\n",
      "1/1 [==============================] - 1s 575ms/step\n",
      "1/1 [==============================] - 1s 566ms/step\n",
      "1/1 [==============================] - 1s 569ms/step\n",
      "1/1 [==============================] - 1s 571ms/step\n",
      "1/1 [==============================] - 1s 573ms/step\n",
      "1/1 [==============================] - 1s 584ms/step\n",
      "1/1 [==============================] - 1s 622ms/step\n",
      "1/1 [==============================] - 1s 727ms/step\n",
      "1/1 [==============================] - 1s 659ms/step\n",
      "1/1 [==============================] - 1s 637ms/step\n",
      "1/1 [==============================] - 1s 648ms/step\n",
      "1/1 [==============================] - 1s 601ms/step\n",
      "1/1 [==============================] - 1s 566ms/step\n",
      "1/1 [==============================] - 1s 568ms/step\n",
      "1/1 [==============================] - 1s 563ms/step\n",
      "1/1 [==============================] - 1s 566ms/step\n",
      "1/1 [==============================] - 1s 564ms/step\n",
      "1/1 [==============================] - 1s 565ms/step\n",
      "1/1 [==============================] - 1s 564ms/step\n",
      "1/1 [==============================] - 1s 572ms/step\n",
      "1/1 [==============================] - 1s 569ms/step\n",
      "1/1 [==============================] - 1s 572ms/step\n",
      "1/1 [==============================] - 1s 567ms/step\n",
      "1/1 [==============================] - 1s 566ms/step\n",
      "1/1 [==============================] - 1s 562ms/step\n",
      "1/1 [==============================] - 1s 567ms/step\n",
      "1/1 [==============================] - 1s 578ms/step\n",
      "1/1 [==============================] - 1s 572ms/step\n",
      "1/1 [==============================] - 1s 568ms/step\n",
      "1/1 [==============================] - 1s 567ms/step\n",
      "Found 1280 images belonging to 4 classes.\n",
      "1/1 [==============================] - 1s 568ms/step\n",
      "1/1 [==============================] - 1s 572ms/step\n",
      "1/1 [==============================] - 1s 568ms/step\n",
      "1/1 [==============================] - 1s 564ms/step\n",
      "1/1 [==============================] - 1s 560ms/step\n",
      "1/1 [==============================] - 1s 560ms/step\n",
      "1/1 [==============================] - 1s 563ms/step\n",
      "1/1 [==============================] - 1s 560ms/step\n",
      "1/1 [==============================] - 1s 569ms/step\n",
      "1/1 [==============================] - 1s 563ms/step\n",
      "1/1 [==============================] - 1s 560ms/step\n",
      "1/1 [==============================] - 1s 566ms/step\n",
      "1/1 [==============================] - 1s 560ms/step\n",
      "1/1 [==============================] - 1s 559ms/step\n",
      "1/1 [==============================] - 1s 563ms/step\n",
      "1/1 [==============================] - 1s 562ms/step\n",
      "1/1 [==============================] - 1s 562ms/step\n",
      "1/1 [==============================] - 1s 568ms/step\n",
      "1/1 [==============================] - 1s 562ms/step\n",
      "1/1 [==============================] - 1s 564ms/step\n",
      "1/1 [==============================] - 1s 574ms/step\n",
      "1/1 [==============================] - 1s 572ms/step\n",
      "1/1 [==============================] - 1s 569ms/step\n",
      "1/1 [==============================] - 1s 567ms/step\n",
      "1/1 [==============================] - 1s 565ms/step\n",
      "1/1 [==============================] - 1s 565ms/step\n",
      "1/1 [==============================] - 1s 568ms/step\n",
      "1/1 [==============================] - 1s 567ms/step\n",
      "1/1 [==============================] - 1s 566ms/step\n",
      "1/1 [==============================] - 1s 564ms/step\n",
      "1/1 [==============================] - 1s 561ms/step\n",
      "1/1 [==============================] - 1s 569ms/step\n",
      "1/1 [==============================] - 1s 570ms/step\n",
      "1/1 [==============================] - 1s 567ms/step\n",
      "1/1 [==============================] - 1s 568ms/step\n",
      "1/1 [==============================] - 1s 572ms/step\n",
      "1/1 [==============================] - 1s 566ms/step\n",
      "1/1 [==============================] - 1s 564ms/step\n",
      "1/1 [==============================] - 1s 566ms/step\n",
      "1/1 [==============================] - 1s 567ms/step\n",
      "1/1 [==============================] - 1s 570ms/step\n",
      "1/1 [==============================] - 1s 571ms/step\n",
      "1/1 [==============================] - 1s 568ms/step\n",
      "1/1 [==============================] - 1s 569ms/step\n",
      "1/1 [==============================] - 1s 568ms/step\n",
      "1/1 [==============================] - 1s 667ms/step\n",
      "1/1 [==============================] - 1s 597ms/step\n",
      "1/1 [==============================] - 1s 574ms/step\n",
      "1/1 [==============================] - 1s 569ms/step\n",
      "1/1 [==============================] - 1s 573ms/step\n",
      "1/1 [==============================] - 1s 566ms/step\n",
      "1/1 [==============================] - 1s 569ms/step\n",
      "1/1 [==============================] - 1s 560ms/step\n",
      "1/1 [==============================] - 1s 567ms/step\n",
      "1/1 [==============================] - 1s 563ms/step\n",
      "1/1 [==============================] - 1s 564ms/step\n",
      "1/1 [==============================] - 1s 567ms/step\n",
      "1/1 [==============================] - 1s 569ms/step\n",
      "1/1 [==============================] - 1s 565ms/step\n",
      "1/1 [==============================] - 1s 570ms/step\n",
      "1/1 [==============================] - 1s 569ms/step\n",
      "1/1 [==============================] - 1s 566ms/step\n",
      "1/1 [==============================] - 1s 562ms/step\n",
      "1/1 [==============================] - 1s 564ms/step\n",
      "Found 1280 images belonging to 4 classes.\n",
      "1/1 [==============================] - 1s 562ms/step\n",
      "1/1 [==============================] - 1s 564ms/step\n",
      "1/1 [==============================] - 1s 565ms/step\n",
      "1/1 [==============================] - 1s 571ms/step\n",
      "1/1 [==============================] - 1s 565ms/step\n",
      "1/1 [==============================] - 1s 563ms/step\n",
      "1/1 [==============================] - 1s 578ms/step\n",
      "1/1 [==============================] - 1s 646ms/step\n",
      "1/1 [==============================] - 1s 652ms/step\n",
      "1/1 [==============================] - 1s 647ms/step\n",
      "1/1 [==============================] - 1s 638ms/step\n",
      "1/1 [==============================] - 1s 631ms/step\n",
      "1/1 [==============================] - 1s 586ms/step\n",
      "1/1 [==============================] - 1s 573ms/step\n",
      "1/1 [==============================] - 1s 562ms/step\n",
      "1/1 [==============================] - 1s 570ms/step\n",
      "1/1 [==============================] - 1s 572ms/step\n",
      "1/1 [==============================] - 1s 567ms/step\n",
      "1/1 [==============================] - 1s 568ms/step\n",
      "1/1 [==============================] - 1s 570ms/step\n",
      "1/1 [==============================] - 1s 573ms/step\n",
      "1/1 [==============================] - 1s 577ms/step\n",
      "1/1 [==============================] - 1s 571ms/step\n",
      "1/1 [==============================] - 1s 578ms/step\n",
      "1/1 [==============================] - 1s 574ms/step\n",
      "1/1 [==============================] - 1s 576ms/step\n",
      "1/1 [==============================] - 1s 574ms/step\n",
      "1/1 [==============================] - 1s 574ms/step\n",
      "1/1 [==============================] - 1s 599ms/step\n",
      "1/1 [==============================] - 1s 576ms/step\n",
      "1/1 [==============================] - 1s 575ms/step\n",
      "1/1 [==============================] - 1s 572ms/step\n",
      "1/1 [==============================] - 1s 572ms/step\n",
      "1/1 [==============================] - 1s 573ms/step\n",
      "1/1 [==============================] - 1s 577ms/step\n",
      "1/1 [==============================] - 1s 572ms/step\n",
      "1/1 [==============================] - 1s 571ms/step\n",
      "1/1 [==============================] - 1s 573ms/step\n",
      "1/1 [==============================] - 1s 571ms/step\n",
      "1/1 [==============================] - 1s 568ms/step\n",
      "1/1 [==============================] - 1s 575ms/step\n",
      "1/1 [==============================] - 1s 573ms/step\n",
      "1/1 [==============================] - 1s 574ms/step\n",
      "1/1 [==============================] - 1s 579ms/step\n",
      "1/1 [==============================] - 1s 577ms/step\n",
      "1/1 [==============================] - 1s 580ms/step\n",
      "1/1 [==============================] - 1s 581ms/step\n",
      "1/1 [==============================] - 1s 579ms/step\n",
      "1/1 [==============================] - 1s 583ms/step\n",
      "1/1 [==============================] - 1s 578ms/step\n",
      "1/1 [==============================] - 1s 583ms/step\n",
      "1/1 [==============================] - 1s 583ms/step\n",
      "1/1 [==============================] - 1s 571ms/step\n",
      "1/1 [==============================] - 1s 582ms/step\n",
      "1/1 [==============================] - 1s 591ms/step\n",
      "1/1 [==============================] - 1s 583ms/step\n",
      "1/1 [==============================] - 1s 577ms/step\n",
      "1/1 [==============================] - 1s 591ms/step\n",
      "1/1 [==============================] - 1s 581ms/step\n",
      "1/1 [==============================] - 1s 593ms/step\n",
      "1/1 [==============================] - 1s 588ms/step\n",
      "1/1 [==============================] - 1s 589ms/step\n",
      "1/1 [==============================] - 1s 583ms/step\n",
      "1/1 [==============================] - 1s 586ms/step\n"
     ]
    }
   ],
   "source": [
    "train_features, train_labels = extract_features(train_dir, 10240)#10240 training images found\n",
    "validation_features, validation_labels = extract_features(validation_dir, 1280)#1280 validation images found\n",
    "test_features, test_labels = extract_features(test_dir, 1280)"
   ]
  },
  {
   "cell_type": "code",
   "execution_count": 34,
   "metadata": {
    "id": "c_WdGOGYcoyz",
    "tags": []
   },
   "outputs": [],
   "source": [
    "#The extracted features are currently of shape (samples, 4, 4, 512)\n",
    "#Flatten to (samples, 8192) ready for input to a dense classifier\n",
    "\n",
    "train_features = np.reshape(train_features, (10240, 4 * 4 * 512))\n",
    "validation_features = np.reshape(validation_features, (1280, 4 * 4 * 512))\n",
    "test_features = np.reshape(test_features, (1280, 4 * 4 * 512))"
   ]
  },
  {
   "cell_type": "code",
   "execution_count": 41,
   "metadata": {
    "colab": {
     "base_uri": "https://localhost:8080/"
    },
    "id": "k_zAKcP8bcsJ",
    "outputId": "0f499f7a-c681-4616-a79d-a11a03181766",
    "tags": []
   },
   "outputs": [
    {
     "name": "stdout",
     "output_type": "stream",
     "text": [
      "Epoch 1/80\n"
     ]
    },
    {
     "name": "stderr",
     "output_type": "stream",
     "text": [
      "2023-02-26 11:35:47.448467: W tensorflow/tsl/framework/cpu_allocator_impl.cc:82] Allocation of 335544320 exceeds 10% of free system memory.\n"
     ]
    },
    {
     "name": "stdout",
     "output_type": "stream",
     "text": [
      "512/512 [==============================] - 5s 9ms/step - loss: 1.1975 - acc: 0.4479 - val_loss: 0.8384 - val_acc: 0.6187\n",
      "Epoch 2/80\n",
      "512/512 [==============================] - 4s 9ms/step - loss: 0.8940 - acc: 0.5679 - val_loss: 0.7452 - val_acc: 0.6391\n",
      "Epoch 3/80\n",
      "512/512 [==============================] - 4s 9ms/step - loss: 0.8369 - acc: 0.5911 - val_loss: 0.6888 - val_acc: 0.6797\n",
      "Epoch 4/80\n",
      "512/512 [==============================] - 4s 9ms/step - loss: 0.7979 - acc: 0.6179 - val_loss: 0.6127 - val_acc: 0.7188\n",
      "Epoch 5/80\n",
      "512/512 [==============================] - 4s 8ms/step - loss: 0.7751 - acc: 0.6268 - val_loss: 0.6146 - val_acc: 0.7234\n",
      "Epoch 6/80\n",
      "512/512 [==============================] - 4s 9ms/step - loss: 0.7612 - acc: 0.6297 - val_loss: 0.5937 - val_acc: 0.7234\n",
      "Epoch 7/80\n",
      "512/512 [==============================] - 4s 8ms/step - loss: 0.7332 - acc: 0.6518 - val_loss: 0.6088 - val_acc: 0.7172\n",
      "Epoch 8/80\n",
      "512/512 [==============================] - 4s 8ms/step - loss: 0.7196 - acc: 0.6602 - val_loss: 0.5363 - val_acc: 0.7742\n",
      "Epoch 9/80\n",
      "512/512 [==============================] - 4s 9ms/step - loss: 0.7069 - acc: 0.6674 - val_loss: 0.5182 - val_acc: 0.7594\n",
      "Epoch 10/80\n",
      "512/512 [==============================] - 4s 9ms/step - loss: 0.6983 - acc: 0.6745 - val_loss: 0.4916 - val_acc: 0.7891\n",
      "Epoch 11/80\n",
      "512/512 [==============================] - 4s 9ms/step - loss: 0.6889 - acc: 0.6767 - val_loss: 0.5029 - val_acc: 0.7891\n",
      "Epoch 12/80\n",
      "512/512 [==============================] - 4s 9ms/step - loss: 0.6810 - acc: 0.6835 - val_loss: 0.4795 - val_acc: 0.7797\n",
      "Epoch 13/80\n",
      "512/512 [==============================] - 4s 9ms/step - loss: 0.6727 - acc: 0.6846 - val_loss: 0.4585 - val_acc: 0.8062\n",
      "Epoch 14/80\n",
      "512/512 [==============================] - 4s 9ms/step - loss: 0.6587 - acc: 0.6916 - val_loss: 0.4761 - val_acc: 0.7852\n",
      "Epoch 15/80\n",
      "512/512 [==============================] - 4s 9ms/step - loss: 0.6527 - acc: 0.6989 - val_loss: 0.4651 - val_acc: 0.7875\n",
      "Epoch 16/80\n",
      "512/512 [==============================] - 4s 9ms/step - loss: 0.6513 - acc: 0.6949 - val_loss: 0.4648 - val_acc: 0.7922\n",
      "Epoch 17/80\n",
      "512/512 [==============================] - 4s 9ms/step - loss: 0.6437 - acc: 0.6912 - val_loss: 0.4421 - val_acc: 0.8047\n",
      "Epoch 18/80\n",
      "512/512 [==============================] - 4s 9ms/step - loss: 0.6492 - acc: 0.6993 - val_loss: 0.4222 - val_acc: 0.8086\n",
      "Epoch 19/80\n",
      "512/512 [==============================] - 4s 9ms/step - loss: 0.6477 - acc: 0.6966 - val_loss: 0.4549 - val_acc: 0.8133\n",
      "Epoch 20/80\n",
      "512/512 [==============================] - 4s 9ms/step - loss: 0.6323 - acc: 0.7016 - val_loss: 0.4683 - val_acc: 0.7898\n",
      "Epoch 21/80\n",
      "512/512 [==============================] - 4s 9ms/step - loss: 0.6299 - acc: 0.7035 - val_loss: 0.3818 - val_acc: 0.8477\n",
      "Epoch 22/80\n",
      "512/512 [==============================] - 4s 8ms/step - loss: 0.6209 - acc: 0.7087 - val_loss: 0.3903 - val_acc: 0.8477\n",
      "Epoch 23/80\n",
      "512/512 [==============================] - 4s 9ms/step - loss: 0.6311 - acc: 0.7079 - val_loss: 0.4411 - val_acc: 0.8102\n",
      "Epoch 24/80\n",
      "512/512 [==============================] - 4s 9ms/step - loss: 0.6180 - acc: 0.7079 - val_loss: 0.3892 - val_acc: 0.8414\n",
      "Epoch 25/80\n",
      "512/512 [==============================] - 4s 9ms/step - loss: 0.6127 - acc: 0.7113 - val_loss: 0.4727 - val_acc: 0.7961\n",
      "Epoch 26/80\n",
      "512/512 [==============================] - 4s 9ms/step - loss: 0.6029 - acc: 0.7141 - val_loss: 0.3665 - val_acc: 0.8516\n",
      "Epoch 27/80\n",
      "512/512 [==============================] - 4s 9ms/step - loss: 0.6010 - acc: 0.7146 - val_loss: 0.4004 - val_acc: 0.8203\n",
      "Epoch 28/80\n",
      "512/512 [==============================] - 4s 8ms/step - loss: 0.6168 - acc: 0.7120 - val_loss: 0.3876 - val_acc: 0.8445\n",
      "Epoch 29/80\n",
      "512/512 [==============================] - 4s 8ms/step - loss: 0.6116 - acc: 0.7127 - val_loss: 0.3430 - val_acc: 0.8648\n",
      "Epoch 30/80\n",
      "512/512 [==============================] - 4s 8ms/step - loss: 0.6098 - acc: 0.7184 - val_loss: 0.4028 - val_acc: 0.8320\n",
      "Epoch 31/80\n",
      "512/512 [==============================] - 5s 9ms/step - loss: 0.6070 - acc: 0.7175 - val_loss: 0.3633 - val_acc: 0.8500\n",
      "Epoch 32/80\n",
      "512/512 [==============================] - 4s 8ms/step - loss: 0.6156 - acc: 0.7154 - val_loss: 0.3720 - val_acc: 0.8562\n",
      "Epoch 33/80\n",
      "512/512 [==============================] - 4s 8ms/step - loss: 0.6065 - acc: 0.7186 - val_loss: 0.3820 - val_acc: 0.8398\n",
      "Epoch 34/80\n",
      "512/512 [==============================] - 4s 9ms/step - loss: 0.5991 - acc: 0.7239 - val_loss: 0.3749 - val_acc: 0.8484\n",
      "Epoch 35/80\n",
      "512/512 [==============================] - 4s 9ms/step - loss: 0.5965 - acc: 0.7238 - val_loss: 0.4051 - val_acc: 0.8313\n",
      "Epoch 36/80\n",
      "512/512 [==============================] - 4s 9ms/step - loss: 0.5965 - acc: 0.7241 - val_loss: 0.4227 - val_acc: 0.8227\n",
      "Epoch 37/80\n",
      "512/512 [==============================] - 4s 9ms/step - loss: 0.6042 - acc: 0.7239 - val_loss: 0.3714 - val_acc: 0.8594\n",
      "Epoch 38/80\n",
      "512/512 [==============================] - 4s 9ms/step - loss: 0.5985 - acc: 0.7240 - val_loss: 0.3462 - val_acc: 0.8602\n",
      "Epoch 39/80\n",
      "512/512 [==============================] - 4s 8ms/step - loss: 0.6193 - acc: 0.7164 - val_loss: 0.4044 - val_acc: 0.8477\n",
      "Epoch 40/80\n",
      "512/512 [==============================] - 4s 9ms/step - loss: 0.6074 - acc: 0.7183 - val_loss: 0.3571 - val_acc: 0.8430\n",
      "Epoch 41/80\n",
      "512/512 [==============================] - 4s 9ms/step - loss: 0.6054 - acc: 0.7271 - val_loss: 0.4041 - val_acc: 0.8414\n",
      "Epoch 42/80\n",
      "512/512 [==============================] - 4s 9ms/step - loss: 0.5884 - acc: 0.7264 - val_loss: 0.4539 - val_acc: 0.8078\n",
      "Epoch 43/80\n",
      "512/512 [==============================] - 4s 9ms/step - loss: 0.5915 - acc: 0.7325 - val_loss: 0.3501 - val_acc: 0.8617\n",
      "Epoch 44/80\n",
      "512/512 [==============================] - 4s 9ms/step - loss: 0.5931 - acc: 0.7294 - val_loss: 0.3743 - val_acc: 0.8391\n",
      "Epoch 45/80\n",
      "512/512 [==============================] - 5s 9ms/step - loss: 0.5971 - acc: 0.7275 - val_loss: 0.3776 - val_acc: 0.8625\n",
      "Epoch 46/80\n",
      "512/512 [==============================] - 5s 9ms/step - loss: 0.5970 - acc: 0.7277 - val_loss: 0.3564 - val_acc: 0.8664\n",
      "Epoch 47/80\n",
      "512/512 [==============================] - 5s 9ms/step - loss: 0.5907 - acc: 0.7292 - val_loss: 0.4200 - val_acc: 0.8203\n",
      "Epoch 48/80\n",
      "512/512 [==============================] - 4s 9ms/step - loss: 0.6005 - acc: 0.7225 - val_loss: 0.3492 - val_acc: 0.8586\n",
      "Epoch 49/80\n",
      "512/512 [==============================] - 4s 8ms/step - loss: 0.6019 - acc: 0.7252 - val_loss: 0.3553 - val_acc: 0.8680\n",
      "Epoch 50/80\n",
      "512/512 [==============================] - 4s 9ms/step - loss: 0.6146 - acc: 0.7233 - val_loss: 0.3829 - val_acc: 0.8320\n",
      "Epoch 51/80\n",
      "512/512 [==============================] - 4s 8ms/step - loss: 0.6018 - acc: 0.7320 - val_loss: 0.3549 - val_acc: 0.8586\n",
      "Epoch 52/80\n",
      "512/512 [==============================] - 4s 9ms/step - loss: 0.5929 - acc: 0.7327 - val_loss: 0.3929 - val_acc: 0.8445\n",
      "Epoch 53/80\n",
      "512/512 [==============================] - 4s 9ms/step - loss: 0.5962 - acc: 0.7285 - val_loss: 0.3714 - val_acc: 0.8508\n",
      "Epoch 54/80\n",
      "512/512 [==============================] - 4s 8ms/step - loss: 0.5934 - acc: 0.7312 - val_loss: 0.4153 - val_acc: 0.8211\n",
      "Epoch 55/80\n",
      "512/512 [==============================] - 4s 9ms/step - loss: 0.6072 - acc: 0.7225 - val_loss: 0.3415 - val_acc: 0.8641\n",
      "Epoch 56/80\n",
      "512/512 [==============================] - 4s 9ms/step - loss: 0.5968 - acc: 0.7250 - val_loss: 0.3866 - val_acc: 0.8555\n",
      "Epoch 57/80\n",
      "512/512 [==============================] - 4s 8ms/step - loss: 0.5937 - acc: 0.7288 - val_loss: 0.4208 - val_acc: 0.8281\n",
      "Epoch 58/80\n",
      "512/512 [==============================] - 5s 9ms/step - loss: 0.6048 - acc: 0.7312 - val_loss: 0.3584 - val_acc: 0.8547\n",
      "Epoch 59/80\n",
      "512/512 [==============================] - 4s 9ms/step - loss: 0.5937 - acc: 0.7337 - val_loss: 0.3711 - val_acc: 0.8570\n",
      "Epoch 60/80\n",
      "512/512 [==============================] - 4s 9ms/step - loss: 0.6005 - acc: 0.7338 - val_loss: 0.3997 - val_acc: 0.8320\n",
      "Epoch 61/80\n",
      "512/512 [==============================] - 4s 9ms/step - loss: 0.5931 - acc: 0.7356 - val_loss: 0.3922 - val_acc: 0.8523\n",
      "Epoch 62/80\n",
      "512/512 [==============================] - 4s 9ms/step - loss: 0.6021 - acc: 0.7317 - val_loss: 0.3866 - val_acc: 0.8547\n",
      "Epoch 63/80\n",
      "512/512 [==============================] - 4s 9ms/step - loss: 0.5869 - acc: 0.7357 - val_loss: 0.3745 - val_acc: 0.8578\n",
      "Epoch 64/80\n",
      "512/512 [==============================] - 4s 8ms/step - loss: 0.5901 - acc: 0.7329 - val_loss: 0.3795 - val_acc: 0.8594\n",
      "Epoch 65/80\n",
      "512/512 [==============================] - 4s 8ms/step - loss: 0.6021 - acc: 0.7304 - val_loss: 0.4145 - val_acc: 0.8328\n",
      "Epoch 66/80\n",
      "512/512 [==============================] - 4s 9ms/step - loss: 0.5991 - acc: 0.7281 - val_loss: 0.3574 - val_acc: 0.8586\n",
      "Epoch 67/80\n",
      "512/512 [==============================] - 4s 8ms/step - loss: 0.6078 - acc: 0.7319 - val_loss: 0.3555 - val_acc: 0.8727\n",
      "Epoch 68/80\n",
      "512/512 [==============================] - 4s 9ms/step - loss: 0.6004 - acc: 0.7346 - val_loss: 0.4100 - val_acc: 0.8383\n",
      "Epoch 69/80\n",
      "512/512 [==============================] - 4s 8ms/step - loss: 0.5881 - acc: 0.7345 - val_loss: 0.3852 - val_acc: 0.8375\n",
      "Epoch 70/80\n",
      "512/512 [==============================] - 4s 9ms/step - loss: 0.5971 - acc: 0.7348 - val_loss: 0.4258 - val_acc: 0.8328\n",
      "Epoch 71/80\n",
      "512/512 [==============================] - 4s 9ms/step - loss: 0.5932 - acc: 0.7348 - val_loss: 0.3841 - val_acc: 0.8445\n",
      "Epoch 72/80\n",
      "512/512 [==============================] - 5s 9ms/step - loss: 0.6024 - acc: 0.7350 - val_loss: 0.3719 - val_acc: 0.8633\n",
      "Epoch 73/80\n",
      "512/512 [==============================] - 4s 9ms/step - loss: 0.5892 - acc: 0.7351 - val_loss: 0.3578 - val_acc: 0.8648\n",
      "Epoch 74/80\n",
      "512/512 [==============================] - 4s 9ms/step - loss: 0.5951 - acc: 0.7348 - val_loss: 0.3623 - val_acc: 0.8633\n",
      "Epoch 75/80\n",
      "512/512 [==============================] - 4s 9ms/step - loss: 0.5930 - acc: 0.7352 - val_loss: 0.3926 - val_acc: 0.8453\n",
      "Epoch 76/80\n",
      "512/512 [==============================] - 4s 9ms/step - loss: 0.6010 - acc: 0.7340 - val_loss: 0.3715 - val_acc: 0.8633\n",
      "Epoch 77/80\n",
      "512/512 [==============================] - 4s 9ms/step - loss: 0.6081 - acc: 0.7346 - val_loss: 0.4391 - val_acc: 0.8336\n",
      "Epoch 78/80\n",
      "512/512 [==============================] - 4s 8ms/step - loss: 0.5947 - acc: 0.7317 - val_loss: 0.4136 - val_acc: 0.8383\n",
      "Epoch 79/80\n",
      "512/512 [==============================] - 4s 9ms/step - loss: 0.6076 - acc: 0.7314 - val_loss: 0.3582 - val_acc: 0.8656\n",
      "Epoch 80/80\n",
      "512/512 [==============================] - 4s 9ms/step - loss: 0.5954 - acc: 0.7374 - val_loss: 0.3816 - val_acc: 0.8453\n"
     ]
    }
   ],
   "source": [
    "#Define the densely-connected classifier (with dropout for regularisation) and train it on the \n",
    "#recorded data and labels:\n",
    "\n",
    "model = models.Sequential()\n",
    "model.add(layers.Dense(256, activation='relu', input_dim=4 * 4 * 512))\n",
    "model.add(layers.Dropout(0.5))\n",
    "model.add(layers.Dense(4, activation='softmax'))\n",
    "\n",
    "model.compile(optimizer=optimizers.RMSprop(lr=2e-5),\n",
    "              loss='categorical_crossentropy',\n",
    "              metrics=['acc'])\n",
    "\n",
    "history = model.fit(train_features, train_labels,\n",
    "                    epochs=80,\n",
    "                    batch_size=20,\n",
    "                    validation_data=(validation_features, validation_labels))"
   ]
  },
  {
   "cell_type": "code",
   "execution_count": 42,
   "metadata": {
    "colab": {
     "base_uri": "https://localhost:8080/",
     "height": 499
    },
    "id": "II8oMm7zrwrN",
    "outputId": "b8e6c541-af39-47ff-9d62-eb5da944316d",
    "tags": []
   },
   "outputs": [
    {
     "data": {
      "image/png": "[encoded data removed]",
      "text/plain": [
       "<Figure size 800x800 with 2 Axes>"
      ]
     },
     "metadata": {},
     "output_type": "display_data"
    }
   ],
   "source": [
    "#Training is very fast since there are only two Dense layers\n",
    "\n",
    "#Now, inspect training loss and accuracy:\n",
    "\n",
    "#We attain about 0.8453 validation accuracy. which is worse than our baseline.\n",
    "#However, the plots indicate generalization (validation is more accurate than training) \n",
    "#The 50% dropout, and using this pre-trained convnet with Feature Extraction (Option 1) has been positive \n",
    "\n",
    "#Generator driven data augmentation is impossible with option 1 and data augmentation is essential\n",
    "#for preventing overfitting with small image datasets\n",
    "\n",
    "acc = history.history['acc']\n",
    "val_acc = history.history['val_acc']\n",
    "\n",
    "loss = history.history['loss']\n",
    "val_loss = history.history['val_loss']\n",
    "\n",
    "epochs_range = range(80)\n",
    "\n",
    "plt.figure(figsize=(8, 8))\n",
    "plt.subplot(1, 2, 1)\n",
    "plt.plot(epochs_range, acc, label='Training Accuracy')\n",
    "plt.plot(epochs_range, val_acc, label='Validation Accuracy')\n",
    "plt.legend(loc='lower right')\n",
    "plt.title('Training and Validation Accuracy')\n",
    "\n",
    "plt.subplot(1, 2, 2)\n",
    "plt.plot(epochs_range, loss, label='Training Loss')\n",
    "plt.plot(epochs_range, val_loss, label='Validation Loss')\n",
    "plt.legend(loc='upper right')\n",
    "plt.title('Training and Validation Loss')\n",
    "plt.show()"
   ]
  },
  {
   "cell_type": "code",
   "execution_count": 43,
   "metadata": {
    "tags": []
   },
   "outputs": [
    {
     "name": "stdout",
     "output_type": "stream",
     "text": [
      "Found 10240 images belonging to 4 classes.\n",
      "Found 1280 images belonging to 4 classes.\n"
     ]
    }
   ],
   "source": [
    "# Now we should load RGB images instead of grayscale  \n",
    "#\",color_mode='grayscale'\" is not needed any more\n",
    "train_datagen = ImageDataGenerator(\n",
    "      rescale=1./255)\n",
    "\n",
    "# Note that the validation data should not be augmented!\n",
    "test_datagen = ImageDataGenerator(rescale=1./255)\n",
    "\n",
    "train_generator = train_datagen.flow_from_directory(\n",
    "        # This is the target directory\n",
    "        \"/kaggle/input/smote-ds/new_output/train/\",\n",
    "        # All images will be resized to 128x128\n",
    "        target_size=(128, 128),\n",
    "        batch_size=20,\n",
    "        \n",
    "        class_mode='categorical'\n",
    ")\n",
    "\n",
    "validation_generator = test_datagen.flow_from_directory(\n",
    "        \"/kaggle/input/smote-ds/new_output/val/\",\n",
    "        target_size=(128, 128),\n",
    "        batch_size=20,\n",
    "        class_mode='categorical')"
   ]
  },
  {
   "cell_type": "code",
   "execution_count": 44,
   "metadata": {
    "id": "LwD0twmqsb8R",
    "tags": []
   },
   "outputs": [],
   "source": [
    "##So let's now consider Option 2 (extract and train)\n",
    "#add a classifier to the conv_base model\n",
    "#train the entire model on the data-augmented inputs\n",
    "\n",
    "#This technique is very expensive (about 5 mins/epoch on a cpu) - you should consider using a \n",
    "#GPU, or even a TPU. GPU and TPU runtimes are available at Google Colaboratory\n",
    "#We're using Kaggle platform, with the GPU Nvidia Tesla P100 option\n",
    "\n",
    "#tensorflow.keras presents a common interface for models and layers - models can be clicked \n",
    "#into place as if they were layers\n",
    "\n",
    "#Simple add conv_base to a Sequential model:\n",
    "\n",
    "model = models.Sequential()\n",
    "model.add(conv_base)\n",
    "model.add(layers.Flatten())\n",
    "model.add(layers.Dense(256, activation='relu'))\n",
    "model.add(layers.Dense(4, activation='softmax'))"
   ]
  },
  {
   "cell_type": "code",
   "execution_count": 45,
   "metadata": {
    "colab": {
     "base_uri": "https://localhost:8080/"
    },
    "id": "LYLW0Y5escTt",
    "outputId": "bc9189c8-ee9b-49d2-f773-25b965a39fa5",
    "tags": []
   },
   "outputs": [
    {
     "name": "stdout",
     "output_type": "stream",
     "text": [
      "Model: \"sequential_9\"\n",
      "_________________________________________________________________\n",
      " Layer (type)                Output Shape              Param #   \n",
      "=================================================================\n",
      " vgg16 (Functional)          (None, 4, 4, 512)         14714688  \n",
      "                                                                 \n",
      " flatten_4 (Flatten)         (None, 8192)              0         \n",
      "                                                                 \n",
      " dense_18 (Dense)            (None, 256)               2097408   \n",
      "                                                                 \n",
      " dense_19 (Dense)            (None, 4)                 1028      \n",
      "                                                                 \n",
      "=================================================================\n",
      "Total params: 16,813,124\n",
      "Trainable params: 16,813,124\n",
      "Non-trainable params: 0\n",
      "_________________________________________________________________\n"
     ]
    }
   ],
   "source": [
    "#14.7 million parameters in the convolutional base and 20+ million dense classifier parameters. \n",
    "#Hence,this is a complex model and would prove computationly expensive to train\n",
    "\n",
    "#The Dense layers on top are randomly initialized; very large weight updates would be \n",
    "#propagated through the network, effectively destroying the previously learned representations \n",
    "#of the conv base\n",
    "\n",
    "#Solution: 'freeze' the convolutional base. A layer is 'frozen' if its weights cannot be \n",
    "#updated during training. Model or layer trainable attribute to False. Freezing must take \n",
    "#place before compilation\n",
    "\n",
    "model.summary()"
   ]
  },
  {
   "cell_type": "code",
   "execution_count": 46,
   "metadata": {
    "colab": {
     "base_uri": "https://localhost:8080/"
    },
    "id": "Tb8Hs-XFuBb3",
    "outputId": "00fbe0ae-5115-4e82-ac66-61ab78257949",
    "tags": []
   },
   "outputs": [
    {
     "name": "stdout",
     "output_type": "stream",
     "text": [
      "Trainable parameter tensors before freezing the conv base: 30\n"
     ]
    }
   ],
   "source": [
    "#VGG16 has 2 conv layers and each layer has a main weight tensor ( 𝑤 ) and a bias tensor ( 𝑏 )\n",
    "#The dense classifier has two trainable layers - that's four more tensors of trainable parameters\n",
    "#30 tensors of trainable parameters before freezing\n",
    "\n",
    "print('Trainable parameter tensors before freezing the conv base:', len(model.trainable_weights))"
   ]
  },
  {
   "cell_type": "code",
   "execution_count": 47,
   "metadata": {
    "id": "pVcm2FE9uByc",
    "tags": []
   },
   "outputs": [],
   "source": [
    "conv_base.trainable = False"
   ]
  },
  {
   "cell_type": "code",
   "execution_count": 48,
   "metadata": {
    "colab": {
     "base_uri": "https://localhost:8080/"
    },
    "id": "nj7sKQ5f7wot",
    "outputId": "62007781-aa3c-4db9-e706-16fca9171fe1",
    "tags": []
   },
   "outputs": [
    {
     "name": "stdout",
     "output_type": "stream",
     "text": [
      "Trainable parameter tensors after freezing the conv base: 4\n"
     ]
    }
   ],
   "source": [
    "#4 tensors after freezing\n",
    "\n",
    "print('Trainable parameter tensors after freezing the conv base:', len(model.trainable_weights))"
   ]
  },
  {
   "cell_type": "code",
   "execution_count": 49,
   "metadata": {
    "colab": {
     "base_uri": "https://localhost:8080/",
     "height": 848
    },
    "id": "MoFJ0qKauCI9",
    "outputId": "85944992-71d7-41b5-bd35-5d41eb616824",
    "tags": []
   },
   "outputs": [
    {
     "name": "stdout",
     "output_type": "stream",
     "text": [
      "Epoch 1/30\n"
     ]
    },
    {
     "name": "stderr",
     "output_type": "stream",
     "text": [
      "/opt/conda/lib/python3.7/site-packages/ipykernel_launcher.py:10: UserWarning: `Model.fit_generator` is deprecated and will be removed in a future version. Please use `Model.fit`, which supports generators.\n",
      "  # Remove the CWD from sys.path while we load stuff.\n"
     ]
    },
    {
     "name": "stdout",
     "output_type": "stream",
     "text": [
      "512/512 [==============================] - 323s 628ms/step - loss: 1.0434 - acc: 0.5698 - val_loss: 0.6138 - val_acc: 0.7344\n",
      "Epoch 2/30\n",
      "512/512 [==============================] - 321s 628ms/step - loss: 0.6338 - acc: 0.7153 - val_loss: 0.6455 - val_acc: 0.7063\n",
      "Epoch 3/30\n",
      "512/512 [==============================] - 321s 627ms/step - loss: 0.5404 - acc: 0.7563 - val_loss: 0.5270 - val_acc: 0.7555\n",
      "Epoch 4/30\n",
      "512/512 [==============================] - 321s 627ms/step - loss: 0.4784 - acc: 0.7898 - val_loss: 0.4423 - val_acc: 0.8016\n",
      "Epoch 5/30\n",
      "512/512 [==============================] - 321s 626ms/step - loss: 0.4302 - acc: 0.8112 - val_loss: 0.4506 - val_acc: 0.7945\n",
      "Epoch 6/30\n",
      "512/512 [==============================] - 321s 628ms/step - loss: 0.3897 - acc: 0.8316 - val_loss: 0.5169 - val_acc: 0.7812\n",
      "Epoch 7/30\n",
      "512/512 [==============================] - 321s 627ms/step - loss: 0.3542 - acc: 0.8489 - val_loss: 0.5410 - val_acc: 0.7781\n",
      "Epoch 8/30\n",
      "512/512 [==============================] - 320s 626ms/step - loss: 0.3195 - acc: 0.8659 - val_loss: 0.3752 - val_acc: 0.8523\n",
      "Epoch 9/30\n",
      "512/512 [==============================] - 321s 627ms/step - loss: 0.2960 - acc: 0.8728 - val_loss: 0.3680 - val_acc: 0.8492\n",
      "Epoch 10/30\n",
      "512/512 [==============================] - 322s 628ms/step - loss: 0.2698 - acc: 0.8879 - val_loss: 0.4340 - val_acc: 0.7883\n",
      "Epoch 11/30\n",
      "512/512 [==============================] - 321s 627ms/step - loss: 0.2443 - acc: 0.9004 - val_loss: 0.2162 - val_acc: 0.9109\n",
      "Epoch 12/30\n",
      "512/512 [==============================] - 323s 630ms/step - loss: 0.2339 - acc: 0.9032 - val_loss: 0.2694 - val_acc: 0.8836\n",
      "Epoch 13/30\n",
      "512/512 [==============================] - 322s 630ms/step - loss: 0.2128 - acc: 0.9134 - val_loss: 0.1927 - val_acc: 0.9250\n",
      "Epoch 14/30\n",
      "512/512 [==============================] - 321s 628ms/step - loss: 0.2014 - acc: 0.9182 - val_loss: 0.2280 - val_acc: 0.9062\n",
      "Epoch 15/30\n",
      "512/512 [==============================] - 321s 627ms/step - loss: 0.1816 - acc: 0.9245 - val_loss: 0.1972 - val_acc: 0.9211\n",
      "Epoch 16/30\n",
      "512/512 [==============================] - 322s 628ms/step - loss: 0.1770 - acc: 0.9312 - val_loss: 0.2015 - val_acc: 0.9172\n",
      "Epoch 17/30\n",
      "512/512 [==============================] - 321s 627ms/step - loss: 0.1592 - acc: 0.9360 - val_loss: 0.5670 - val_acc: 0.8141\n",
      "Epoch 18/30\n",
      "512/512 [==============================] - 322s 629ms/step - loss: 0.1580 - acc: 0.9400 - val_loss: 0.1956 - val_acc: 0.9367\n",
      "Epoch 19/30\n",
      "512/512 [==============================] - 321s 627ms/step - loss: 0.1429 - acc: 0.9479 - val_loss: 0.2457 - val_acc: 0.9164\n",
      "Epoch 20/30\n",
      "512/512 [==============================] - 322s 628ms/step - loss: 0.1334 - acc: 0.9485 - val_loss: 0.1668 - val_acc: 0.9398\n",
      "Epoch 21/30\n",
      "512/512 [==============================] - 322s 629ms/step - loss: 0.1267 - acc: 0.9520 - val_loss: 0.3168 - val_acc: 0.8852\n",
      "Epoch 22/30\n",
      "512/512 [==============================] - 321s 627ms/step - loss: 0.1217 - acc: 0.9523 - val_loss: 0.1806 - val_acc: 0.9367\n",
      "Epoch 23/30\n",
      "512/512 [==============================] - 321s 627ms/step - loss: 0.1176 - acc: 0.9585 - val_loss: 0.1365 - val_acc: 0.9547\n",
      "Epoch 24/30\n",
      "512/512 [==============================] - 322s 628ms/step - loss: 0.1193 - acc: 0.9553 - val_loss: 0.1543 - val_acc: 0.9516\n",
      "Epoch 25/30\n",
      "512/512 [==============================] - 322s 628ms/step - loss: 0.1065 - acc: 0.9605 - val_loss: 0.1372 - val_acc: 0.9570\n",
      "Epoch 26/30\n",
      "512/512 [==============================] - 322s 629ms/step - loss: 0.1035 - acc: 0.9634 - val_loss: 0.1421 - val_acc: 0.9531\n",
      "Epoch 27/30\n",
      "512/512 [==============================] - 322s 630ms/step - loss: 0.1017 - acc: 0.9621 - val_loss: 0.1561 - val_acc: 0.9508\n",
      "Epoch 28/30\n",
      "512/512 [==============================] - 322s 628ms/step - loss: 0.0912 - acc: 0.9685 - val_loss: 0.1364 - val_acc: 0.9539\n",
      "Epoch 29/30\n",
      "512/512 [==============================] - 322s 628ms/step - loss: 0.0847 - acc: 0.9702 - val_loss: 0.2051 - val_acc: 0.9336\n",
      "Epoch 30/30\n",
      "512/512 [==============================] - 322s 630ms/step - loss: 0.0781 - acc: 0.9715 - val_loss: 0.1124 - val_acc: 0.9586\n"
     ]
    }
   ],
   "source": [
    "#Train network after option 2, Extract and Train\n",
    "\n",
    "model.compile(loss='categorical_crossentropy',\n",
    "              optimizer=optimizers.RMSprop(lr=2e-5),\n",
    "              metrics=['acc'])\n",
    "\n",
    "history = model.fit_generator(\n",
    "      train_generator,\n",
    "      epochs=30,\n",
    "      validation_data=validation_generator\n",
    ")"
   ]
  },
  {
   "cell_type": "code",
   "execution_count": 50,
   "metadata": {
    "id": "eUFMrQQS8eZb",
    "tags": []
   },
   "outputs": [],
   "source": [
    "model.save('predict_alzheimers_disease_using_CNN3.h5')"
   ]
  },
  {
   "cell_type": "code",
   "execution_count": 51,
   "metadata": {
    "colab": {
     "base_uri": "https://localhost:8080/",
     "height": 499
    },
    "id": "_PKMDIw38exx",
    "outputId": "6dfcbafd-817e-4f37-e570-b08afc0b5bbc",
    "tags": []
   },
   "outputs": [
    {
     "data": {
      "image/png": "[encoded data removed]",
      "text/plain": [
       "<Figure size 800x800 with 2 Axes>"
      ]
     },
     "metadata": {},
     "output_type": "display_data"
    }
   ],
   "source": [
    "#Inspect training again\n",
    "\n",
    "#We have overfitting for option 2 - training accuracy greater than validation accuracy \n",
    "#We reach a validation accuracy of 0.9586, higher than option 1 (extract, then train) \n",
    "#and again better than the small convnet trained from scratch\n",
    "\n",
    "#However, there is a final technique called fine tuning, below\n",
    "\n",
    "acc = history.history['acc']\n",
    "val_acc = history.history['val_acc']\n",
    "\n",
    "loss = history.history['loss']\n",
    "val_loss = history.history['val_loss']\n",
    "\n",
    "epochs_range = range(30)\n",
    "\n",
    "plt.figure(figsize=(8, 8))\n",
    "plt.subplot(1, 2, 1)\n",
    "plt.plot(epochs_range, acc, label='Training Accuracy')\n",
    "plt.plot(epochs_range, val_acc, label='Validaton Accuracy')\n",
    "\n",
    "plt.legend(loc='lower right')\n",
    "plt.title('Training Accuracy')\n",
    "\n",
    "\n",
    "plt.subplot(1, 2, 2)\n",
    "plt.plot(epochs_range, loss, label='Training Loss')\n",
    "plt.plot(epochs_range, val_loss, label='Validation Loss')\n",
    "\n",
    "plt.legend(loc='upper right')\n",
    "plt.title('Training Loss')\n",
    "plt.show()"
   ]
  },
  {
   "cell_type": "code",
   "execution_count": 40,
   "metadata": {
    "execution": {
     "iopub.execute_input": "2023-02-23T09:05:50.482822Z",
     "iopub.status.busy": "2023-02-23T09:05:50.482461Z",
     "iopub.status.idle": "2023-02-23T09:05:50.488013Z",
     "shell.execute_reply": "2023-02-23T09:05:50.486959Z",
     "shell.execute_reply.started": "2023-02-23T09:05:50.482793Z"
    },
    "id": "uGpDBeNh8fKR"
   },
   "outputs": [],
   "source": [
    "#*************************************************************#\n",
    "                         #Fine Tuning#\n",
    "#*************************************************************#\n",
    "\n",
    "#Another widely used technique: unfreezing a few of the top layers of a frozen model base\n",
    "\n",
    "#'Fine-tuning' adjusts the more abstract representations of the pretrained model in order to \n",
    "#make them more relevant for the problem at hand\n",
    "\n",
    "#It is only possible to fine-tune the top layers of the convolutional base once the classifier\n",
    "#on top has already been trained\n",
    "\n",
    "#Otherwise the error signal propagating back through the network would be too large and the \n",
    "#representations previously learned by the unfrozen conv layers would be destroyed\n",
    "\n",
    "#We've already addresed the first 3 steps for fine tuning a network (see Section 9 intro on \n",
    "#tuning)"
   ]
  },
  {
   "cell_type": "code",
   "execution_count": 52,
   "metadata": {
    "colab": {
     "base_uri": "https://localhost:8080/"
    },
    "id": "tF0X-khN8fjy",
    "outputId": "0ba681a6-894d-4683-af1b-7a28188baef9",
    "tags": []
   },
   "outputs": [
    {
     "name": "stdout",
     "output_type": "stream",
     "text": [
      "Model: \"vgg16\"\n",
      "_________________________________________________________________\n",
      " Layer (type)                Output Shape              Param #   \n",
      "=================================================================\n",
      " input_1 (InputLayer)        [(None, 128, 128, 3)]     0         \n",
      "                                                                 \n",
      " block1_conv1 (Conv2D)       (None, 128, 128, 64)      1792      \n",
      "                                                                 \n",
      " block1_conv2 (Conv2D)       (None, 128, 128, 64)      36928     \n",
      "                                                                 \n",
      " block1_pool (MaxPooling2D)  (None, 64, 64, 64)        0         \n",
      "                                                                 \n",
      " block2_conv1 (Conv2D)       (None, 64, 64, 128)       73856     \n",
      "                                                                 \n",
      " block2_conv2 (Conv2D)       (None, 64, 64, 128)       147584    \n",
      "                                                                 \n",
      " block2_pool (MaxPooling2D)  (None, 32, 32, 128)       0         \n",
      "                                                                 \n",
      " block3_conv1 (Conv2D)       (None, 32, 32, 256)       295168    \n",
      "                                                                 \n",
      " block3_conv2 (Conv2D)       (None, 32, 32, 256)       590080    \n",
      "                                                                 \n",
      " block3_conv3 (Conv2D)       (None, 32, 32, 256)       590080    \n",
      "                                                                 \n",
      " block3_pool (MaxPooling2D)  (None, 16, 16, 256)       0         \n",
      "                                                                 \n",
      " block4_conv1 (Conv2D)       (None, 16, 16, 512)       1180160   \n",
      "                                                                 \n",
      " block4_conv2 (Conv2D)       (None, 16, 16, 512)       2359808   \n",
      "                                                                 \n",
      " block4_conv3 (Conv2D)       (None, 16, 16, 512)       2359808   \n",
      "                                                                 \n",
      " block4_pool (MaxPooling2D)  (None, 8, 8, 512)         0         \n",
      "                                                                 \n",
      " block5_conv1 (Conv2D)       (None, 8, 8, 512)         2359808   \n",
      "                                                                 \n",
      " block5_conv2 (Conv2D)       (None, 8, 8, 512)         2359808   \n",
      "                                                                 \n",
      " block5_conv3 (Conv2D)       (None, 8, 8, 512)         2359808   \n",
      "                                                                 \n",
      " block5_pool (MaxPooling2D)  (None, 4, 4, 512)         0         \n",
      "                                                                 \n",
      "=================================================================\n",
      "Total params: 14,714,688\n",
      "Trainable params: 0\n",
      "Non-trainable params: 14,714,688\n",
      "_________________________________________________________________\n"
     ]
    }
   ],
   "source": [
    "#Fine-tune the last 3 convolutional layers\n",
    "\n",
    "#All layers up to block4_pool will be frozen\n",
    "\n",
    "#block5_conv1, block5_conv2 and block5_conv3 will be trainable:\n",
    "\n",
    "#Why not fine-tune more layers? Why not fine-tune the entire convolutional base?\n",
    "\n",
    "#Earlier conv base layers encode generic features whilst higher layers encode more specialized features\n",
    "\n",
    "#It is more useful to fine-tune the more specialized features - the generic festures \n",
    "#(edges, corners, colours etc) are expected to be present in any real-world image\n",
    "\n",
    "#The convolutional base has XM parameters - a huge model with a very real chance of \n",
    "#overfitting. Another reason not to fine tune the entire base\n",
    "\n",
    "conv_base.summary()"
   ]
  },
  {
   "cell_type": "code",
   "execution_count": 53,
   "metadata": {
    "id": "OGpFMAHnES7k",
    "tags": []
   },
   "outputs": [],
   "source": [
    "#Freeze all but block 5 layers:\n",
    "\n",
    "conv_base.trainable = True\n",
    "\n",
    "set_trainable = False\n",
    "for layer in conv_base.layers:\n",
    "    if layer.name == 'block5_conv1':\n",
    "        set_trainable = True\n",
    "    if set_trainable:\n",
    "        layer.trainable = True\n",
    "    else:\n",
    "        layer.trainable = False"
   ]
  },
  {
   "cell_type": "code",
   "execution_count": 54,
   "metadata": {
    "id": "dQAta5SnETUD",
    "tags": []
   },
   "outputs": [
    {
     "name": "stdout",
     "output_type": "stream",
     "text": [
      "Epoch 1/30\n"
     ]
    },
    {
     "name": "stderr",
     "output_type": "stream",
     "text": [
      "/opt/conda/lib/python3.7/site-packages/ipykernel_launcher.py:12: UserWarning: `Model.fit_generator` is deprecated and will be removed in a future version. Please use `Model.fit`, which supports generators.\n",
      "  if sys.path[0] == \"\":\n"
     ]
    },
    {
     "name": "stdout",
     "output_type": "stream",
     "text": [
      "512/512 [==============================] - 420s 818ms/step - loss: 16.7874 - acc: 0.3729 - val_loss: 0.7387 - val_acc: 0.6078\n",
      "Epoch 2/30\n",
      "512/512 [==============================] - 419s 819ms/step - loss: 0.7347 - acc: 0.6721 - val_loss: 0.5211 - val_acc: 0.7641\n",
      "Epoch 3/30\n",
      "512/512 [==============================] - 419s 818ms/step - loss: 0.5009 - acc: 0.7802 - val_loss: 0.3975 - val_acc: 0.8180\n",
      "Epoch 4/30\n",
      "512/512 [==============================] - 419s 818ms/step - loss: 0.4018 - acc: 0.8355 - val_loss: 0.4372 - val_acc: 0.8008\n",
      "Epoch 5/30\n",
      "512/512 [==============================] - 419s 819ms/step - loss: 0.3125 - acc: 0.8797 - val_loss: 0.2013 - val_acc: 0.9078\n",
      "Epoch 6/30\n",
      "512/512 [==============================] - 418s 817ms/step - loss: 0.2512 - acc: 0.9066 - val_loss: 0.2609 - val_acc: 0.8836\n",
      "Epoch 7/30\n",
      "512/512 [==============================] - 419s 819ms/step - loss: 0.2349 - acc: 0.9271 - val_loss: 0.4479 - val_acc: 0.8813\n",
      "Epoch 8/30\n",
      "512/512 [==============================] - 419s 818ms/step - loss: 0.1954 - acc: 0.9401 - val_loss: 0.1584 - val_acc: 0.9375\n",
      "Epoch 9/30\n",
      "512/512 [==============================] - 420s 820ms/step - loss: 0.1721 - acc: 0.9509 - val_loss: 0.1914 - val_acc: 0.9445\n",
      "Epoch 10/30\n",
      "512/512 [==============================] - 419s 819ms/step - loss: 0.1431 - acc: 0.9593 - val_loss: 0.1656 - val_acc: 0.9492\n",
      "Epoch 11/30\n",
      "512/512 [==============================] - 420s 820ms/step - loss: 0.1202 - acc: 0.9686 - val_loss: 0.2897 - val_acc: 0.9195\n",
      "Epoch 12/30\n",
      "512/512 [==============================] - 421s 822ms/step - loss: 0.1351 - acc: 0.9689 - val_loss: 0.1118 - val_acc: 0.9594\n",
      "Epoch 13/30\n",
      "512/512 [==============================] - 422s 824ms/step - loss: 0.1021 - acc: 0.9780 - val_loss: 0.3916 - val_acc: 0.9273\n",
      "Epoch 14/30\n",
      "512/512 [==============================] - 420s 821ms/step - loss: 0.1194 - acc: 0.9776 - val_loss: 0.0963 - val_acc: 0.9680\n",
      "Epoch 15/30\n",
      "512/512 [==============================] - 422s 824ms/step - loss: 0.1014 - acc: 0.9812 - val_loss: 0.1046 - val_acc: 0.9695\n",
      "Epoch 16/30\n",
      "512/512 [==============================] - 421s 823ms/step - loss: 0.1258 - acc: 0.9838 - val_loss: 0.1264 - val_acc: 0.9781\n",
      "Epoch 17/30\n",
      "512/512 [==============================] - 420s 820ms/step - loss: 0.1047 - acc: 0.9841 - val_loss: 0.1237 - val_acc: 0.9750\n",
      "Epoch 18/30\n",
      "512/512 [==============================] - 419s 819ms/step - loss: 0.0821 - acc: 0.9854 - val_loss: 0.1821 - val_acc: 0.9617\n",
      "Epoch 19/30\n",
      "512/512 [==============================] - 419s 819ms/step - loss: 0.0746 - acc: 0.9868 - val_loss: 0.0910 - val_acc: 0.9695\n",
      "Epoch 20/30\n",
      "512/512 [==============================] - 422s 823ms/step - loss: 0.0708 - acc: 0.9874 - val_loss: 0.0739 - val_acc: 0.9781\n",
      "Epoch 21/30\n",
      "512/512 [==============================] - 422s 824ms/step - loss: 0.0613 - acc: 0.9875 - val_loss: 0.1082 - val_acc: 0.9812\n",
      "Epoch 22/30\n",
      "512/512 [==============================] - 421s 823ms/step - loss: 0.0599 - acc: 0.9892 - val_loss: 0.1214 - val_acc: 0.9859\n",
      "Epoch 23/30\n",
      "512/512 [==============================] - 422s 824ms/step - loss: 0.1189 - acc: 0.9895 - val_loss: 0.1141 - val_acc: 0.9734\n",
      "Epoch 24/30\n",
      "512/512 [==============================] - 422s 824ms/step - loss: 0.0663 - acc: 0.9898 - val_loss: 0.0529 - val_acc: 0.9844\n",
      "Epoch 25/30\n",
      "512/512 [==============================] - 423s 825ms/step - loss: 0.0520 - acc: 0.9937 - val_loss: 0.1765 - val_acc: 0.9828\n",
      "Epoch 26/30\n",
      "512/512 [==============================] - 422s 824ms/step - loss: 0.0742 - acc: 0.9893 - val_loss: 0.1068 - val_acc: 0.9742\n",
      "Epoch 27/30\n",
      "512/512 [==============================] - 421s 822ms/step - loss: 0.0642 - acc: 0.9909 - val_loss: 0.1101 - val_acc: 0.9828\n",
      "Epoch 28/30\n",
      "512/512 [==============================] - 423s 826ms/step - loss: 0.1080 - acc: 0.9898 - val_loss: 0.1455 - val_acc: 0.9781\n",
      "Epoch 29/30\n",
      "512/512 [==============================] - 422s 824ms/step - loss: 0.0567 - acc: 0.9912 - val_loss: 0.1235 - val_acc: 0.9852\n",
      "Epoch 30/30\n",
      "512/512 [==============================] - 420s 820ms/step - loss: 0.1176 - acc: 0.9883 - val_loss: 0.1222 - val_acc: 0.9641\n"
     ]
    }
   ],
   "source": [
    "#We should limit the magnitude of modifications to the representations of the unfrozen layers.\n",
    "#Use a tiny learning rate - large updates may damage these representations\n",
    "#Let's go:\n",
    "\n",
    "model.compile(loss='categorical_crossentropy',\n",
    "              optimizer=optimizers.RMSprop(lr=2e-5),\n",
    "              metrics=['acc'])\n",
    "\n",
    "history = model.fit_generator(\n",
    "      train_generator,\n",
    "      epochs=30,\n",
    "      validation_data=validation_generator\n",
    ")"
   ]
  },
  {
   "cell_type": "code",
   "execution_count": 55,
   "metadata": {
    "id": "h_IRmnGtHXtT",
    "tags": []
   },
   "outputs": [],
   "source": [
    "model.save('predict_alzheimers_disease_using_CNN4.h5')"
   ]
  },
  {
   "cell_type": "code",
   "execution_count": 56,
   "metadata": {
    "tags": []
   },
   "outputs": [
    {
     "name": "stdout",
     "output_type": "stream",
     "text": [
      "Epoch 1/30\n"
     ]
    },
    {
     "name": "stderr",
     "output_type": "stream",
     "text": [
      "/opt/conda/lib/python3.7/site-packages/ipykernel_launcher.py:50: UserWarning: `Model.fit_generator` is deprecated and will be removed in a future version. Please use `Model.fit`, which supports generators.\n"
     ]
    },
    {
     "name": "stdout",
     "output_type": "stream",
     "text": [
      "512/512 [==============================] - 422s 822ms/step - loss: 0.0329 - acc: 0.9892 - val_loss: 0.0822 - val_acc: 0.9789\n",
      "Epoch 2/30\n",
      "512/512 [==============================] - 421s 822ms/step - loss: 0.0273 - acc: 0.9921 - val_loss: 0.2569 - val_acc: 0.9422\n",
      "Epoch 3/30\n",
      "512/512 [==============================] - 420s 821ms/step - loss: 0.0175 - acc: 0.9944 - val_loss: 0.0883 - val_acc: 0.9789\n",
      "Epoch 4/30\n",
      "512/512 [==============================] - 423s 826ms/step - loss: 0.0210 - acc: 0.9937 - val_loss: 0.0611 - val_acc: 0.9852\n",
      "Epoch 5/30\n",
      "512/512 [==============================] - 421s 822ms/step - loss: 0.0207 - acc: 0.9937 - val_loss: 0.1092 - val_acc: 0.9797\n",
      "Epoch 6/30\n",
      "512/512 [==============================] - 423s 826ms/step - loss: 0.0174 - acc: 0.9958 - val_loss: 0.0363 - val_acc: 0.9891\n",
      "Epoch 7/30\n",
      "512/512 [==============================] - 420s 821ms/step - loss: 0.0165 - acc: 0.9952 - val_loss: 0.1045 - val_acc: 0.9805\n",
      "Epoch 8/30\n",
      "512/512 [==============================] - 421s 822ms/step - loss: 0.0203 - acc: 0.9941 - val_loss: 0.0738 - val_acc: 0.9789\n",
      "Epoch 9/30\n",
      "512/512 [==============================] - 423s 826ms/step - loss: 0.0177 - acc: 0.9949 - val_loss: 0.1543 - val_acc: 0.9727\n",
      "Epoch 10/30\n",
      "512/512 [==============================] - 422s 823ms/step - loss: 0.0143 - acc: 0.9964 - val_loss: 0.0964 - val_acc: 0.9773\n",
      "Epoch 11/30\n",
      "512/512 [==============================] - 422s 824ms/step - loss: 0.0137 - acc: 0.9958 - val_loss: 0.0780 - val_acc: 0.9828\n",
      "Epoch 12/30\n",
      "512/512 [==============================] - 421s 822ms/step - loss: 0.0163 - acc: 0.9946 - val_loss: 0.0540 - val_acc: 0.9875\n",
      "Epoch 13/30\n",
      "512/512 [==============================] - 421s 823ms/step - loss: 0.0101 - acc: 0.9970 - val_loss: 0.0853 - val_acc: 0.9875\n",
      "Epoch 14/30\n",
      "512/512 [==============================] - 421s 822ms/step - loss: 0.0130 - acc: 0.9969 - val_loss: 0.0660 - val_acc: 0.9867\n",
      "Epoch 15/30\n",
      "512/512 [==============================] - 422s 824ms/step - loss: 0.0172 - acc: 0.9956 - val_loss: 0.0734 - val_acc: 0.9820\n",
      "Epoch 16/30\n",
      "512/512 [==============================] - 421s 823ms/step - loss: 0.0131 - acc: 0.9969 - val_loss: 0.0593 - val_acc: 0.9859\n",
      "Epoch 17/30\n",
      "512/512 [==============================] - 421s 823ms/step - loss: 0.0176 - acc: 0.9959 - val_loss: 0.0609 - val_acc: 0.9875\n",
      "Epoch 18/30\n",
      "512/512 [==============================] - 424s 829ms/step - loss: 0.0117 - acc: 0.9966 - val_loss: 0.0703 - val_acc: 0.9875\n",
      "Epoch 19/30\n",
      "512/512 [==============================] - 425s 830ms/step - loss: 0.0099 - acc: 0.9967 - val_loss: 0.0444 - val_acc: 0.9883\n",
      "Epoch 20/30\n",
      "512/512 [==============================] - 428s 836ms/step - loss: 0.0130 - acc: 0.9966 - val_loss: 0.1176 - val_acc: 0.9742\n",
      "Epoch 21/30\n",
      "512/512 [==============================] - 427s 834ms/step - loss: 0.0133 - acc: 0.9968 - val_loss: 0.0655 - val_acc: 0.9859\n",
      "Epoch 22/30\n",
      "512/512 [==============================] - 426s 833ms/step - loss: 0.0099 - acc: 0.9970 - val_loss: 0.0536 - val_acc: 0.9891\n",
      "Epoch 23/30\n",
      "512/512 [==============================] - 426s 831ms/step - loss: 0.0139 - acc: 0.9960 - val_loss: 0.0892 - val_acc: 0.9805\n",
      "Epoch 24/30\n",
      "512/512 [==============================] - 426s 832ms/step - loss: 0.0112 - acc: 0.9974 - val_loss: 0.0263 - val_acc: 0.9922\n",
      "Epoch 25/30\n",
      "512/512 [==============================] - 426s 831ms/step - loss: 0.0104 - acc: 0.9964 - val_loss: 0.1076 - val_acc: 0.9781\n",
      "Epoch 26/30\n",
      "512/512 [==============================] - 427s 834ms/step - loss: 0.0147 - acc: 0.9967 - val_loss: 0.0272 - val_acc: 0.9914\n",
      "Epoch 27/30\n",
      "512/512 [==============================] - 427s 835ms/step - loss: 0.0076 - acc: 0.9985 - val_loss: 0.0708 - val_acc: 0.9859\n",
      "Epoch 28/30\n",
      "512/512 [==============================] - 427s 833ms/step - loss: 0.0088 - acc: 0.9974 - val_loss: 0.0978 - val_acc: 0.9828\n",
      "Epoch 29/30\n",
      "512/512 [==============================] - 427s 835ms/step - loss: 0.0117 - acc: 0.9970 - val_loss: 0.0850 - val_acc: 0.9859\n",
      "Epoch 30/30\n",
      "512/512 [==============================] - 427s 834ms/step - loss: 0.0078 - acc: 0.9979 - val_loss: 0.1790 - val_acc: 0.9758\n"
     ]
    }
   ],
   "source": [
    "#*************************************************************#\n",
    "                         #Batch Normalization#\n",
    "#*************************************************************#\n",
    "\n",
    "#Now train model with Batchnorm\n",
    "#This is an additional layer that allows every layer of the network to do learning more\n",
    "#independently. It's used to normalize the output of previous layers\n",
    "\n",
    "\n",
    "\n",
    "\n",
    "\n",
    "\n",
    "\n",
    "\n",
    "checkpoint_filepath = '/kaggle/working/'\n",
    "model_checkpoint_callback = tf.keras.callbacks.ModelCheckpoint(\n",
    "    filepath=checkpoint_filepath,\n",
    "    save_weights_only=True,\n",
    "    monitor='val_acc',\n",
    "    mode='max',\n",
    "    save_best_only=True)\n",
    "\n",
    "\n",
    "model = models.Sequential()\n",
    "model.add(conv_base)\n",
    "model.add(layers.Flatten())\n",
    "model.add(layers.Dense(128, activation='relu'))\n",
    "model.add(BatchNormalization())\n",
    "model.add(layers.Dense(4, activation='softmax'))\n",
    "\n",
    "\n",
    "\n",
    "model.compile(loss='categorical_crossentropy',\n",
    "              optimizer=optimizers.RMSprop(lr=2e-5),\n",
    "              metrics=['acc'])\n",
    "\n",
    "\n",
    "history_batch = model.fit_generator(\n",
    "      train_generator,\n",
    "      epochs=30,\n",
    "      validation_data=validation_generator,\n",
    "    callbacks=[model_checkpoint_callback]\n",
    ")\n"
   ]
  },
  {
   "cell_type": "code",
   "execution_count": 57,
   "metadata": {
    "tags": []
   },
   "outputs": [],
   "source": [
    "model.save('predict_alzheimers_disease_using_CNN4_batch.h5')"
   ]
  },
  {
   "cell_type": "code",
   "execution_count": 58,
   "metadata": {
    "colab": {
     "base_uri": "https://localhost:8080/",
     "height": 499
    },
    "id": "1ZcxI2BzETsR",
    "outputId": "1363452f-a884-4be9-89f7-3e43bb8b3737",
    "tags": []
   },
   "outputs": [
    {
     "data": {
      "image/png": "[encoded data removed]",
      "text/plain": [
       "<Figure size 800x800 with 2 Axes>"
      ]
     },
     "metadata": {},
     "output_type": "display_data"
    }
   ],
   "source": [
    "#Inspect training again\n",
    "\n",
    "#It only just overfits\n",
    "#We reach a validation accuracy of 0.9758, not as good as dropout, but better than all other models\n",
    "\n",
    "acc = history.history['acc']\n",
    "val_acc = history.history['val_acc']\n",
    "\n",
    "loss = history.history['loss']\n",
    "val_loss = history.history['val_loss']\n",
    "\n",
    "\n",
    "acc_batch = history_batch.history['acc']\n",
    "val_acc_batch = history_batch.history['val_acc']\n",
    "\n",
    "loss_batch = history_batch.history['loss']\n",
    "val_loss_batch = history_batch.history['val_loss']\n",
    "\n",
    "epochs_range = range(30)\n",
    "\n",
    "plt.figure(figsize=(8, 8))\n",
    "plt.subplot(1, 2, 1)\n",
    "plt.plot(epochs_range, acc, label='Training Accuracy')\n",
    "plt.plot(epochs_range, val_acc, label='Validaton Accuracy')\n",
    "\n",
    "plt.plot(epochs_range, acc_batch, label='Training Batchnorm Accuracy')\n",
    "plt.plot(epochs_range, val_acc_batch, label='Validaton Batchnorm Accuracy')\n",
    "\n",
    "plt.legend(loc='lower right')\n",
    "plt.title('Training Accuracy')\n",
    "\n",
    "\n",
    "plt.subplot(1, 2, 2)\n",
    "plt.plot(epochs_range, loss, label='Training Loss')\n",
    "plt.plot(epochs_range, val_loss, label='Validation Loss')\n",
    "\n",
    "plt.plot(epochs_range, loss_batch, label='Training Batchnorm Loss')\n",
    "plt.plot(epochs_range, val_loss_batch, label='Validation Batchnorm Loss')\n",
    "\n",
    "plt.legend(loc='upper right')\n",
    "plt.title('Training Loss')\n",
    "plt.show()\n"
   ]
  },
  {
   "cell_type": "code",
   "execution_count": 59,
   "metadata": {
    "colab": {
     "base_uri": "https://localhost:8080/",
     "height": 545
    },
    "id": "l1FQzYB8HrLd",
    "outputId": "e3c6c353-47ee-46fe-889c-e5fd04dd7b02",
    "tags": []
   },
   "outputs": [
    {
     "data": {
      "image/png": "[encoded data removed]",
      "text/plain": [
       "<Figure size 640x480 with 1 Axes>"
      ]
     },
     "metadata": {},
     "output_type": "display_data"
    },
    {
     "data": {
      "image/png": "[encoded data removed]",
      "text/plain": [
       "<Figure size 640x480 with 1 Axes>"
      ]
     },
     "metadata": {},
     "output_type": "display_data"
    }
   ],
   "source": [
    "#The curves are smoother and more stable this time. \n",
    "\n",
    "#We might find that the average loss increases whilst accuracy improves. Accuracy depends on \n",
    "#the distribution of values and not the average\n",
    "\n",
    "#labels (0, 0, 0, 1, 1, 1)\n",
    "#output (0.0, 0.0, 0.6, 0.4, 0.0, 0.0): acc = X%, loss (MSE) =  2×0.366=0.12 \n",
    "#output (0.4, 0.4, 0.4, 0.6, 0.6, 0.6): acc = Y%, loss (MSE) =  0.42=0.16 \n",
    "#Accuracy has improved (X% to Y%) but loss has worsened (0.12 to 0.16)\n",
    "\n",
    "def smooth_curve(points, factor=0.8):\n",
    "  smoothed_points = []\n",
    "  for point in points:\n",
    "    if smoothed_points:\n",
    "      previous = smoothed_points[-1]\n",
    "      smoothed_points.append(previous * factor + point * (1 - factor))\n",
    "    else:\n",
    "      smoothed_points.append(point)\n",
    "  return smoothed_points\n",
    "\n",
    "epochs=range(30)\n",
    "\n",
    "plt.plot(epochs,\n",
    "         smooth_curve(acc), 'bo', label='Smoothed training acc')\n",
    "plt.plot(epochs,\n",
    "         smooth_curve(val_acc), 'b', label='Smoothed validation acc')\n",
    "plt.title('Training and validation accuracy')\n",
    "plt.legend()\n",
    "\n",
    "plt.figure()\n",
    "\n",
    "plt.plot(epochs,\n",
    "         smooth_curve(loss), 'bo', label='Smoothed training loss')\n",
    "plt.plot(epochs,\n",
    "         smooth_curve(val_loss), 'b', label='Smoothed validation loss')\n",
    "plt.title('Training and validation loss')\n",
    "plt.legend()\n",
    "\n",
    "plt.show()"
   ]
  },
  {
   "cell_type": "markdown",
   "metadata": {
    "id": "wepF1ru0xPuS"
   },
   "source": [
    "## 10. Evaluation \n",
    "\n",
    "Finally evaluate this model on the test data (ideally we should retrain on the merger of the training and the validation sets):"
   ]
  },
  {
   "cell_type": "code",
   "execution_count": 60,
   "metadata": {
    "colab": {
     "base_uri": "https://localhost:8080/"
    },
    "id": "ccw6EcEIbyOd",
    "outputId": "5791e119-73e8-4506-c3f5-bdfb37e1b532",
    "tags": []
   },
   "outputs": [
    {
     "name": "stdout",
     "output_type": "stream",
     "text": [
      "Found 1280 images belonging to 4 classes.\n",
      "50/50 [==============================] - 29s 583ms/step - loss: 0.1397 - acc: 0.9770\n",
      "test acc: 0.9769999980926514\n"
     ]
    }
   ],
   "source": [
    "# Evaluate the best model which we found by fine tuning\n",
    "\n",
    "test_generator = test_datagen.flow_from_directory(\n",
    "        \"/kaggle/input/smote-ds/new_output/test/\",\n",
    "        target_size=(128, 128),\n",
    "        batch_size=20,\n",
    "        class_mode='categorical',seed=42,shuffle=False)\n",
    "\n",
    "test_loss, test_acc = model.evaluate(test_generator, steps=50)\n",
    "print('test acc:', test_acc)"
   ]
  },
  {
   "cell_type": "code",
   "execution_count": 61,
   "metadata": {
    "tags": []
   },
   "outputs": [
    {
     "name": "stdout",
     "output_type": "stream",
     "text": [
      "64/64 [==============================] - 37s 570ms/step\n"
     ]
    }
   ],
   "source": [
    "y_pred=model.predict(test_generator)"
   ]
  },
  {
   "cell_type": "code",
   "execution_count": 62,
   "metadata": {
    "tags": []
   },
   "outputs": [],
   "source": [
    "y_pred=np.argmax(y_pred,axis=1)"
   ]
  },
  {
   "cell_type": "code",
   "execution_count": 63,
   "metadata": {
    "tags": []
   },
   "outputs": [],
   "source": [
    "y_true=test_generator.classes"
   ]
  },
  {
   "cell_type": "code",
   "execution_count": 65,
   "metadata": {
    "tags": []
   },
   "outputs": [
    {
     "data": {
      "image/png": "[encoded data removed]",
      "text/plain": [
       "<Figure size 2000x1000 with 2 Axes>"
      ]
     },
     "metadata": {},
     "output_type": "display_data"
    }
   ],
   "source": [
    "\n",
    "cm = confusion_matrix(y_true, y_pred)\n",
    "disp = ConfusionMatrixDisplay(confusion_matrix=cm,\n",
    "                               display_labels=['Mild_Demented','Moderate_Demented','Non_Demented','Very_Mild_Demented'])\n",
    "disp.plot()\n",
    "plt.rcParams[\"figure.figsize\"] = (20,10)\n",
    "plt.show()"
   ]
  },
  {
   "cell_type": "markdown",
   "metadata": {
    "id": "b3vq6cdPxPuT"
   },
   "source": [
    "## 11. Results\n",
    "\n",
    "Our Baseline Performance (Section 7) helped us decide on a modelling strategy for a CNN. It's performance or validation accuracy was 0.9336, which was way above the expected default of 0.1000 for image classification.  However, as performance was generally weaker, we built a more complex, bigger, robust model in section 8 (Scaling Up - Developing a Model that Overfits).\n",
    "\n",
    "In Section 8, we developed our overfitted model that produced a validation accuracy of 0.9742. This outperformed our baseline and is generally strong, however, this model can't generalize well - as could be seen from the Training and Validation Accuracy/Loss Plots. This means that our model will have a difficult time generalizing on a new dataset, hence we couldn't evaluate on the test set at that stage. Hence, we required to increase the overall performance of the model.\n",
    "\n",
    "Such models can mitigate overfitting with fine tuning and the addition of dropout, detailed in Section 9 (Tuning and Regularization).  Hence, the best model for our data was found by using drop out. The pre-trained Convnet (VGG16) using Extract Then Train to increase prediction using feature extraction and Batch normalization produced very satisfactory results too.\n",
    "\n",
    "**Summarising Validation Accuracy of all models above:**\n",
    "\n",
    "1. Baseline model: 0.9336\n",
    "\n",
    "2. Overfitted model: 0.9742 \n",
    "\n",
    "3. Addition of dropout layer: 0.9945, no overfitting \n",
    "\n",
    "4. Option 1: Using a pre-trained convnet, Extract THEN train (using feature extraction): 0.8453, no overfitting\n",
    "\n",
    "5. Option 2: Using a Pre-Trained convnet, Extract AND train: 0.9586, but overfits \n",
    "\n",
    "6. Fine tuning (fine tune last 3 convolutional layers - freeze all other layers): 0.9641, slightly overfitting\n",
    "\n",
    "7. Addition of batch normalization using option 2: 09758, slightly overfitting\n",
    "\n",
    "\n",
    "**Summarising our Confusion Matrix above:**\n",
    "\n",
    "1. For the 'Mild Demented' MRI images, the classifier correctly predicted 320 of them. However, 4 images were incorrectly predicted as 'Non Demented' and 1 image incorrectly predicted as 'Very Mild Demented'\n",
    "\n",
    "2. For the 'Moderate Demented' MRI images, the classifier correctly predicted all 320 of them. Hence, the network recognizing 100% of the 'Moderate Demented' MRI images.\n",
    "\n",
    "3. For the 'Non Demented' MRI images, the classifier correctly predicted 297 of them. However, 2 images were incorrectly predicted as 'Very Mild Demented'\n",
    "\n",
    "4. For the 'Very Mild Demented' MRI images, the classifier correctly predicted 317 of them. However, 19 images were incorrectly predicted as 'Non Demented' \n",
    "\n",
    "**Evaluation/ Test Set**\n",
    "\n",
    "In Section 10 (Evaluation), we finally evaluated our data with our holdout set (unused test images). There is a very minuscule performance drop when testing new samples/ MRI images.  The test set was 0.9770, very similar to our best validation set ie. 0.9945 (for dropout). And also very similar when we incorporated batch normalization i.e. 0.9758  \n",
    "\n",
    "Additionally, there is a minuscule gap on the losses and accuracies between these forementioned train and validation evaluations. Where there's no overfitting for the dropout technique, no overfitting for the pre-trained convnet (Option 1) and only slight overfitting for batch normalization.\n",
    "\n",
    "As the test set performance is very close to the validation set performance, it indicates the validation/ evaluation procedure was reliable and very little information was leaked.  \n"
   ]
  },
  {
   "cell_type": "markdown",
   "metadata": {},
   "source": [
    "## Generative Model (DCGAN)\n"
   ]
  },
  {
   "cell_type": "markdown",
   "metadata": {},
   "source": [
    "Medical image analysis is an important application of deep learning, which is expected to greatly reduce the workload of doctors, contributing to more sustainable health systems. However, most current AI methods for medical image analysis are based on supervised learning, which requires a lot of annotated data. The number of medical images available is usually small and the acquisition of medical image annotations is an expensive process (such as our dataset). \n",
    "\n",
    "Generative models,such as Generative adversarial networks (GAN), an unsupervised method that has become very popular in recent years, can simulate the distribution of real data and reconstruct approximate real data. GAN opens some exciting new ways for medical image generation, expanding the number of medical images available for deep learning methods [13]\n",
    "\n",
    "Tranformers were taken into consideration for this coursework, however, they require huge amounts of data to learn everything from scratch. Hence, they are deemed unsuitable for our small dataset.\n",
    "\n",
    "Unlike other deep learning neural network models that are trained with a loss function until convergence, a GAN generator model is trained using a second model called a discriminator that learns to classify images as real or generated. Both the generator and discriminator model (two neural networks) are trained together to maintain an equilibrium.  Both Generator and Discriminator use Batch Normalization, but don't use max pooling.\n",
    "\n",
    "As such, there is no objective loss function used to train the GAN generator models and no way to objectively assess the progress of the training and the relative or absolute quality of the model from loss alone [17] \n"
   ]
  },
  {
   "cell_type": "code",
   "execution_count": 66,
   "metadata": {
    "tags": []
   },
   "outputs": [],
   "source": [
    "#For code,refer to reference 14.  Our DCGAN model is based on this tutorial  \n",
    "\n",
    "import glob\n",
    "import imageio\n",
    "import matplotlib.pyplot as plt\n",
    "import numpy as np\n",
    "import os\n",
    "import PIL\n",
    "from tensorflow.keras import layers\n",
    "import time\n",
    "\n",
    "from IPython import display"
   ]
  },
  {
   "cell_type": "code",
   "execution_count": 67,
   "metadata": {
    "tags": []
   },
   "outputs": [
    {
     "name": "stdout",
     "output_type": "stream",
     "text": [
      "Found 10240 images belonging to 1 classes.\n",
      "Found 1280 images belonging to 1 classes.\n",
      "Found 1280 images belonging to 1 classes.\n"
     ]
    }
   ],
   "source": [
    "# Now we should load RGB images instead of grayscale  \n",
    "#\",color_mode='grayscale'\" is not needed any more\n",
    "\n",
    "BATCH_SIZE=256\n",
    "target_size=(28,28)\n",
    "train_datagen = ImageDataGenerator(\n",
    "      rescale=1./255)\n",
    "\n",
    "# Note that the validation data should not be augmented!\n",
    "test_datagen = ImageDataGenerator(rescale=1./255)\n",
    "\n",
    "train_generator = train_datagen.flow_from_directory(\n",
    "        # This is the target directory\n",
    "        \"/kaggle/input/output-dc-gan2/output_dc_gan/train\",\n",
    "        # All images will be resized to 150x150\n",
    "        target_size=target_size,\n",
    "        batch_size=BATCH_SIZE,\n",
    "       \n",
    "        class_mode='categorical',color_mode='grayscale'\n",
    ")\n",
    "\n",
    "validation_generator = test_datagen.flow_from_directory(\n",
    "        \"/kaggle/input/output-dc-gan2/output_dc_gan/val\",\n",
    "        target_size=target_size,\n",
    "        batch_size=BATCH_SIZE,\n",
    "        class_mode='categorical',color_mode='grayscale')\n",
    "\n",
    "\n",
    "test_generator = test_datagen.flow_from_directory(\n",
    "        \"/kaggle/input/output-dc-gan2/output_dc_gan/test\",\n",
    "        target_size=target_size,\n",
    "        batch_size=BATCH_SIZE,\n",
    "        class_mode='categorical',seed=42,shuffle=False,color_mode='grayscale')"
   ]
  },
  {
   "cell_type": "code",
   "execution_count": 68,
   "metadata": {
    "tags": []
   },
   "outputs": [],
   "source": [
    "#We pass some random noise to the Generator.  The random noise is upscaled using \n",
    "#'Conv2DTranspose'. Conv2Dtranspose is used to transform a vector going in the opposite direction\n",
    "#of a normal convolution\n",
    "\n",
    "#LeakyReLU allows the gradients to flow better through the model architecture\n",
    "\n",
    "#Refer to reference 15 for more background\n",
    "\n",
    "def make_generator_model():\n",
    "    model = tf.keras.Sequential()\n",
    "    model.add(layers.Dense(7*7*256, use_bias=False, input_shape=(100,)))\n",
    "    model.add(layers.BatchNormalization())\n",
    "    model.add(layers.LeakyReLU())\n",
    "\n",
    "    model.add(layers.Reshape((7, 7, 256)))\n",
    "    assert model.output_shape == (None, 7, 7, 256)  # Note: None is the batch size\n",
    "\n",
    "    model.add(layers.Conv2DTranspose(128, (5, 5), strides=(1, 1), padding='same', use_bias=False))\n",
    "    assert model.output_shape == (None, 7, 7, 128)\n",
    "    model.add(layers.BatchNormalization())\n",
    "    model.add(layers.LeakyReLU())\n",
    "\n",
    "    model.add(layers.Conv2DTranspose(64, (5, 5), strides=(2, 2), padding='same', use_bias=False))\n",
    "    assert model.output_shape == (None, 14, 14, 64)\n",
    "    model.add(layers.BatchNormalization())\n",
    "    model.add(layers.LeakyReLU())\n",
    "\n",
    "    model.add(layers.Conv2DTranspose(1, (5, 5), strides=(2, 2), padding='same', use_bias=False, activation='tanh'))\n",
    "    assert model.output_shape == (None, 28, 28, 1)\n",
    "\n",
    "    return model\n",
    "#     model = tf.keras.Sequential()\n",
    "\n",
    "#     # Input layer\n",
    "#     model.add(layers.Dense(7*7*256, use_bias=False, input_shape=(100,)))\n",
    "#     model.add(layers.BatchNormalization())\n",
    "#     model.add(layers.LeakyReLU())\n",
    "\n",
    "#     # Reshape to 7x7x256\n",
    "#     model.add(layers.Reshape((7, 7, 256)))\n",
    "#     assert model.output_shape == (None, 7, 7, 256)  # Note: None is the batch size\n",
    "\n",
    "#     # Upsample to 14x14x128\n",
    "#     model.add(layers.Conv2DTranspose(128, (5, 5), strides=(2, 2), padding='same', use_bias=False))\n",
    "#     model.add(layers.BatchNormalization())\n",
    "#     model.add(layers.LeakyReLU())\n",
    "\n",
    "#     # Upsample to 28x28x64\n",
    "#     model.add(layers.Conv2DTranspose(64, (5, 5), strides=(2, 2), padding='same', use_bias=False))\n",
    "#     model.add(layers.BatchNormalization())\n",
    "#     model.add(layers.LeakyReLU())\n",
    "\n",
    "#     # Upsample to 56x56x32\n",
    "#     model.add(layers.Conv2DTranspose(32, (5, 5), strides=(2, 2), padding='same', use_bias=False))\n",
    "#     model.add(layers.BatchNormalization())\n",
    "#     model.add(layers.LeakyReLU())\n",
    "\n",
    "#     # Upsample to 112x112x16\n",
    "#     model.add(layers.Conv2DTranspose(16, (5, 5), strides=(2, 2), padding='same', use_bias=False))\n",
    "#     model.add(layers.BatchNormalization())\n",
    "#     model.add(layers.LeakyReLU())\n",
    "\n",
    "    \n",
    "#     # Upsample to 128x128x1\n",
    "#     model.add(layers.Conv2DTranspose(1, (5, 5), strides=(1, 1), padding='valid', use_bias=False, activation='tanh'))\n",
    "#     #print(model.output_shape)\n",
    "#     assert model.output_shape == (None, 116, 116, 1)\n",
    "    \n",
    "#     return model"
   ]
  },
  {
   "cell_type": "code",
   "execution_count": 69,
   "metadata": {
    "tags": []
   },
   "outputs": [
    {
     "data": {
      "text/plain": [
       "<matplotlib.image.AxesImage at 0x7f9f8814c610>"
      ]
     },
     "execution_count": 69,
     "metadata": {},
     "output_type": "execute_result"
    },
    {
     "data": {
      "image/png": "[encoded data removed]",
      "text/plain": [
       "<Figure size 2000x1000 with 1 Axes>"
      ]
     },
     "metadata": {},
     "output_type": "display_data"
    }
   ],
   "source": [
    "generator = make_generator_model()\n",
    "\n",
    "noise = tf.random.normal([1, 100])\n",
    "generated_image = generator(noise, training=False)\n",
    "\n",
    "plt.imshow(generated_image[0, :, :, 0], cmap='gray')\n",
    "generator = make_generator_model()\n",
    "\n",
    "noise = tf.random.normal([1, 100])\n",
    "generated_image = generator(noise, training=False)\n",
    "\n",
    "plt.imshow(generated_image[0, :, :, 0], cmap='gray')"
   ]
  },
  {
   "cell_type": "code",
   "execution_count": 70,
   "metadata": {
    "tags": []
   },
   "outputs": [],
   "source": [
    "#The Discriminator is an image classification model that classifies between the real and\n",
    "#fake image. It takes fake images generated from the Generator, using random noise and the\n",
    "#real images from the training dataset as an input to classify\n",
    "\n",
    "#Refer to reference 15 for more background\n",
    "\n",
    "\n",
    "def make_discriminator_model():\n",
    "    model = tf.keras.Sequential()\n",
    "    model.add(layers.Conv2D(64, (5, 5), strides=(2, 2), padding='same',\n",
    "                                     input_shape=[28, 28, 1]))\n",
    "    model.add(layers.LeakyReLU())\n",
    "    model.add(layers.Dropout(0.3))\n",
    "\n",
    "    model.add(layers.Conv2D(128, (5, 5), strides=(2, 2), padding='same'))\n",
    "    model.add(layers.LeakyReLU())\n",
    "    model.add(layers.Dropout(0.3))\n",
    "\n",
    "    model.add(layers.Flatten())\n",
    "    model.add(layers.Dense(1))\n",
    "    return model\n"
   ]
  },
  {
   "cell_type": "code",
   "execution_count": 71,
   "metadata": {
    "tags": []
   },
   "outputs": [
    {
     "name": "stdout",
     "output_type": "stream",
     "text": [
      "tf.Tensor([[-0.00098837]], shape=(1, 1), dtype=float32)\n"
     ]
    }
   ],
   "source": [
    "discriminator = make_discriminator_model()\n",
    "decision = discriminator(generated_image)\n",
    "print (decision)"
   ]
  },
  {
   "cell_type": "code",
   "execution_count": 72,
   "metadata": {
    "tags": []
   },
   "outputs": [],
   "source": [
    "cross_entropy = tf.keras.losses.BinaryCrossentropy(from_logits=True)"
   ]
  },
  {
   "cell_type": "code",
   "execution_count": 73,
   "metadata": {
    "tags": []
   },
   "outputs": [],
   "source": [
    "def discriminator_loss(real_output, fake_output):\n",
    "    real_loss = cross_entropy(tf.ones_like(real_output), real_output)\n",
    "    fake_loss = cross_entropy(tf.zeros_like(fake_output), fake_output)\n",
    "    total_loss = real_loss + fake_loss\n",
    "    return total_loss"
   ]
  },
  {
   "cell_type": "code",
   "execution_count": 74,
   "metadata": {
    "tags": []
   },
   "outputs": [],
   "source": [
    "def generator_loss(fake_output):\n",
    "    return cross_entropy(tf.ones_like(fake_output), fake_output)"
   ]
  },
  {
   "cell_type": "code",
   "execution_count": 75,
   "metadata": {
    "tags": []
   },
   "outputs": [],
   "source": [
    "generator_optimizer = tf.keras.optimizers.Adam(1e-4)\n",
    "discriminator_optimizer = tf.keras.optimizers.Adam(1e-4)"
   ]
  },
  {
   "cell_type": "code",
   "execution_count": 76,
   "metadata": {
    "tags": []
   },
   "outputs": [],
   "source": [
    "checkpoint_dir = '/kaggle/working/training_checkpoints'\n",
    "checkpoint_prefix = os.path.join(checkpoint_dir, \"ckpt\")\n",
    "checkpoint = tf.train.Checkpoint(generator_optimizer=generator_optimizer,\n",
    "                                 discriminator_optimizer=discriminator_optimizer,\n",
    "                                 generator=generator,\n",
    "                                 discriminator=discriminator)"
   ]
  },
  {
   "cell_type": "code",
   "execution_count": 77,
   "metadata": {
    "tags": []
   },
   "outputs": [],
   "source": [
    "real_image=train_generator[0][0][0]\n",
    "gen_image=np.array(generated_image[0])\n",
    "gen_image=np.repeat(gen_image, 3, axis=2)\n",
    "real_image=np.repeat(real_image, 3, axis=2)"
   ]
  },
  {
   "cell_type": "code",
   "execution_count": 78,
   "metadata": {
    "tags": []
   },
   "outputs": [],
   "source": [
    "#Peak Signal-to- Noise Ratio (PSNR) is used to quantify the similarity between two images and \n",
    "#is used for benchmarking super resolution models.\n",
    "\n",
    "#The higher the PSNR, the better the quality of the compressed, or reconstructed image.\n",
    "#Refer to reference 16 for more background\n",
    "\n",
    "def get_psnr(real, generated):\n",
    "    psnr_value=tf.reduce_mean(tf.image.psnr(generated, real, max_val=256.0))\n",
    "    return psnr_value"
   ]
  },
  {
   "cell_type": "code",
   "execution_count": 79,
   "metadata": {
    "tags": []
   },
   "outputs": [
    {
     "name": "stdout",
     "output_type": "stream",
     "text": [
      "55.420509338378906\n"
     ]
    }
   ],
   "source": [
    "psnr=float(get_psnr(real_image, gen_image))\n",
    "print(psnr)"
   ]
  },
  {
   "cell_type": "code",
   "execution_count": 85,
   "metadata": {
    "tags": []
   },
   "outputs": [],
   "source": [
    "EPOCHS = 125\n",
    "noise_dim = 100\n",
    "num_examples_to_generate = 16\n",
    "\n",
    "# You will reuse this seed overtime (so it's easier)\n",
    "# to visualize progress in the animated GIF)\n",
    "seed = tf.random.normal([num_examples_to_generate, noise_dim])"
   ]
  },
  {
   "cell_type": "code",
   "execution_count": 86,
   "metadata": {
    "tags": []
   },
   "outputs": [],
   "source": [
    "# Notice the use of `tf.function`\n",
    "# This annotation causes the function to be \"compiled\".\n",
    "@tf.function\n",
    "def train_step(images):\n",
    "    noise = tf.random.normal([BATCH_SIZE, noise_dim])\n",
    "\n",
    "    with tf.GradientTape() as gen_tape, tf.GradientTape() as disc_tape:\n",
    "      generated_images = generator(noise, training=True)\n",
    "\n",
    "      real_output = discriminator(images, training=True)\n",
    "      fake_output = discriminator(generated_images, training=True)\n",
    "\n",
    "      gen_loss = generator_loss(fake_output)\n",
    "      disc_loss = discriminator_loss(real_output, fake_output)\n",
    "\n",
    "    gradients_of_generator = gen_tape.gradient(gen_loss, generator.trainable_variables)\n",
    "    gradients_of_discriminator = disc_tape.gradient(disc_loss, discriminator.trainable_variables)\n",
    "\n",
    "    generator_optimizer.apply_gradients(zip(gradients_of_generator, generator.trainable_variables))\n",
    "    discriminator_optimizer.apply_gradients(zip(gradients_of_discriminator, discriminator.trainable_variables))"
   ]
  },
  {
   "cell_type": "code",
   "execution_count": 87,
   "metadata": {
    "tags": []
   },
   "outputs": [],
   "source": [
    "def train(dataset, epochs):\n",
    "  for epoch in range(epochs):\n",
    "    start = time.time()\n",
    "    i=0\n",
    "    #steps_per_epoch = len(dataset.filenames) // BATCH_SIZE + 1\n",
    "    steps_per_epoch = 1280 // BATCH_SIZE + 1\n",
    "    for image_batch in dataset:\n",
    "      \n",
    "      train_step(image_batch[0])\n",
    "      i=i+1\n",
    "      if i >= steps_per_epoch:  # manually detect the end of the epoch\n",
    "            break   \n",
    "    print('epoch=',epoch)\n",
    "    # Produce images for the GIF as you go\n",
    "    display.clear_output(wait=True)\n",
    "    generate_and_save_images(generator,\n",
    "                             epoch + 1,\n",
    "                             seed)\n",
    "\n",
    "    # Save the model every 15 epochs\n",
    "    if (epoch + 1) % 15 == 0:\n",
    "      checkpoint.save(file_prefix = checkpoint_prefix)\n",
    "\n",
    "    print ('Time for epoch {} is {} sec'.format(epoch + 1, time.time()-start))\n",
    "\n",
    "  # Generate after the final epoch\n",
    "  display.clear_output(wait=True)\n",
    "  generate_and_save_images(generator,\n",
    "                           epochs,\n",
    "                           seed)"
   ]
  },
  {
   "cell_type": "code",
   "execution_count": 88,
   "metadata": {
    "tags": []
   },
   "outputs": [],
   "source": [
    "def generate_and_save_images(model, epoch, test_input):\n",
    "  # Notice `training` is set to False.\n",
    "  # This is so all layers run in inference mode (batchnorm).\n",
    "  predictions = model(test_input, training=False)\n",
    "\n",
    "  fig = plt.figure(figsize=(4, 4))\n",
    "\n",
    "  for i in range(predictions.shape[0]):\n",
    "      plt.subplot(4, 4, i+1)\n",
    "      plt.imshow(predictions[i, :, :, 0] * 127.5 + 127.5, cmap='gray')\n",
    "      plt.axis('off')\n",
    "\n",
    "  plt.savefig('image_at_epoch_{:04d}.png'.format(epoch))\n",
    "  plt.show()"
   ]
  },
  {
   "cell_type": "code",
   "execution_count": 89,
   "metadata": {
    "tags": []
   },
   "outputs": [
    {
     "data": {
      "image/png": "[encoded data removed]",
      "text/plain": [
       "<Figure size 400x400 with 16 Axes>"
      ]
     },
     "metadata": {},
     "output_type": "display_data"
    }
   ],
   "source": [
    "#EPOCHS=125\n",
    "#As this process is computationally expensive, we can only run 125 epochs\n",
    "#We'll potentially obtain higher resolutiom MRI images with an increase of epochs\n",
    "#BATCH_SIZE=256\n",
    "train(train_generator, EPOCHS)"
   ]
  },
  {
   "cell_type": "markdown",
   "metadata": {
    "id": "LFcp-znf0CXM"
   },
   "source": [
    "## 12. Conclusions\n",
    "\n",
    "There's a fine balance between optimization of training data and generalization i.e. fine tuning v overfitting.\n",
    "\n",
    "We can mitigate overfitting with a one or two hidden layer network if our dataset is small. However, in most of our cases, we have eleven dense layers and a bigger sized dataset, after SMOTE was applied from Part 1. Not overly complex, however, overfitting and tuning was addressed with:\n",
    "\n",
    "- Adding dropout\n",
    "- Using a pre-trained Convnet, trained on Imagenet (VGG16)\n",
    "- Fine Tuning \n",
    "- Feature Extraction\n",
    "- Adding batch normalization\n",
    "\n",
    "Overfitting can also be addressed with Data augmentation too, however, as stated above, we already balanced the data with SMOTE from Part 1 [20]\n",
    "\n",
    "Overall, we produced a neural network (CNN) that can predict what stage of Alzheimer's a patient is, from the MRI image of their brain. Our final model (in Section 10 - Evaluation) or test set had an accuracy of 0.9770, which is a satisfactory predictor or classifier of MRI images for alzheimer patients.\n",
    "\n",
    "There's a little bit of uncertainty during the early stage predictions (as seen from the confusion matrix above), as 19 very mild demented MRI images were identified as non demented i.e 19 false positives. This is of course a misleading and concerning diagnosis for medical image classification and healthcare. More CNN models should be developed in the long term and fine tuned to deal with and minimise these false positives.\n",
    "\n",
    "**Generative Model (DCGAN)**\n",
    "\n",
    "We also trialled a Generative model, a DCGAN.  At present, medical image generation has proven to be visually effective, but the quality of generated images still uses traditional evaluation indexes, such PSNR (55.4 in our case). However, these evaluation indexes are not objective enough to evaluate the quality of medical image generation. \n",
    "\n",
    "The interpretation of an image may also affect the life of the patient, so many technologies that are good in other areas for similar purposes may not be applicable in this medical field. Sometimes even a normal medical image will not be given enough trust by doctors, and multi-level detection is still needed. In this context, currently there is no reason for doctors to give trust to images generated by GAN or DCGAN.  Additionaly, the quality of existing medical datasets is spotty, and some are old and scattered. For some tasks, such as the transformation between MRI and CT images, it is difficult to find relevant images of a certain scale. Most researchers collect them by themselves through hospitals which is very time consuming [13]\n",
    "\n",
    "*Future Research*\n",
    "\n",
    "When fully deployed and fine tuned, this neural network (CNN) could be utilised as a second opinion in a healthcare environment, where healthcare staff are overworked and patients face a huge backlog in screenings/ appointments [19].  \n",
    "\n",
    "Thus, our CNN model is suitable and deemed fit for predicting the latter stages of alzheimers disease."
   ]
  },
  {
   "cell_type": "markdown",
   "metadata": {
    "id": "PItlQRDNxPuT"
   },
   "source": [
    "### References:\n",
    "\n",
    "1.Alzheimers Society, United Against Dementia - Alzheimer's disease\n",
    "https://www.alzheimers.org.uk/about-dementia/types-dementia/alzheimers-disease\n",
    "\n",
    "2.Detection of Alzheimers Disease from MRI using Convolutional Neural Networks, Exploring Transfer Learning And BellCNN\n",
    "https://arxiv.org/pdf/1901.10231.pdf\n",
    "\n",
    "3.Alzheimer’s Disease – Why We Need Early Diagnosis\n",
    "https://www.ncbi.nlm.nih.gov/pmc/articles/PMC6935598/\n",
    "\n",
    "4.Brain Imaging in Alzheimer Disease\n",
    "https://www.ncbi.nlm.nih.gov/pmc/articles/PMC3312396/\n",
    "\n",
    "5.Early Detection of Alzheimer’s Disease Using Magnetic Resonance Imaging: A Novel Approach Combining Convolutional Neural Networks and Ensemble Learning\n",
    "https://www.frontiersin.org/articles/10.3389/fnins.2020.00259/full\n",
    "\n",
    "6.Alzheimer's Disease Brain Comparison, illustrated by Evan Oto\n",
    "https://www.alamy.com/alzheimers-disease-brain-comparison-image353184441.html?imageid=D1C13FD4-68AB-40B0-BED5-C57FAB65068C&p=307549&pn=1&searchId=63fa9b7cef7efb165bf4f1d361fe84fa&searchtype=0\n",
    "\n",
    "7.Alzheimer MRI Preprocessed Dataset\n",
    "https://www.kaggle.com/datasets/sachinkumar413/alzheimer-mri-dataset\n",
    "\n",
    "8.How to train neural networks for image classification — Part 2\n",
    "https://sandy-lee.medium.com/how-to-train-neural-networks-for-image-classification-part-2-c9935445c562\n",
    "\n",
    "9.Deep Learning with Python (Francois Chollet), Chapter 4.4 (Overfitting and Underfitting)\n",
    "\n",
    "10.Deep Learning with Python (Francois Chollet), Part 2, Chapter 5 (Deep learning for computer vision)\n",
    "\n",
    "11.Evaluating Machine Learning Models \n",
    "https://medium.datadriveninvestor.com/evaluating-machine-learning-models-8e2193c2b237\n",
    "\n",
    "12.Deep Learning with Python (Francois Chollet), Chapter 4 (Fundamentals of Machine Learning)\n",
    "\n",
    "13.When medical images meet generative adversarial network: recent development and research opportunities\n",
    "https://link.springer.com/article/10.1007/s44163-021-00006-0\n",
    "\n",
    "14.Deep Convolutional Generative Adversarial Network - Tutorial\n",
    "https://www.tensorflow.org/tutorials/generative/dcgan\n",
    "\n",
    "15.DCGAN: Deep Convolutional Generarative Adverisial Network\n",
    "https://medium.com/swlh/dcgan-deep-convolutional-generative-adversarial-network-1a2e55c35133#:~:text=DCGAN%20is%20used%20to%20generate,get%20better%20at%20the%20game.\n",
    "\n",
    "16.Our Summer of Code Project on TF-GAN (Evaluation metric for DCGAN)\n",
    "https://blog.tensorflow.org/2022/01/summer-of-code.html\n",
    "\n",
    "17.How to Evaluate Generative Adversarial Networks\n",
    "https://machinelearningmastery.com/how-to-evaluate-generative-adversarial-networks/\n",
    "\n",
    "18.Deep Learning with Python (Francois Chollet), Chapter 8.5 (Introduction to Generative Adversial Networks)\n",
    "\n",
    "19.Health and Social Care Committee: Clearing the backlog caused by the pandemic - Alzheimer's Society responds\n",
    "https://www.alzheimers.org.uk/news/2022-01-06/health-social-care-committee-backlog-caused-coronavirus-dementia\n",
    "\n",
    "20.HealthyData - Neural Networks - Prediction of Alzheimers Disease - Part 1\n"
   ]
  }
 ],
 "metadata": {
  "accelerator": "GPU",
  "colab": {
   "provenance": []
  },
  "gpuClass": "standard",
  "kernelspec": {
   "display_name": "Python 3 (ipykernel)",
   "language": "python",
   "name": "python3"
  },
  "language_info": {
   "codemirror_mode": {
    "name": "ipython",
    "version": 3
   },
   "file_extension": ".py",
   "mimetype": "text/x-python",
   "name": "python",
   "nbconvert_exporter": "python",
   "pygments_lexer": "ipython3",
   "version": "3.8.16"
  }
 },
 "nbformat": 4,
 "nbformat_minor": 4
}
